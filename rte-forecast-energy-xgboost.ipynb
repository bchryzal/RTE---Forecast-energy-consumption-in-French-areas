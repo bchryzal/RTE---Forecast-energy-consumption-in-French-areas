{
 "cells": [
  {
   "cell_type": "markdown",
   "id": "afd64376",
   "metadata": {
    "papermill": {
     "duration": 0.007448,
     "end_time": "2022-06-24T14:37:51.457903",
     "exception": false,
     "start_time": "2022-06-24T14:37:51.450455",
     "status": "completed"
    },
    "tags": []
   },
   "source": [
    "# RTE - Forecast energy consumption in French areas\n",
    "**Prediction of the energy consumption in French metropolitan areas**"
   ]
  },
  {
   "cell_type": "code",
   "execution_count": 1,
   "id": "da311871",
   "metadata": {
    "_cell_guid": "b1076dfc-b9ad-4769-8c92-a6c4dae69d19",
    "_kg_hide-input": true,
    "_kg_hide-output": true,
    "_uuid": "8f2839f25d086af736a60e9eeb907d3b93b6e0e5",
    "execution": {
     "iopub.execute_input": "2022-06-24T14:37:51.472481Z",
     "iopub.status.busy": "2022-06-24T14:37:51.471975Z",
     "iopub.status.idle": "2022-06-24T14:37:52.715223Z",
     "shell.execute_reply": "2022-06-24T14:37:52.714219Z"
    },
    "papermill": {
     "duration": 1.253686,
     "end_time": "2022-06-24T14:37:52.717857",
     "exception": false,
     "start_time": "2022-06-24T14:37:51.464171",
     "status": "completed"
    },
    "tags": []
   },
   "outputs": [],
   "source": [
    "import numpy as np # linear algebra\n",
    "import pandas as pd # data processing, CSV file I/O (e.g. pd.read_csv)\n",
    "import gc\n",
    "import xgboost as xgb"
   ]
  },
  {
   "cell_type": "code",
   "execution_count": 2,
   "id": "80daf29b",
   "metadata": {
    "execution": {
     "iopub.execute_input": "2022-06-24T14:37:52.733179Z",
     "iopub.status.busy": "2022-06-24T14:37:52.732833Z",
     "iopub.status.idle": "2022-06-24T14:37:53.603532Z",
     "shell.execute_reply": "2022-06-24T14:37:53.602646Z"
    },
    "papermill": {
     "duration": 0.881442,
     "end_time": "2022-06-24T14:37:53.606070",
     "exception": false,
     "start_time": "2022-06-24T14:37:52.724628",
     "status": "completed"
    },
    "tags": []
   },
   "outputs": [
    {
     "data": {
      "text/plain": [
       "((717414, 12), (60870, 11))"
      ]
     },
     "execution_count": 2,
     "metadata": {},
     "output_type": "execute_result"
    }
   ],
   "source": [
    "train = pd.read_csv(\"../input/rte-forecast-energy-evalml/rte_train_preprocessing.csv\")\n",
    "test = pd.read_csv(\"../input/rte-forecast-energy-evalml/rte_test_preprocessing.csv\")\n",
    "\n",
    "train.shape, test.shape"
   ]
  },
  {
   "cell_type": "code",
   "execution_count": 3,
   "id": "a140f646",
   "metadata": {
    "execution": {
     "iopub.execute_input": "2022-06-24T14:37:53.620160Z",
     "iopub.status.busy": "2022-06-24T14:37:53.619315Z",
     "iopub.status.idle": "2022-06-24T14:37:53.638687Z",
     "shell.execute_reply": "2022-06-24T14:37:53.637473Z"
    },
    "papermill": {
     "duration": 0.028991,
     "end_time": "2022-06-24T14:37:53.641205",
     "exception": false,
     "start_time": "2022-06-24T14:37:53.612214",
     "status": "completed"
    },
    "tags": []
   },
   "outputs": [
    {
     "data": {
      "text/html": [
       "<div>\n",
       "<style scoped>\n",
       "    .dataframe tbody tr th:only-of-type {\n",
       "        vertical-align: middle;\n",
       "    }\n",
       "\n",
       "    .dataframe tbody tr th {\n",
       "        vertical-align: top;\n",
       "    }\n",
       "\n",
       "    .dataframe thead th {\n",
       "        text-align: right;\n",
       "    }\n",
       "</style>\n",
       "<table border=\"1\" class=\"dataframe\">\n",
       "  <thead>\n",
       "    <tr style=\"text-align: right;\">\n",
       "      <th></th>\n",
       "      <th>metropolitan_area_code</th>\n",
       "      <th>energy_consumption</th>\n",
       "      <th>dateyear</th>\n",
       "      <th>datequarter</th>\n",
       "      <th>datemonth</th>\n",
       "      <th>dateday</th>\n",
       "      <th>dateday_of_week</th>\n",
       "      <th>dateday_of_year</th>\n",
       "      <th>dateweekofyear</th>\n",
       "      <th>datehour</th>\n",
       "      <th>dateminute</th>\n",
       "      <th>dateis_weekend</th>\n",
       "    </tr>\n",
       "  </thead>\n",
       "  <tbody>\n",
       "    <tr>\n",
       "      <th>0</th>\n",
       "      <td>3</td>\n",
       "      <td>477.0</td>\n",
       "      <td>2017</td>\n",
       "      <td>3</td>\n",
       "      <td>9</td>\n",
       "      <td>11</td>\n",
       "      <td>0</td>\n",
       "      <td>254</td>\n",
       "      <td>37</td>\n",
       "      <td>2</td>\n",
       "      <td>15</td>\n",
       "      <td>0</td>\n",
       "    </tr>\n",
       "    <tr>\n",
       "      <th>1</th>\n",
       "      <td>3</td>\n",
       "      <td>454.0</td>\n",
       "      <td>2017</td>\n",
       "      <td>3</td>\n",
       "      <td>9</td>\n",
       "      <td>11</td>\n",
       "      <td>0</td>\n",
       "      <td>254</td>\n",
       "      <td>37</td>\n",
       "      <td>2</td>\n",
       "      <td>30</td>\n",
       "      <td>0</td>\n",
       "    </tr>\n",
       "    <tr>\n",
       "      <th>2</th>\n",
       "      <td>3</td>\n",
       "      <td>398.0</td>\n",
       "      <td>2017</td>\n",
       "      <td>3</td>\n",
       "      <td>9</td>\n",
       "      <td>11</td>\n",
       "      <td>0</td>\n",
       "      <td>254</td>\n",
       "      <td>37</td>\n",
       "      <td>3</td>\n",
       "      <td>45</td>\n",
       "      <td>0</td>\n",
       "    </tr>\n",
       "    <tr>\n",
       "      <th>3</th>\n",
       "      <td>3</td>\n",
       "      <td>398.0</td>\n",
       "      <td>2017</td>\n",
       "      <td>3</td>\n",
       "      <td>9</td>\n",
       "      <td>11</td>\n",
       "      <td>0</td>\n",
       "      <td>254</td>\n",
       "      <td>37</td>\n",
       "      <td>4</td>\n",
       "      <td>45</td>\n",
       "      <td>0</td>\n",
       "    </tr>\n",
       "    <tr>\n",
       "      <th>4</th>\n",
       "      <td>3</td>\n",
       "      <td>409.0</td>\n",
       "      <td>2017</td>\n",
       "      <td>3</td>\n",
       "      <td>9</td>\n",
       "      <td>11</td>\n",
       "      <td>0</td>\n",
       "      <td>254</td>\n",
       "      <td>37</td>\n",
       "      <td>5</td>\n",
       "      <td>15</td>\n",
       "      <td>0</td>\n",
       "    </tr>\n",
       "  </tbody>\n",
       "</table>\n",
       "</div>"
      ],
      "text/plain": [
       "   metropolitan_area_code  energy_consumption  dateyear  datequarter  \\\n",
       "0                       3               477.0      2017            3   \n",
       "1                       3               454.0      2017            3   \n",
       "2                       3               398.0      2017            3   \n",
       "3                       3               398.0      2017            3   \n",
       "4                       3               409.0      2017            3   \n",
       "\n",
       "   datemonth  dateday  dateday_of_week  dateday_of_year  dateweekofyear  \\\n",
       "0          9       11                0              254              37   \n",
       "1          9       11                0              254              37   \n",
       "2          9       11                0              254              37   \n",
       "3          9       11                0              254              37   \n",
       "4          9       11                0              254              37   \n",
       "\n",
       "   datehour  dateminute  dateis_weekend  \n",
       "0         2          15               0  \n",
       "1         2          30               0  \n",
       "2         3          45               0  \n",
       "3         4          45               0  \n",
       "4         5          15               0  "
      ]
     },
     "execution_count": 3,
     "metadata": {},
     "output_type": "execute_result"
    }
   ],
   "source": [
    "train.head()"
   ]
  },
  {
   "cell_type": "code",
   "execution_count": 4,
   "id": "02f29866",
   "metadata": {
    "execution": {
     "iopub.execute_input": "2022-06-24T14:37:53.655768Z",
     "iopub.status.busy": "2022-06-24T14:37:53.655496Z",
     "iopub.status.idle": "2022-06-24T14:37:53.675146Z",
     "shell.execute_reply": "2022-06-24T14:37:53.674145Z"
    },
    "papermill": {
     "duration": 0.029151,
     "end_time": "2022-06-24T14:37:53.677212",
     "exception": false,
     "start_time": "2022-06-24T14:37:53.648061",
     "status": "completed"
    },
    "tags": []
   },
   "outputs": [
    {
     "data": {
      "text/plain": [
       "(False, False)"
      ]
     },
     "execution_count": 4,
     "metadata": {},
     "output_type": "execute_result"
    }
   ],
   "source": [
    "train.isna().sum().any(), test.isna().sum().any()"
   ]
  },
  {
   "cell_type": "markdown",
   "id": "3199e030",
   "metadata": {
    "papermill": {
     "duration": 0.006303,
     "end_time": "2022-06-24T14:37:53.689940",
     "exception": false,
     "start_time": "2022-06-24T14:37:53.683637",
     "status": "completed"
    },
    "tags": []
   },
   "source": [
    "# Split Data"
   ]
  },
  {
   "cell_type": "code",
   "execution_count": 5,
   "id": "6f16bf01",
   "metadata": {
    "execution": {
     "iopub.execute_input": "2022-06-24T14:37:53.703873Z",
     "iopub.status.busy": "2022-06-24T14:37:53.703583Z",
     "iopub.status.idle": "2022-06-24T14:37:53.738636Z",
     "shell.execute_reply": "2022-06-24T14:37:53.737700Z"
    },
    "papermill": {
     "duration": 0.044605,
     "end_time": "2022-06-24T14:37:53.740946",
     "exception": false,
     "start_time": "2022-06-24T14:37:53.696341",
     "status": "completed"
    },
    "tags": []
   },
   "outputs": [],
   "source": [
    "X = train.copy()\n",
    "y = X.pop(\"energy_consumption\")"
   ]
  },
  {
   "cell_type": "code",
   "execution_count": 6,
   "id": "c35d18db",
   "metadata": {
    "execution": {
     "iopub.execute_input": "2022-06-24T14:37:53.755356Z",
     "iopub.status.busy": "2022-06-24T14:37:53.755077Z",
     "iopub.status.idle": "2022-06-24T14:37:53.896503Z",
     "shell.execute_reply": "2022-06-24T14:37:53.895472Z"
    },
    "papermill": {
     "duration": 0.151561,
     "end_time": "2022-06-24T14:37:53.899051",
     "exception": false,
     "start_time": "2022-06-24T14:37:53.747490",
     "status": "completed"
    },
    "tags": []
   },
   "outputs": [],
   "source": [
    "from sklearn.model_selection import train_test_split\n",
    "\n",
    "_, X_test, _, y_test = train_test_split(X, y, test_size=0.33, random_state=42)"
   ]
  },
  {
   "cell_type": "markdown",
   "id": "e132ef3e",
   "metadata": {
    "papermill": {
     "duration": 0.006532,
     "end_time": "2022-06-24T14:37:53.912240",
     "exception": false,
     "start_time": "2022-06-24T14:37:53.905708",
     "status": "completed"
    },
    "tags": []
   },
   "source": [
    "# Modeling : XGBoost"
   ]
  },
  {
   "cell_type": "code",
   "execution_count": 7,
   "id": "474051f8",
   "metadata": {
    "execution": {
     "iopub.execute_input": "2022-06-24T14:37:53.929066Z",
     "iopub.status.busy": "2022-06-24T14:37:53.927267Z",
     "iopub.status.idle": "2022-06-24T14:37:53.933588Z",
     "shell.execute_reply": "2022-06-24T14:37:53.932722Z"
    },
    "papermill": {
     "duration": 0.016994,
     "end_time": "2022-06-24T14:37:53.935696",
     "exception": false,
     "start_time": "2022-06-24T14:37:53.918702",
     "status": "completed"
    },
    "tags": []
   },
   "outputs": [],
   "source": [
    "params = {'max_depth': 15, 'n_estimators': 7180, 'random_state': 469, 'learning_rate': 0.6631441798001734, 'objective':'reg:squarederror'}\n",
    "y_predict = []"
   ]
  },
  {
   "cell_type": "code",
   "execution_count": 8,
   "id": "40f02277",
   "metadata": {
    "execution": {
     "iopub.execute_input": "2022-06-24T14:37:53.952508Z",
     "iopub.status.busy": "2022-06-24T14:37:53.950986Z",
     "iopub.status.idle": "2022-06-24T14:50:14.239200Z",
     "shell.execute_reply": "2022-06-24T14:50:14.238278Z"
    },
    "papermill": {
     "duration": 740.298848,
     "end_time": "2022-06-24T14:50:14.241922",
     "exception": false,
     "start_time": "2022-06-24T14:37:53.943074",
     "status": "completed"
    },
    "tags": []
   },
   "outputs": [],
   "source": [
    "model = xgb.XGBRegressor(**params, tree_method='gpu_hist')\n",
    "\n",
    "model.fit(X, y)\n",
    "\n",
    "pred = model.predict(X_test)\n",
    "y_predict.append(model.predict(test))\n",
    "\n",
    "#model.score(X,y)"
   ]
  },
  {
   "cell_type": "code",
   "execution_count": 9,
   "id": "b05a5ceb",
   "metadata": {
    "_kg_hide-input": true,
    "_kg_hide-output": true,
    "execution": {
     "iopub.execute_input": "2022-06-24T14:50:14.258584Z",
     "iopub.status.busy": "2022-06-24T14:50:14.258282Z",
     "iopub.status.idle": "2022-06-24T14:50:14.265020Z",
     "shell.execute_reply": "2022-06-24T14:50:14.264022Z"
    },
    "papermill": {
     "duration": 0.017178,
     "end_time": "2022-06-24T14:50:14.267449",
     "exception": false,
     "start_time": "2022-06-24T14:50:14.250271",
     "status": "completed"
    },
    "tags": []
   },
   "outputs": [],
   "source": [
    "import math\n",
    "from sklearn.metrics import r2_score, mean_squared_error, mean_absolute_error\n",
    "\n",
    "def evaluates_model(y_test, y_pred):\n",
    "    print(\"-\"*12, \"Evaluations : \", \"-\"*12, '\\n')\n",
    "    \n",
    "    print(\"MAE model :\", mean_absolute_error(y_test, y_pred))\n",
    "    \n",
    "    print(\"MSE model :\", mean_squared_error(y_test, y_pred))\n",
    "    \n",
    "    print(\"R2_Score model :\", r2_score(y_test, y_pred))\n",
    "    \n",
    "    mse_1 = np.square(np.subtract(y_test,y_pred)).mean() \n",
    "    \n",
    "    print(\"RMSE model :\", math.sqrt(mse_1))"
   ]
  },
  {
   "cell_type": "code",
   "execution_count": 10,
   "id": "8d61ee58",
   "metadata": {
    "execution": {
     "iopub.execute_input": "2022-06-24T14:50:14.281967Z",
     "iopub.status.busy": "2022-06-24T14:50:14.281146Z",
     "iopub.status.idle": "2022-06-24T14:50:14.294339Z",
     "shell.execute_reply": "2022-06-24T14:50:14.292847Z"
    },
    "papermill": {
     "duration": 0.022734,
     "end_time": "2022-06-24T14:50:14.296341",
     "exception": false,
     "start_time": "2022-06-24T14:50:14.273607",
     "status": "completed"
    },
    "tags": []
   },
   "outputs": [
    {
     "name": "stdout",
     "output_type": "stream",
     "text": [
      "------------ Evaluations :  ------------ \n",
      "\n",
      "MAE model : 0.002251233380959723\n",
      "MSE model : 1.7298926454589016e-05\n",
      "R2_Score model : 0.999999999986824\n",
      "RMSE model : 0.004159197813832496\n"
     ]
    }
   ],
   "source": [
    "evaluates_model(y_test, pred)"
   ]
  },
  {
   "cell_type": "markdown",
   "id": "f8eb13cf",
   "metadata": {
    "papermill": {
     "duration": 0.006086,
     "end_time": "2022-06-24T14:50:14.308843",
     "exception": false,
     "start_time": "2022-06-24T14:50:14.302757",
     "status": "completed"
    },
    "tags": []
   },
   "source": [
    "### Features Importance"
   ]
  },
  {
   "cell_type": "code",
   "execution_count": 11,
   "id": "ffad4431",
   "metadata": {
    "execution": {
     "iopub.execute_input": "2022-06-24T14:50:14.322646Z",
     "iopub.status.busy": "2022-06-24T14:50:14.322379Z",
     "iopub.status.idle": "2022-06-24T14:50:14.830418Z",
     "shell.execute_reply": "2022-06-24T14:50:14.829499Z"
    },
    "papermill": {
     "duration": 0.517427,
     "end_time": "2022-06-24T14:50:14.832532",
     "exception": false,
     "start_time": "2022-06-24T14:50:14.315105",
     "status": "completed"
    },
    "tags": []
   },
   "outputs": [
    {
     "data": {
      "text/plain": [
       "<AxesSubplot:>"
      ]
     },
     "execution_count": 11,
     "metadata": {},
     "output_type": "execute_result"
    },
    {
     "data": {
      "image/png": "[encoded data removed]",
      "text/plain": [
       "<Figure size 1296x720 with 1 Axes>"
      ]
     },
     "metadata": {
      "needs_background": "light"
     },
     "output_type": "display_data"
    }
   ],
   "source": [
    "feature_important = model.get_booster().get_score(importance_type='weight')\n",
    "keys = list(feature_important.keys())\n",
    "values = list(feature_important.values())\n",
    "\n",
    "data = pd.DataFrame(data=values, index=keys, columns=[\"score\"]).sort_values(by = \"score\", ascending=False)\n",
    "data.nlargest(X.shape[1], columns=\"score\").plot(kind='barh', figsize = (18,10)) ## plot top 40 features"
   ]
  },
  {
   "cell_type": "markdown",
   "id": "0ac1451f",
   "metadata": {
    "papermill": {
     "duration": 0.006881,
     "end_time": "2022-06-24T14:50:14.846818",
     "exception": false,
     "start_time": "2022-06-24T14:50:14.839937",
     "status": "completed"
    },
    "tags": []
   },
   "source": [
    "# Search Best Params with Optuna"
   ]
  },
  {
   "cell_type": "code",
   "execution_count": 12,
   "id": "7485be5d",
   "metadata": {
    "_kg_hide-input": true,
    "_kg_hide-output": true,
    "execution": {
     "iopub.execute_input": "2022-06-24T14:50:14.863086Z",
     "iopub.status.busy": "2022-06-24T14:50:14.861490Z",
     "iopub.status.idle": "2022-06-24T14:50:14.869108Z",
     "shell.execute_reply": "2022-06-24T14:50:14.868267Z"
    },
    "papermill": {
     "duration": 0.016928,
     "end_time": "2022-06-24T14:50:14.870983",
     "exception": false,
     "start_time": "2022-06-24T14:50:14.854055",
     "status": "completed"
    },
    "tags": []
   },
   "outputs": [],
   "source": [
    "import optuna\n",
    "#optuna.logging.set_verbosity(optuna.logging.WARNING)\n",
    "\n",
    "def objectivesXGBReg(trial):\n",
    "    params = {\n",
    "        'max_depth' : trial.suggest_int(\"max_depth\", 1, 16),\n",
    "        'n_estimators': trial.suggest_int('n_estimators', 5, 10000),\n",
    "        'random_state': trial.suggest_int(\"random_state\", 0, 722),\n",
    "        'learning_rate': trial.suggest_float('learning_rate', 0, 1),\n",
    "        'subsample': trial.suggest_float('subsample', 0, 1),\n",
    "        'colsample_bytree': trial.suggest_float('colsample_bytree', 0, 1), \n",
    "        'tree_method' : 'gpu_hist', \n",
    "        'gpu_id': -1\n",
    "    }\n",
    "\n",
    "    model = xgb.XGBRegressor(**params)\n",
    "    model.fit(X,y)\n",
    "\n",
    "    return model.score(X,y)\n",
    "\n",
    "#opt = optuna.create_study(direction='maximize')\n",
    "#opt.optimize(objectivesXGBReg, n_trials=30)"
   ]
  },
  {
   "cell_type": "code",
   "execution_count": 13,
   "id": "62121eb5",
   "metadata": {
    "_kg_hide-input": true,
    "_kg_hide-output": true,
    "execution": {
     "iopub.execute_input": "2022-06-24T14:50:14.887482Z",
     "iopub.status.busy": "2022-06-24T14:50:14.885958Z",
     "iopub.status.idle": "2022-06-24T14:50:15.028710Z",
     "shell.execute_reply": "2022-06-24T14:50:15.027498Z"
    },
    "papermill": {
     "duration": 0.153363,
     "end_time": "2022-06-24T14:50:15.031219",
     "exception": false,
     "start_time": "2022-06-24T14:50:14.877856",
     "status": "completed"
    },
    "tags": []
   },
   "outputs": [
    {
     "data": {
      "text/plain": [
       "82"
      ]
     },
     "execution_count": 13,
     "metadata": {},
     "output_type": "execute_result"
    }
   ],
   "source": [
    "del X_test, y_test, #train\n",
    "gc.collect()"
   ]
  },
  {
   "cell_type": "code",
   "execution_count": 14,
   "id": "7dbb7167",
   "metadata": {
    "_kg_hide-input": true,
    "_kg_hide-output": true,
    "execution": {
     "iopub.execute_input": "2022-06-24T14:50:15.047287Z",
     "iopub.status.busy": "2022-06-24T14:50:15.046983Z",
     "iopub.status.idle": "2022-06-24T14:50:15.053286Z",
     "shell.execute_reply": "2022-06-24T14:50:15.052243Z"
    },
    "papermill": {
     "duration": 0.016381,
     "end_time": "2022-06-24T14:50:15.055236",
     "exception": false,
     "start_time": "2022-06-24T14:50:15.038855",
     "status": "completed"
    },
    "tags": []
   },
   "outputs": [
    {
     "data": {
      "text/plain": [
       "{'max_depth': 15,\n",
       " 'n_estimators': 7180,\n",
       " 'random_state': 469,\n",
       " 'learning_rate': 0.6631441798001734,\n",
       " 'objective': 'reg:squarederror'}"
      ]
     },
     "execution_count": 14,
     "metadata": {},
     "output_type": "execute_result"
    }
   ],
   "source": [
    "#params = opt.best_params\n",
    "params "
   ]
  },
  {
   "cell_type": "markdown",
   "id": "65144836",
   "metadata": {
    "papermill": {
     "duration": 0.006951,
     "end_time": "2022-06-24T14:50:15.069354",
     "exception": false,
     "start_time": "2022-06-24T14:50:15.062403",
     "status": "completed"
    },
    "tags": []
   },
   "source": [
    "# Cross Validation"
   ]
  },
  {
   "cell_type": "code",
   "execution_count": 15,
   "id": "93f471fb",
   "metadata": {
    "execution": {
     "iopub.execute_input": "2022-06-24T14:50:15.086030Z",
     "iopub.status.busy": "2022-06-24T14:50:15.085150Z",
     "iopub.status.idle": "2022-06-24T14:50:15.089824Z",
     "shell.execute_reply": "2022-06-24T14:50:15.088841Z"
    },
    "papermill": {
     "duration": 0.015224,
     "end_time": "2022-06-24T14:50:15.091777",
     "exception": false,
     "start_time": "2022-06-24T14:50:15.076553",
     "status": "completed"
    },
    "tags": []
   },
   "outputs": [],
   "source": [
    "from sklearn.model_selection import StratifiedKFold"
   ]
  },
  {
   "cell_type": "code",
   "execution_count": 16,
   "id": "7e6429c4",
   "metadata": {
    "_kg_hide-output": true,
    "execution": {
     "iopub.execute_input": "2022-06-24T14:50:15.108195Z",
     "iopub.status.busy": "2022-06-24T14:50:15.107409Z",
     "iopub.status.idle": "2022-06-24T15:37:15.965823Z",
     "shell.execute_reply": "2022-06-24T15:37:15.964705Z"
    },
    "papermill": {
     "duration": 2820.875653,
     "end_time": "2022-06-24T15:37:15.975060",
     "exception": false,
     "start_time": "2022-06-24T14:50:15.099407",
     "status": "completed"
    },
    "tags": []
   },
   "outputs": [
    {
     "name": "stderr",
     "output_type": "stream",
     "text": [
      "/opt/conda/lib/python3.7/site-packages/sklearn/model_selection/_split.py:680: UserWarning: The least populated class in y has only 1 members, which is less than n_splits=5.\n",
      "  UserWarning,\n"
     ]
    },
    {
     "name": "stdout",
     "output_type": "stream",
     "text": [
      "##############  Fold 0  ############## \n",
      "\n",
      "Training score : 0.9999999999892604\n",
      "------------ Evaluations :  ------------ \n",
      "\n",
      "MAE model : 18.852462619395602\n",
      "MSE model : 1474.548271792102\n",
      "R2_Score model : 0.9988701869245378\n",
      "RMSE model : 38.399847288656005\n",
      "\n",
      "\n",
      "##############  Fold 1  ############## \n",
      "\n",
      "Training score : 0.9999999999825964\n",
      "------------ Evaluations :  ------------ \n",
      "\n",
      "MAE model : 18.823280169400984\n",
      "MSE model : 1460.7799800181951\n",
      "R2_Score model : 0.9988806617297987\n",
      "RMSE model : 38.220151491303575\n",
      "\n",
      "\n",
      "##############  Fold 2  ############## \n",
      "\n",
      "Training score : 0.999999999985827\n",
      "------------ Evaluations :  ------------ \n",
      "\n",
      "MAE model : 18.580968424748885\n",
      "MSE model : 1423.1221488968888\n",
      "R2_Score model : 0.9989101047982493\n",
      "RMSE model : 37.72429123120657\n",
      "\n",
      "\n",
      "##############  Fold 3  ############## \n",
      "\n",
      "Training score : 0.9999999999893104\n",
      "------------ Evaluations :  ------------ \n",
      "\n",
      "MAE model : 18.969663734580656\n",
      "MSE model : 1546.7636630554393\n",
      "R2_Score model : 0.9988141685620151\n",
      "RMSE model : 39.3289163727586\n",
      "\n",
      "\n",
      "##############  Fold 4  ############## \n",
      "\n",
      "Training score : 0.9999999999868704\n",
      "------------ Evaluations :  ------------ \n",
      "\n",
      "MAE model : 19.129853150644543\n",
      "MSE model : 1679.7064168402778\n",
      "R2_Score model : 0.9987120552486143\n",
      "RMSE model : 40.98422155952554\n",
      "\n",
      "\n"
     ]
    }
   ],
   "source": [
    "kf = StratifiedKFold(n_splits=5, shuffle=True, random_state = 0)\n",
    "\n",
    "for fold, (train_index, val_index) in enumerate(kf.split(X, y)):\n",
    "        print('#'*14, f\" Fold {fold} \", '#'*14, '\\n')\n",
    "        \n",
    "        # Split Data\n",
    "        X_train = X.loc[train_index]\n",
    "        X_val = X.loc[val_index]\n",
    "\n",
    "        y_train = y.loc[train_index]\n",
    "        y_val = y.loc[val_index]\n",
    "        \n",
    "        # Create Model here\n",
    "        model = xgb.XGBRegressor(**params, tree_method='gpu_hist')\n",
    "        \n",
    "        # Fit Model\n",
    "        model.fit(X_train,y_train)\n",
    "\n",
    "        # Make X_val prediction\n",
    "        y_pred = model.predict(X_val)\n",
    "        \n",
    "        # Make Test prediction\n",
    "        y_predict.append(model.predict(test))\n",
    "        \n",
    "        # Evaluate Model\n",
    "        print(\"Training score :\", model.score(X_train, y_train))\n",
    "        evaluates_model(y_val, y_pred)\n",
    "        print('\\n')\n",
    "        \n",
    "        # Free the memory\n",
    "        del X_train, y_train, model, X_val, y_val, y_pred\n",
    "        gc.collect()"
   ]
  },
  {
   "cell_type": "code",
   "execution_count": null,
   "id": "2ad5976c",
   "metadata": {
    "papermill": {
     "duration": 0.011948,
     "end_time": "2022-06-24T15:37:15.999279",
     "exception": false,
     "start_time": "2022-06-24T15:37:15.987331",
     "status": "completed"
    },
    "tags": []
   },
   "outputs": [],
   "source": []
  },
  {
   "cell_type": "markdown",
   "id": "879026eb",
   "metadata": {
    "papermill": {
     "duration": 0.012691,
     "end_time": "2022-06-24T15:37:16.023769",
     "exception": false,
     "start_time": "2022-06-24T15:37:16.011078",
     "status": "completed"
    },
    "tags": []
   },
   "source": [
    "# Submission"
   ]
  },
  {
   "cell_type": "code",
   "execution_count": 17,
   "id": "1bd87a99",
   "metadata": {
    "execution": {
     "iopub.execute_input": "2022-06-24T15:37:16.049593Z",
     "iopub.status.busy": "2022-06-24T15:37:16.049192Z",
     "iopub.status.idle": "2022-06-24T15:37:16.189846Z",
     "shell.execute_reply": "2022-06-24T15:37:16.188759Z"
    },
    "papermill": {
     "duration": 0.156415,
     "end_time": "2022-06-24T15:37:16.192548",
     "exception": false,
     "start_time": "2022-06-24T15:37:16.036133",
     "status": "completed"
    },
    "tags": []
   },
   "outputs": [
    {
     "data": {
      "text/html": [
       "<div>\n",
       "<style scoped>\n",
       "    .dataframe tbody tr th:only-of-type {\n",
       "        vertical-align: middle;\n",
       "    }\n",
       "\n",
       "    .dataframe tbody tr th {\n",
       "        vertical-align: top;\n",
       "    }\n",
       "\n",
       "    .dataframe thead th {\n",
       "        text-align: right;\n",
       "    }\n",
       "</style>\n",
       "<table border=\"1\" class=\"dataframe\">\n",
       "  <thead>\n",
       "    <tr style=\"text-align: right;\">\n",
       "      <th></th>\n",
       "      <th>id</th>\n",
       "      <th>energy_consumption</th>\n",
       "    </tr>\n",
       "  </thead>\n",
       "  <tbody>\n",
       "    <tr>\n",
       "      <th>0</th>\n",
       "      <td>0</td>\n",
       "      <td>100.01</td>\n",
       "    </tr>\n",
       "    <tr>\n",
       "      <th>1</th>\n",
       "      <td>1</td>\n",
       "      <td>100.01</td>\n",
       "    </tr>\n",
       "    <tr>\n",
       "      <th>2</th>\n",
       "      <td>2</td>\n",
       "      <td>100.01</td>\n",
       "    </tr>\n",
       "    <tr>\n",
       "      <th>3</th>\n",
       "      <td>3</td>\n",
       "      <td>100.01</td>\n",
       "    </tr>\n",
       "    <tr>\n",
       "      <th>4</th>\n",
       "      <td>4</td>\n",
       "      <td>100.01</td>\n",
       "    </tr>\n",
       "  </tbody>\n",
       "</table>\n",
       "</div>"
      ],
      "text/plain": [
       "   id  energy_consumption\n",
       "0   0              100.01\n",
       "1   1              100.01\n",
       "2   2              100.01\n",
       "3   3              100.01\n",
       "4   4              100.01"
      ]
     },
     "execution_count": 17,
     "metadata": {},
     "output_type": "execute_result"
    }
   ],
   "source": [
    "sub = pd.read_csv(\"../input/rte-forecast-energy-consumption-in-french-areas/sample_submission.csv\")\n",
    "sub.head()"
   ]
  },
  {
   "cell_type": "code",
   "execution_count": 18,
   "id": "bfba5db5",
   "metadata": {
    "execution": {
     "iopub.execute_input": "2022-06-24T15:37:16.209846Z",
     "iopub.status.busy": "2022-06-24T15:37:16.209543Z",
     "iopub.status.idle": "2022-06-24T15:37:16.222832Z",
     "shell.execute_reply": "2022-06-24T15:37:16.221797Z"
    },
    "papermill": {
     "duration": 0.024576,
     "end_time": "2022-06-24T15:37:16.225164",
     "exception": false,
     "start_time": "2022-06-24T15:37:16.200588",
     "status": "completed"
    },
    "tags": []
   },
   "outputs": [
    {
     "data": {
      "text/html": [
       "<div>\n",
       "<style scoped>\n",
       "    .dataframe tbody tr th:only-of-type {\n",
       "        vertical-align: middle;\n",
       "    }\n",
       "\n",
       "    .dataframe tbody tr th {\n",
       "        vertical-align: top;\n",
       "    }\n",
       "\n",
       "    .dataframe thead th {\n",
       "        text-align: right;\n",
       "    }\n",
       "</style>\n",
       "<table border=\"1\" class=\"dataframe\">\n",
       "  <thead>\n",
       "    <tr style=\"text-align: right;\">\n",
       "      <th></th>\n",
       "      <th>id</th>\n",
       "      <th>energy_consumption</th>\n",
       "    </tr>\n",
       "  </thead>\n",
       "  <tbody>\n",
       "    <tr>\n",
       "      <th>0</th>\n",
       "      <td>0</td>\n",
       "      <td>772.263672</td>\n",
       "    </tr>\n",
       "    <tr>\n",
       "      <th>1</th>\n",
       "      <td>1</td>\n",
       "      <td>782.711243</td>\n",
       "    </tr>\n",
       "    <tr>\n",
       "      <th>2</th>\n",
       "      <td>2</td>\n",
       "      <td>781.069153</td>\n",
       "    </tr>\n",
       "    <tr>\n",
       "      <th>3</th>\n",
       "      <td>3</td>\n",
       "      <td>772.232483</td>\n",
       "    </tr>\n",
       "    <tr>\n",
       "      <th>4</th>\n",
       "      <td>4</td>\n",
       "      <td>783.119629</td>\n",
       "    </tr>\n",
       "    <tr>\n",
       "      <th>...</th>\n",
       "      <td>...</td>\n",
       "      <td>...</td>\n",
       "    </tr>\n",
       "    <tr>\n",
       "      <th>60865</th>\n",
       "      <td>60865</td>\n",
       "      <td>359.971283</td>\n",
       "    </tr>\n",
       "    <tr>\n",
       "      <th>60866</th>\n",
       "      <td>60866</td>\n",
       "      <td>354.142914</td>\n",
       "    </tr>\n",
       "    <tr>\n",
       "      <th>60867</th>\n",
       "      <td>60867</td>\n",
       "      <td>384.375519</td>\n",
       "    </tr>\n",
       "    <tr>\n",
       "      <th>60868</th>\n",
       "      <td>60868</td>\n",
       "      <td>387.337524</td>\n",
       "    </tr>\n",
       "    <tr>\n",
       "      <th>60869</th>\n",
       "      <td>60869</td>\n",
       "      <td>384.623810</td>\n",
       "    </tr>\n",
       "  </tbody>\n",
       "</table>\n",
       "<p>60870 rows × 2 columns</p>\n",
       "</div>"
      ],
      "text/plain": [
       "          id  energy_consumption\n",
       "0          0          772.263672\n",
       "1          1          782.711243\n",
       "2          2          781.069153\n",
       "3          3          772.232483\n",
       "4          4          783.119629\n",
       "...      ...                 ...\n",
       "60865  60865          359.971283\n",
       "60866  60866          354.142914\n",
       "60867  60867          384.375519\n",
       "60868  60868          387.337524\n",
       "60869  60869          384.623810\n",
       "\n",
       "[60870 rows x 2 columns]"
      ]
     },
     "execution_count": 18,
     "metadata": {},
     "output_type": "execute_result"
    }
   ],
   "source": [
    "sub['energy_consumption'] = np.array(y_predict).mean(axis=0)\n",
    "sub"
   ]
  },
  {
   "cell_type": "code",
   "execution_count": 19,
   "id": "165409ed",
   "metadata": {
    "execution": {
     "iopub.execute_input": "2022-06-24T15:37:16.242402Z",
     "iopub.status.busy": "2022-06-24T15:37:16.242135Z",
     "iopub.status.idle": "2022-06-24T15:37:16.400142Z",
     "shell.execute_reply": "2022-06-24T15:37:16.399196Z"
    },
    "papermill": {
     "duration": 0.168902,
     "end_time": "2022-06-24T15:37:16.402378",
     "exception": false,
     "start_time": "2022-06-24T15:37:16.233476",
     "status": "completed"
    },
    "tags": []
   },
   "outputs": [
    {
     "data": {
      "text/html": [
       "<div>\n",
       "<style scoped>\n",
       "    .dataframe tbody tr th:only-of-type {\n",
       "        vertical-align: middle;\n",
       "    }\n",
       "\n",
       "    .dataframe tbody tr th {\n",
       "        vertical-align: top;\n",
       "    }\n",
       "\n",
       "    .dataframe thead th {\n",
       "        text-align: right;\n",
       "    }\n",
       "</style>\n",
       "<table border=\"1\" class=\"dataframe\">\n",
       "  <thead>\n",
       "    <tr style=\"text-align: right;\">\n",
       "      <th></th>\n",
       "      <th>id</th>\n",
       "      <th>energy_consumption</th>\n",
       "    </tr>\n",
       "  </thead>\n",
       "  <tbody>\n",
       "    <tr>\n",
       "      <th>count</th>\n",
       "      <td>60870.00000</td>\n",
       "      <td>60870.000000</td>\n",
       "    </tr>\n",
       "    <tr>\n",
       "      <th>mean</th>\n",
       "      <td>30434.50000</td>\n",
       "      <td>950.800171</td>\n",
       "    </tr>\n",
       "    <tr>\n",
       "      <th>std</th>\n",
       "      <td>17571.79978</td>\n",
       "      <td>1239.565796</td>\n",
       "    </tr>\n",
       "    <tr>\n",
       "      <th>min</th>\n",
       "      <td>0.00000</td>\n",
       "      <td>56.098400</td>\n",
       "    </tr>\n",
       "    <tr>\n",
       "      <th>25%</th>\n",
       "      <td>15217.25000</td>\n",
       "      <td>314.277557</td>\n",
       "    </tr>\n",
       "    <tr>\n",
       "      <th>50%</th>\n",
       "      <td>30434.50000</td>\n",
       "      <td>473.930191</td>\n",
       "    </tr>\n",
       "    <tr>\n",
       "      <th>75%</th>\n",
       "      <td>45651.75000</td>\n",
       "      <td>1021.684570</td>\n",
       "    </tr>\n",
       "    <tr>\n",
       "      <th>max</th>\n",
       "      <td>60869.00000</td>\n",
       "      <td>7717.121094</td>\n",
       "    </tr>\n",
       "  </tbody>\n",
       "</table>\n",
       "</div>"
      ],
      "text/plain": [
       "                id  energy_consumption\n",
       "count  60870.00000        60870.000000\n",
       "mean   30434.50000          950.800171\n",
       "std    17571.79978         1239.565796\n",
       "min        0.00000           56.098400\n",
       "25%    15217.25000          314.277557\n",
       "50%    30434.50000          473.930191\n",
       "75%    45651.75000         1021.684570\n",
       "max    60869.00000         7717.121094"
      ]
     },
     "execution_count": 19,
     "metadata": {},
     "output_type": "execute_result"
    }
   ],
   "source": [
    "sub.to_csv('submission.csv', index=False)\n",
    "sub.describe()"
   ]
  },
  {
   "cell_type": "code",
   "execution_count": null,
   "id": "ec9553df",
   "metadata": {
    "papermill": {
     "duration": 0.00789,
     "end_time": "2022-06-24T15:37:16.418403",
     "exception": false,
     "start_time": "2022-06-24T15:37:16.410513",
     "status": "completed"
    },
    "tags": []
   },
   "outputs": [],
   "source": []
  }
 ],
 "metadata": {
  "kernelspec": {
   "display_name": "Python 3",
   "language": "python",
   "name": "python3"
  },
  "language_info": {
   "codemirror_mode": {
    "name": "ipython",
    "version": 3
   },
   "file_extension": ".py",
   "mimetype": "text/x-python",
   "name": "python",
   "nbconvert_exporter": "python",
   "pygments_lexer": "ipython3",
   "version": "3.7.12"
  },
  "papermill": {
   "default_parameters": {},
   "duration": 3575.339969,
   "end_time": "2022-06-24T15:37:17.854166",
   "environment_variables": {},
   "exception": null,
   "input_path": "__notebook__.ipynb",
   "output_path": "__notebook__.ipynb",
   "parameters": {},
   "start_time": "2022-06-24T14:37:42.514197",
   "version": "2.3.4"
  }
 },
 "nbformat": 4,
 "nbformat_minor": 5
}
