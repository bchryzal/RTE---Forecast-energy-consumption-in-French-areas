{
 "cells": [
  {
   "cell_type": "markdown",
   "id": "0a3902cf",
   "metadata": {
    "papermill": {
     "duration": 0.013083,
     "end_time": "2022-06-22T09:02:45.720288",
     "exception": false,
     "start_time": "2022-06-22T09:02:45.707205",
     "status": "completed"
    },
    "tags": []
   },
   "source": [
    "# RTE - Forecast energy consumption in French areas\n"
   ]
  },
  {
   "cell_type": "code",
   "execution_count": 1,
   "id": "ea3b7fbd",
   "metadata": {
    "_cell_guid": "b1076dfc-b9ad-4769-8c92-a6c4dae69d19",
    "_uuid": "8f2839f25d086af736a60e9eeb907d3b93b6e0e5",
    "execution": {
     "iopub.execute_input": "2022-06-22T09:02:45.751532Z",
     "iopub.status.busy": "2022-06-22T09:02:45.750897Z",
     "iopub.status.idle": "2022-06-22T09:02:45.766430Z",
     "shell.execute_reply": "2022-06-22T09:02:45.765138Z"
    },
    "papermill": {
     "duration": 0.036852,
     "end_time": "2022-06-22T09:02:45.769122",
     "exception": false,
     "start_time": "2022-06-22T09:02:45.732270",
     "status": "completed"
    },
    "tags": []
   },
   "outputs": [],
   "source": [
    "import numpy as np # linear algebra\n",
    "import pandas as pd # data processing, CSV file I/O (e.g. pd.read_csv)"
   ]
  },
  {
   "cell_type": "markdown",
   "id": "86d125c2",
   "metadata": {
    "papermill": {
     "duration": 0.012652,
     "end_time": "2022-06-22T09:02:45.794602",
     "exception": false,
     "start_time": "2022-06-22T09:02:45.781950",
     "status": "completed"
    },
    "tags": []
   },
   "source": [
    "# Load data"
   ]
  },
  {
   "cell_type": "code",
   "execution_count": 2,
   "id": "70448279",
   "metadata": {
    "execution": {
     "iopub.execute_input": "2022-06-22T09:02:45.821555Z",
     "iopub.status.busy": "2022-06-22T09:02:45.821206Z",
     "iopub.status.idle": "2022-06-22T09:02:46.573779Z",
     "shell.execute_reply": "2022-06-22T09:02:46.572724Z"
    },
    "papermill": {
     "duration": 0.769158,
     "end_time": "2022-06-22T09:02:46.575940",
     "exception": false,
     "start_time": "2022-06-22T09:02:45.806782",
     "status": "completed"
    },
    "tags": []
   },
   "outputs": [
    {
     "data": {
      "text/plain": [
       "((717414, 3), (60870, 3))"
      ]
     },
     "execution_count": 2,
     "metadata": {},
     "output_type": "execute_result"
    }
   ],
   "source": [
    "train = pd.read_csv(\"../input/rte-forecast-energy-consumption-in-french-areas/train.csv\")\n",
    "test = pd.read_csv(\"../input/rte-forecast-energy-consumption-in-french-areas/test.csv\")\n",
    "\n",
    "train.shape, test.shape"
   ]
  },
  {
   "cell_type": "markdown",
   "id": "78f46a5d",
   "metadata": {
    "papermill": {
     "duration": 0.012171,
     "end_time": "2022-06-22T09:02:46.600486",
     "exception": false,
     "start_time": "2022-06-22T09:02:46.588315",
     "status": "completed"
    },
    "tags": []
   },
   "source": [
    "# Understanding Data"
   ]
  },
  {
   "cell_type": "code",
   "execution_count": 3,
   "id": "2b9bed7e",
   "metadata": {
    "execution": {
     "iopub.execute_input": "2022-06-22T09:02:46.627456Z",
     "iopub.status.busy": "2022-06-22T09:02:46.626342Z",
     "iopub.status.idle": "2022-06-22T09:02:46.643110Z",
     "shell.execute_reply": "2022-06-22T09:02:46.642104Z"
    },
    "papermill": {
     "duration": 0.032465,
     "end_time": "2022-06-22T09:02:46.645408",
     "exception": false,
     "start_time": "2022-06-22T09:02:46.612943",
     "status": "completed"
    },
    "tags": []
   },
   "outputs": [
    {
     "data": {
      "text/html": [
       "<div>\n",
       "<style scoped>\n",
       "    .dataframe tbody tr th:only-of-type {\n",
       "        vertical-align: middle;\n",
       "    }\n",
       "\n",
       "    .dataframe tbody tr th {\n",
       "        vertical-align: top;\n",
       "    }\n",
       "\n",
       "    .dataframe thead th {\n",
       "        text-align: right;\n",
       "    }\n",
       "</style>\n",
       "<table border=\"1\" class=\"dataframe\">\n",
       "  <thead>\n",
       "    <tr style=\"text-align: right;\">\n",
       "      <th></th>\n",
       "      <th>metropolitan_area_code</th>\n",
       "      <th>date</th>\n",
       "      <th>energy_consumption</th>\n",
       "    </tr>\n",
       "  </thead>\n",
       "  <tbody>\n",
       "    <tr>\n",
       "      <th>0</th>\n",
       "      <td>3</td>\n",
       "      <td>2017-09-11 02:15:00</td>\n",
       "      <td>477.0</td>\n",
       "    </tr>\n",
       "    <tr>\n",
       "      <th>1</th>\n",
       "      <td>3</td>\n",
       "      <td>2017-09-11 02:30:00</td>\n",
       "      <td>454.0</td>\n",
       "    </tr>\n",
       "    <tr>\n",
       "      <th>2</th>\n",
       "      <td>3</td>\n",
       "      <td>2017-09-11 03:45:00</td>\n",
       "      <td>398.0</td>\n",
       "    </tr>\n",
       "    <tr>\n",
       "      <th>3</th>\n",
       "      <td>3</td>\n",
       "      <td>2017-09-11 04:45:00</td>\n",
       "      <td>398.0</td>\n",
       "    </tr>\n",
       "    <tr>\n",
       "      <th>4</th>\n",
       "      <td>3</td>\n",
       "      <td>2017-09-11 05:15:00</td>\n",
       "      <td>409.0</td>\n",
       "    </tr>\n",
       "  </tbody>\n",
       "</table>\n",
       "</div>"
      ],
      "text/plain": [
       "   metropolitan_area_code                 date  energy_consumption\n",
       "0                       3  2017-09-11 02:15:00               477.0\n",
       "1                       3  2017-09-11 02:30:00               454.0\n",
       "2                       3  2017-09-11 03:45:00               398.0\n",
       "3                       3  2017-09-11 04:45:00               398.0\n",
       "4                       3  2017-09-11 05:15:00               409.0"
      ]
     },
     "execution_count": 3,
     "metadata": {},
     "output_type": "execute_result"
    }
   ],
   "source": [
    "train.head()"
   ]
  },
  {
   "cell_type": "code",
   "execution_count": 4,
   "id": "20c3bf5d",
   "metadata": {
    "execution": {
     "iopub.execute_input": "2022-06-22T09:02:46.672741Z",
     "iopub.status.busy": "2022-06-22T09:02:46.672151Z",
     "iopub.status.idle": "2022-06-22T09:02:46.681828Z",
     "shell.execute_reply": "2022-06-22T09:02:46.680826Z"
    },
    "papermill": {
     "duration": 0.025869,
     "end_time": "2022-06-22T09:02:46.683947",
     "exception": false,
     "start_time": "2022-06-22T09:02:46.658078",
     "status": "completed"
    },
    "tags": []
   },
   "outputs": [
    {
     "data": {
      "text/html": [
       "<div>\n",
       "<style scoped>\n",
       "    .dataframe tbody tr th:only-of-type {\n",
       "        vertical-align: middle;\n",
       "    }\n",
       "\n",
       "    .dataframe tbody tr th {\n",
       "        vertical-align: top;\n",
       "    }\n",
       "\n",
       "    .dataframe thead th {\n",
       "        text-align: right;\n",
       "    }\n",
       "</style>\n",
       "<table border=\"1\" class=\"dataframe\">\n",
       "  <thead>\n",
       "    <tr style=\"text-align: right;\">\n",
       "      <th></th>\n",
       "      <th>id</th>\n",
       "      <th>metropolitan_area_code</th>\n",
       "      <th>date</th>\n",
       "    </tr>\n",
       "  </thead>\n",
       "  <tbody>\n",
       "    <tr>\n",
       "      <th>0</th>\n",
       "      <td>0</td>\n",
       "      <td>3</td>\n",
       "      <td>2022-01-01 00:45:00</td>\n",
       "    </tr>\n",
       "    <tr>\n",
       "      <th>1</th>\n",
       "      <td>1</td>\n",
       "      <td>3</td>\n",
       "      <td>2022-01-01 01:15:00</td>\n",
       "    </tr>\n",
       "    <tr>\n",
       "      <th>2</th>\n",
       "      <td>2</td>\n",
       "      <td>3</td>\n",
       "      <td>2022-01-01 01:30:00</td>\n",
       "    </tr>\n",
       "    <tr>\n",
       "      <th>3</th>\n",
       "      <td>3</td>\n",
       "      <td>3</td>\n",
       "      <td>2022-01-01 02:00:00</td>\n",
       "    </tr>\n",
       "    <tr>\n",
       "      <th>4</th>\n",
       "      <td>4</td>\n",
       "      <td>3</td>\n",
       "      <td>2022-01-01 02:15:00</td>\n",
       "    </tr>\n",
       "  </tbody>\n",
       "</table>\n",
       "</div>"
      ],
      "text/plain": [
       "   id  metropolitan_area_code                 date\n",
       "0   0                       3  2022-01-01 00:45:00\n",
       "1   1                       3  2022-01-01 01:15:00\n",
       "2   2                       3  2022-01-01 01:30:00\n",
       "3   3                       3  2022-01-01 02:00:00\n",
       "4   4                       3  2022-01-01 02:15:00"
      ]
     },
     "execution_count": 4,
     "metadata": {},
     "output_type": "execute_result"
    }
   ],
   "source": [
    "test.head()"
   ]
  },
  {
   "cell_type": "markdown",
   "id": "ed11dcd8",
   "metadata": {
    "papermill": {
     "duration": 0.012425,
     "end_time": "2022-06-22T09:02:46.709390",
     "exception": false,
     "start_time": "2022-06-22T09:02:46.696965",
     "status": "completed"
    },
    "tags": []
   },
   "source": [
    "- Is Null sum"
   ]
  },
  {
   "cell_type": "code",
   "execution_count": 5,
   "id": "0a5857ce",
   "metadata": {
    "execution": {
     "iopub.execute_input": "2022-06-22T09:02:46.736728Z",
     "iopub.status.busy": "2022-06-22T09:02:46.736076Z",
     "iopub.status.idle": "2022-06-22T09:02:46.835760Z",
     "shell.execute_reply": "2022-06-22T09:02:46.834332Z"
    },
    "papermill": {
     "duration": 0.117135,
     "end_time": "2022-06-22T09:02:46.839292",
     "exception": false,
     "start_time": "2022-06-22T09:02:46.722157",
     "status": "completed"
    },
    "tags": []
   },
   "outputs": [
    {
     "data": {
      "text/plain": [
       "(False, False)"
      ]
     },
     "execution_count": 5,
     "metadata": {},
     "output_type": "execute_result"
    }
   ],
   "source": [
    "train.isna().sum().any(), test.isna().sum().any()"
   ]
  },
  {
   "cell_type": "code",
   "execution_count": 6,
   "id": "4619e41a",
   "metadata": {
    "execution": {
     "iopub.execute_input": "2022-06-22T09:02:46.875152Z",
     "iopub.status.busy": "2022-06-22T09:02:46.873187Z",
     "iopub.status.idle": "2022-06-22T09:02:46.990165Z",
     "shell.execute_reply": "2022-06-22T09:02:46.989072Z"
    },
    "papermill": {
     "duration": 0.138403,
     "end_time": "2022-06-22T09:02:46.992702",
     "exception": false,
     "start_time": "2022-06-22T09:02:46.854299",
     "status": "completed"
    },
    "tags": []
   },
   "outputs": [
    {
     "name": "stdout",
     "output_type": "stream",
     "text": [
      "<class 'pandas.core.frame.DataFrame'>\n",
      "RangeIndex: 717414 entries, 0 to 717413\n",
      "Data columns (total 3 columns):\n",
      " #   Column                  Non-Null Count   Dtype  \n",
      "---  ------                  --------------   -----  \n",
      " 0   metropolitan_area_code  717414 non-null  int64  \n",
      " 1   date                    717414 non-null  object \n",
      " 2   energy_consumption      717414 non-null  float64\n",
      "dtypes: float64(1), int64(1), object(1)\n",
      "memory usage: 16.4+ MB\n"
     ]
    }
   ],
   "source": [
    "train.info()"
   ]
  },
  {
   "cell_type": "code",
   "execution_count": 7,
   "id": "ac828cf0",
   "metadata": {
    "execution": {
     "iopub.execute_input": "2022-06-22T09:02:47.020933Z",
     "iopub.status.busy": "2022-06-22T09:02:47.019945Z",
     "iopub.status.idle": "2022-06-22T09:02:47.038451Z",
     "shell.execute_reply": "2022-06-22T09:02:47.037261Z"
    },
    "papermill": {
     "duration": 0.034969,
     "end_time": "2022-06-22T09:02:47.040808",
     "exception": false,
     "start_time": "2022-06-22T09:02:47.005839",
     "status": "completed"
    },
    "tags": []
   },
   "outputs": [
    {
     "name": "stdout",
     "output_type": "stream",
     "text": [
      "<class 'pandas.core.frame.DataFrame'>\n",
      "RangeIndex: 60870 entries, 0 to 60869\n",
      "Data columns (total 3 columns):\n",
      " #   Column                  Non-Null Count  Dtype \n",
      "---  ------                  --------------  ----- \n",
      " 0   id                      60870 non-null  int64 \n",
      " 1   metropolitan_area_code  60870 non-null  int64 \n",
      " 2   date                    60870 non-null  object\n",
      "dtypes: int64(2), object(1)\n",
      "memory usage: 1.4+ MB\n"
     ]
    }
   ],
   "source": [
    "test.info()"
   ]
  },
  {
   "cell_type": "code",
   "execution_count": 8,
   "id": "4ec9fa63",
   "metadata": {
    "execution": {
     "iopub.execute_input": "2022-06-22T09:02:47.068910Z",
     "iopub.status.busy": "2022-06-22T09:02:47.068273Z",
     "iopub.status.idle": "2022-06-22T09:02:47.085299Z",
     "shell.execute_reply": "2022-06-22T09:02:47.083939Z"
    },
    "papermill": {
     "duration": 0.033433,
     "end_time": "2022-06-22T09:02:47.087351",
     "exception": false,
     "start_time": "2022-06-22T09:02:47.053918",
     "status": "completed"
    },
    "tags": []
   },
   "outputs": [
    {
     "name": "stdout",
     "output_type": "stream",
     "text": [
      "17\n"
     ]
    },
    {
     "data": {
      "text/plain": [
       "2     78477\n",
       "16    65256\n",
       "3     62417\n",
       "11    59587\n",
       "0     55893\n",
       "4     54914\n",
       "14    54364\n",
       "9     52229\n",
       "1     49754\n",
       "13    38024\n",
       "15    29976\n",
       "12    26392\n",
       "8     24992\n",
       "6     23541\n",
       "10    18971\n",
       "7     18654\n",
       "5      3973\n",
       "Name: metropolitan_area_code, dtype: int64"
      ]
     },
     "execution_count": 8,
     "metadata": {},
     "output_type": "execute_result"
    }
   ],
   "source": [
    "print(len(train['metropolitan_area_code'].unique()))\n",
    "\n",
    "train['metropolitan_area_code'].value_counts()"
   ]
  },
  {
   "cell_type": "code",
   "execution_count": 9,
   "id": "f2449cd9",
   "metadata": {
    "execution": {
     "iopub.execute_input": "2022-06-22T09:02:47.115109Z",
     "iopub.status.busy": "2022-06-22T09:02:47.114428Z",
     "iopub.status.idle": "2022-06-22T09:02:47.123195Z",
     "shell.execute_reply": "2022-06-22T09:02:47.122393Z"
    },
    "papermill": {
     "duration": 0.024765,
     "end_time": "2022-06-22T09:02:47.125009",
     "exception": false,
     "start_time": "2022-06-22T09:02:47.100244",
     "status": "completed"
    },
    "tags": []
   },
   "outputs": [
    {
     "name": "stdout",
     "output_type": "stream",
     "text": [
      "17\n"
     ]
    },
    {
     "data": {
      "text/plain": [
       "2     6858\n",
       "7     4696\n",
       "10    4644\n",
       "8     4581\n",
       "0     4553\n",
       "3     4533\n",
       "4     4433\n",
       "6     4271\n",
       "5     3559\n",
       "13    2974\n",
       "9     2742\n",
       "14    2741\n",
       "11    2732\n",
       "1     2279\n",
       "16    2262\n",
       "15    2244\n",
       "12     768\n",
       "Name: metropolitan_area_code, dtype: int64"
      ]
     },
     "execution_count": 9,
     "metadata": {},
     "output_type": "execute_result"
    }
   ],
   "source": [
    "print(len(test['metropolitan_area_code'].unique()))\n",
    "\n",
    "test['metropolitan_area_code'].value_counts()"
   ]
  },
  {
   "cell_type": "markdown",
   "id": "34fd4585",
   "metadata": {
    "papermill": {
     "duration": 0.012641,
     "end_time": "2022-06-22T09:02:47.150710",
     "exception": false,
     "start_time": "2022-06-22T09:02:47.138069",
     "status": "completed"
    },
    "tags": []
   },
   "source": [
    "# Preprocessing Data"
   ]
  },
  {
   "cell_type": "code",
   "execution_count": 10,
   "id": "9fa6068c",
   "metadata": {
    "execution": {
     "iopub.execute_input": "2022-06-22T09:02:47.178710Z",
     "iopub.status.busy": "2022-06-22T09:02:47.178014Z",
     "iopub.status.idle": "2022-06-22T09:02:47.447350Z",
     "shell.execute_reply": "2022-06-22T09:02:47.446314Z"
    },
    "papermill": {
     "duration": 0.285882,
     "end_time": "2022-06-22T09:02:47.449748",
     "exception": false,
     "start_time": "2022-06-22T09:02:47.163866",
     "status": "completed"
    },
    "tags": []
   },
   "outputs": [
    {
     "data": {
      "text/html": [
       "<div>\n",
       "<style scoped>\n",
       "    .dataframe tbody tr th:only-of-type {\n",
       "        vertical-align: middle;\n",
       "    }\n",
       "\n",
       "    .dataframe tbody tr th {\n",
       "        vertical-align: top;\n",
       "    }\n",
       "\n",
       "    .dataframe thead th {\n",
       "        text-align: right;\n",
       "    }\n",
       "</style>\n",
       "<table border=\"1\" class=\"dataframe\">\n",
       "  <thead>\n",
       "    <tr style=\"text-align: right;\">\n",
       "      <th></th>\n",
       "      <th>metropolitan_area_code</th>\n",
       "      <th>date</th>\n",
       "      <th>energy_consumption</th>\n",
       "    </tr>\n",
       "  </thead>\n",
       "  <tbody>\n",
       "    <tr>\n",
       "      <th>0</th>\n",
       "      <td>3</td>\n",
       "      <td>2017-09-11 02:15:00</td>\n",
       "      <td>477.0</td>\n",
       "    </tr>\n",
       "    <tr>\n",
       "      <th>1</th>\n",
       "      <td>3</td>\n",
       "      <td>2017-09-11 02:30:00</td>\n",
       "      <td>454.0</td>\n",
       "    </tr>\n",
       "    <tr>\n",
       "      <th>2</th>\n",
       "      <td>3</td>\n",
       "      <td>2017-09-11 03:45:00</td>\n",
       "      <td>398.0</td>\n",
       "    </tr>\n",
       "    <tr>\n",
       "      <th>3</th>\n",
       "      <td>3</td>\n",
       "      <td>2017-09-11 04:45:00</td>\n",
       "      <td>398.0</td>\n",
       "    </tr>\n",
       "    <tr>\n",
       "      <th>4</th>\n",
       "      <td>3</td>\n",
       "      <td>2017-09-11 05:15:00</td>\n",
       "      <td>409.0</td>\n",
       "    </tr>\n",
       "  </tbody>\n",
       "</table>\n",
       "</div>"
      ],
      "text/plain": [
       "   metropolitan_area_code                date  energy_consumption\n",
       "0                       3 2017-09-11 02:15:00               477.0\n",
       "1                       3 2017-09-11 02:30:00               454.0\n",
       "2                       3 2017-09-11 03:45:00               398.0\n",
       "3                       3 2017-09-11 04:45:00               398.0\n",
       "4                       3 2017-09-11 05:15:00               409.0"
      ]
     },
     "execution_count": 10,
     "metadata": {},
     "output_type": "execute_result"
    }
   ],
   "source": [
    "train[\"date\"] = pd.to_datetime(train[\"date\"])\n",
    "test[\"date\"] = pd.to_datetime(test[\"date\"])\n",
    "\n",
    "train.head()"
   ]
  },
  {
   "cell_type": "markdown",
   "id": "33407456",
   "metadata": {
    "papermill": {
     "duration": 0.013308,
     "end_time": "2022-06-22T09:02:47.476491",
     "exception": false,
     "start_time": "2022-06-22T09:02:47.463183",
     "status": "completed"
    },
    "tags": []
   },
   "source": [
    "# Feature Engineering"
   ]
  },
  {
   "cell_type": "code",
   "execution_count": 11,
   "id": "e83c635d",
   "metadata": {
    "_kg_hide-output": true,
    "execution": {
     "iopub.execute_input": "2022-06-22T09:02:47.506886Z",
     "iopub.status.busy": "2022-06-22T09:02:47.505842Z",
     "iopub.status.idle": "2022-06-22T09:03:01.060330Z",
     "shell.execute_reply": "2022-06-22T09:03:01.059280Z"
    },
    "papermill": {
     "duration": 13.572612,
     "end_time": "2022-06-22T09:03:01.062814",
     "exception": false,
     "start_time": "2022-06-22T09:02:47.490202",
     "status": "completed"
    },
    "tags": []
   },
   "outputs": [
    {
     "name": "stdout",
     "output_type": "stream",
     "text": [
      "Collecting fast_ml\r\n",
      "  Downloading fast_ml-3.68-py3-none-any.whl (42 kB)\r\n",
      "\u001b[2K     \u001b[90m━━━━━━━━━━━━━━━━━━━━━━━━━━━━━━━━━━━━━━━\u001b[0m \u001b[32m42.1/42.1 kB\u001b[0m \u001b[31m184.1 kB/s\u001b[0m eta \u001b[36m0:00:00\u001b[0m\r\n",
      "\u001b[?25hInstalling collected packages: fast_ml\r\n",
      "Successfully installed fast_ml-3.68\r\n",
      "\u001b[33mWARNING: Running pip as the 'root' user can result in broken permissions and conflicting behaviour with the system package manager. It is recommended to use a virtual environment instead: https://pip.pypa.io/warnings/venv\u001b[0m\u001b[33m\r\n",
      "\u001b[0m"
     ]
    }
   ],
   "source": [
    "!pip install fast_ml"
   ]
  },
  {
   "cell_type": "code",
   "execution_count": 12,
   "id": "c49bd2c4",
   "metadata": {
    "execution": {
     "iopub.execute_input": "2022-06-22T09:03:01.093453Z",
     "iopub.status.busy": "2022-06-22T09:03:01.092618Z",
     "iopub.status.idle": "2022-06-22T09:03:03.204249Z",
     "shell.execute_reply": "2022-06-22T09:03:03.203047Z"
    },
    "papermill": {
     "duration": 2.129506,
     "end_time": "2022-06-22T09:03:03.206736",
     "exception": false,
     "start_time": "2022-06-22T09:03:01.077230",
     "status": "completed"
    },
    "tags": []
   },
   "outputs": [
    {
     "name": "stderr",
     "output_type": "stream",
     "text": [
      "/opt/conda/lib/python3.7/site-packages/fast_ml/feature_engineering.py:382: FutureWarning: Series.dt.weekofyear and Series.dt.week have been deprecated.  Please use Series.dt.isocalendar().week instead.\n",
      "  df[pfx+f] = getattr(df[var].dt, f)\n"
     ]
    },
    {
     "data": {
      "text/html": [
       "<div>\n",
       "<style scoped>\n",
       "    .dataframe tbody tr th:only-of-type {\n",
       "        vertical-align: middle;\n",
       "    }\n",
       "\n",
       "    .dataframe tbody tr th {\n",
       "        vertical-align: top;\n",
       "    }\n",
       "\n",
       "    .dataframe thead th {\n",
       "        text-align: right;\n",
       "    }\n",
       "</style>\n",
       "<table border=\"1\" class=\"dataframe\">\n",
       "  <thead>\n",
       "    <tr style=\"text-align: right;\">\n",
       "      <th></th>\n",
       "      <th>metropolitan_area_code</th>\n",
       "      <th>date</th>\n",
       "      <th>energy_consumption</th>\n",
       "      <th>date:year</th>\n",
       "      <th>date:quarter</th>\n",
       "      <th>date:month</th>\n",
       "      <th>date:day</th>\n",
       "      <th>date:day_of_week</th>\n",
       "      <th>date:day_of_year</th>\n",
       "      <th>date:weekofyear</th>\n",
       "      <th>...</th>\n",
       "      <th>date:is_quarter_end</th>\n",
       "      <th>date:is_quarter_start</th>\n",
       "      <th>date:is_year_end</th>\n",
       "      <th>date:is_year_start</th>\n",
       "      <th>date:time</th>\n",
       "      <th>date:hour</th>\n",
       "      <th>date:minute</th>\n",
       "      <th>date:second</th>\n",
       "      <th>date:is_weekend</th>\n",
       "      <th>date:day_part</th>\n",
       "    </tr>\n",
       "  </thead>\n",
       "  <tbody>\n",
       "    <tr>\n",
       "      <th>0</th>\n",
       "      <td>3</td>\n",
       "      <td>2017-09-11 02:15:00</td>\n",
       "      <td>477.0</td>\n",
       "      <td>2017</td>\n",
       "      <td>3</td>\n",
       "      <td>9</td>\n",
       "      <td>11</td>\n",
       "      <td>0</td>\n",
       "      <td>254</td>\n",
       "      <td>37</td>\n",
       "      <td>...</td>\n",
       "      <td>False</td>\n",
       "      <td>False</td>\n",
       "      <td>False</td>\n",
       "      <td>False</td>\n",
       "      <td>02:15:00</td>\n",
       "      <td>2</td>\n",
       "      <td>15</td>\n",
       "      <td>0</td>\n",
       "      <td>0</td>\n",
       "      <td>midnight</td>\n",
       "    </tr>\n",
       "    <tr>\n",
       "      <th>1</th>\n",
       "      <td>3</td>\n",
       "      <td>2017-09-11 02:30:00</td>\n",
       "      <td>454.0</td>\n",
       "      <td>2017</td>\n",
       "      <td>3</td>\n",
       "      <td>9</td>\n",
       "      <td>11</td>\n",
       "      <td>0</td>\n",
       "      <td>254</td>\n",
       "      <td>37</td>\n",
       "      <td>...</td>\n",
       "      <td>False</td>\n",
       "      <td>False</td>\n",
       "      <td>False</td>\n",
       "      <td>False</td>\n",
       "      <td>02:30:00</td>\n",
       "      <td>2</td>\n",
       "      <td>30</td>\n",
       "      <td>0</td>\n",
       "      <td>0</td>\n",
       "      <td>midnight</td>\n",
       "    </tr>\n",
       "    <tr>\n",
       "      <th>2</th>\n",
       "      <td>3</td>\n",
       "      <td>2017-09-11 03:45:00</td>\n",
       "      <td>398.0</td>\n",
       "      <td>2017</td>\n",
       "      <td>3</td>\n",
       "      <td>9</td>\n",
       "      <td>11</td>\n",
       "      <td>0</td>\n",
       "      <td>254</td>\n",
       "      <td>37</td>\n",
       "      <td>...</td>\n",
       "      <td>False</td>\n",
       "      <td>False</td>\n",
       "      <td>False</td>\n",
       "      <td>False</td>\n",
       "      <td>03:45:00</td>\n",
       "      <td>3</td>\n",
       "      <td>45</td>\n",
       "      <td>0</td>\n",
       "      <td>0</td>\n",
       "      <td>midnight</td>\n",
       "    </tr>\n",
       "  </tbody>\n",
       "</table>\n",
       "<p>3 rows × 22 columns</p>\n",
       "</div>"
      ],
      "text/plain": [
       "   metropolitan_area_code                date  energy_consumption  date:year  \\\n",
       "0                       3 2017-09-11 02:15:00               477.0       2017   \n",
       "1                       3 2017-09-11 02:30:00               454.0       2017   \n",
       "2                       3 2017-09-11 03:45:00               398.0       2017   \n",
       "\n",
       "   date:quarter  date:month  date:day  date:day_of_week  date:day_of_year  \\\n",
       "0             3           9        11                 0               254   \n",
       "1             3           9        11                 0               254   \n",
       "2             3           9        11                 0               254   \n",
       "\n",
       "   date:weekofyear  ...  date:is_quarter_end  date:is_quarter_start  \\\n",
       "0               37  ...                False                  False   \n",
       "1               37  ...                False                  False   \n",
       "2               37  ...                False                  False   \n",
       "\n",
       "   date:is_year_end  date:is_year_start  date:time  date:hour date:minute  \\\n",
       "0             False               False   02:15:00          2          15   \n",
       "1             False               False   02:30:00          2          30   \n",
       "2             False               False   03:45:00          3          45   \n",
       "\n",
       "   date:second  date:is_weekend  date:day_part  \n",
       "0            0                0       midnight  \n",
       "1            0                0       midnight  \n",
       "2            0                0       midnight  \n",
       "\n",
       "[3 rows x 22 columns]"
      ]
     },
     "execution_count": 12,
     "metadata": {},
     "output_type": "execute_result"
    }
   ],
   "source": [
    "from fast_ml.feature_engineering import FeatureEngineering_DateTime\n",
    "dt_fe = FeatureEngineering_DateTime()\n",
    "\n",
    "dt_fe.fit(train, datetime_variables=['date'])\n",
    "train = dt_fe.transform(train)\n",
    "\n",
    "train.head(3)"
   ]
  },
  {
   "cell_type": "markdown",
   "id": "33c02dbd",
   "metadata": {
    "papermill": {
     "duration": 0.014248,
     "end_time": "2022-06-22T09:03:03.235900",
     "exception": false,
     "start_time": "2022-06-22T09:03:03.221652",
     "status": "completed"
    },
    "tags": []
   },
   "source": [
    "#### FE : Test Data"
   ]
  },
  {
   "cell_type": "code",
   "execution_count": 13,
   "id": "e72ee717",
   "metadata": {
    "execution": {
     "iopub.execute_input": "2022-06-22T09:03:03.266606Z",
     "iopub.status.busy": "2022-06-22T09:03:03.266224Z",
     "iopub.status.idle": "2022-06-22T09:03:03.477074Z",
     "shell.execute_reply": "2022-06-22T09:03:03.475972Z"
    },
    "papermill": {
     "duration": 0.22869,
     "end_time": "2022-06-22T09:03:03.479074",
     "exception": false,
     "start_time": "2022-06-22T09:03:03.250384",
     "status": "completed"
    },
    "tags": []
   },
   "outputs": [
    {
     "name": "stderr",
     "output_type": "stream",
     "text": [
      "/opt/conda/lib/python3.7/site-packages/fast_ml/feature_engineering.py:382: FutureWarning: Series.dt.weekofyear and Series.dt.week have been deprecated.  Please use Series.dt.isocalendar().week instead.\n",
      "  df[pfx+f] = getattr(df[var].dt, f)\n"
     ]
    },
    {
     "data": {
      "text/html": [
       "<div>\n",
       "<style scoped>\n",
       "    .dataframe tbody tr th:only-of-type {\n",
       "        vertical-align: middle;\n",
       "    }\n",
       "\n",
       "    .dataframe tbody tr th {\n",
       "        vertical-align: top;\n",
       "    }\n",
       "\n",
       "    .dataframe thead th {\n",
       "        text-align: right;\n",
       "    }\n",
       "</style>\n",
       "<table border=\"1\" class=\"dataframe\">\n",
       "  <thead>\n",
       "    <tr style=\"text-align: right;\">\n",
       "      <th></th>\n",
       "      <th>id</th>\n",
       "      <th>metropolitan_area_code</th>\n",
       "      <th>date</th>\n",
       "      <th>date:year</th>\n",
       "      <th>date:quarter</th>\n",
       "      <th>date:month</th>\n",
       "      <th>date:day</th>\n",
       "      <th>date:day_of_week</th>\n",
       "      <th>date:day_of_year</th>\n",
       "      <th>date:weekofyear</th>\n",
       "      <th>...</th>\n",
       "      <th>date:is_quarter_end</th>\n",
       "      <th>date:is_quarter_start</th>\n",
       "      <th>date:is_year_end</th>\n",
       "      <th>date:is_year_start</th>\n",
       "      <th>date:time</th>\n",
       "      <th>date:hour</th>\n",
       "      <th>date:minute</th>\n",
       "      <th>date:second</th>\n",
       "      <th>date:is_weekend</th>\n",
       "      <th>date:day_part</th>\n",
       "    </tr>\n",
       "  </thead>\n",
       "  <tbody>\n",
       "    <tr>\n",
       "      <th>0</th>\n",
       "      <td>0</td>\n",
       "      <td>3</td>\n",
       "      <td>2022-01-01 00:45:00</td>\n",
       "      <td>2022</td>\n",
       "      <td>1</td>\n",
       "      <td>1</td>\n",
       "      <td>1</td>\n",
       "      <td>5</td>\n",
       "      <td>1</td>\n",
       "      <td>52</td>\n",
       "      <td>...</td>\n",
       "      <td>False</td>\n",
       "      <td>True</td>\n",
       "      <td>False</td>\n",
       "      <td>True</td>\n",
       "      <td>00:45:00</td>\n",
       "      <td>0</td>\n",
       "      <td>45</td>\n",
       "      <td>0</td>\n",
       "      <td>1</td>\n",
       "      <td>None</td>\n",
       "    </tr>\n",
       "    <tr>\n",
       "      <th>1</th>\n",
       "      <td>1</td>\n",
       "      <td>3</td>\n",
       "      <td>2022-01-01 01:15:00</td>\n",
       "      <td>2022</td>\n",
       "      <td>1</td>\n",
       "      <td>1</td>\n",
       "      <td>1</td>\n",
       "      <td>5</td>\n",
       "      <td>1</td>\n",
       "      <td>52</td>\n",
       "      <td>...</td>\n",
       "      <td>False</td>\n",
       "      <td>True</td>\n",
       "      <td>False</td>\n",
       "      <td>True</td>\n",
       "      <td>01:15:00</td>\n",
       "      <td>1</td>\n",
       "      <td>15</td>\n",
       "      <td>0</td>\n",
       "      <td>1</td>\n",
       "      <td>midnight</td>\n",
       "    </tr>\n",
       "    <tr>\n",
       "      <th>2</th>\n",
       "      <td>2</td>\n",
       "      <td>3</td>\n",
       "      <td>2022-01-01 01:30:00</td>\n",
       "      <td>2022</td>\n",
       "      <td>1</td>\n",
       "      <td>1</td>\n",
       "      <td>1</td>\n",
       "      <td>5</td>\n",
       "      <td>1</td>\n",
       "      <td>52</td>\n",
       "      <td>...</td>\n",
       "      <td>False</td>\n",
       "      <td>True</td>\n",
       "      <td>False</td>\n",
       "      <td>True</td>\n",
       "      <td>01:30:00</td>\n",
       "      <td>1</td>\n",
       "      <td>30</td>\n",
       "      <td>0</td>\n",
       "      <td>1</td>\n",
       "      <td>midnight</td>\n",
       "    </tr>\n",
       "  </tbody>\n",
       "</table>\n",
       "<p>3 rows × 22 columns</p>\n",
       "</div>"
      ],
      "text/plain": [
       "   id  metropolitan_area_code                date  date:year  date:quarter  \\\n",
       "0   0                       3 2022-01-01 00:45:00       2022             1   \n",
       "1   1                       3 2022-01-01 01:15:00       2022             1   \n",
       "2   2                       3 2022-01-01 01:30:00       2022             1   \n",
       "\n",
       "   date:month  date:day  date:day_of_week  date:day_of_year  date:weekofyear  \\\n",
       "0           1         1                 5                 1               52   \n",
       "1           1         1                 5                 1               52   \n",
       "2           1         1                 5                 1               52   \n",
       "\n",
       "   ...  date:is_quarter_end  date:is_quarter_start  date:is_year_end  \\\n",
       "0  ...                False                   True             False   \n",
       "1  ...                False                   True             False   \n",
       "2  ...                False                   True             False   \n",
       "\n",
       "   date:is_year_start  date:time  date:hour date:minute  date:second  \\\n",
       "0                True   00:45:00          0          45            0   \n",
       "1                True   01:15:00          1          15            0   \n",
       "2                True   01:30:00          1          30            0   \n",
       "\n",
       "   date:is_weekend  date:day_part  \n",
       "0                1           None  \n",
       "1                1       midnight  \n",
       "2                1       midnight  \n",
       "\n",
       "[3 rows x 22 columns]"
      ]
     },
     "execution_count": 13,
     "metadata": {},
     "output_type": "execute_result"
    }
   ],
   "source": [
    "dt_fe.fit(test, datetime_variables=['date'])\n",
    "test = dt_fe.transform(test)\n",
    "\n",
    "test.head(3)"
   ]
  },
  {
   "cell_type": "markdown",
   "id": "48bb8853",
   "metadata": {
    "papermill": {
     "duration": 0.014494,
     "end_time": "2022-06-22T09:03:03.508410",
     "exception": false,
     "start_time": "2022-06-22T09:03:03.493916",
     "status": "completed"
    },
    "tags": []
   },
   "source": [
    "### Drop unique columns"
   ]
  },
  {
   "cell_type": "code",
   "execution_count": 14,
   "id": "cc0e08f2",
   "metadata": {
    "execution": {
     "iopub.execute_input": "2022-06-22T09:03:03.540063Z",
     "iopub.status.busy": "2022-06-22T09:03:03.539651Z",
     "iopub.status.idle": "2022-06-22T09:03:03.825314Z",
     "shell.execute_reply": "2022-06-22T09:03:03.824093Z"
    },
    "papermill": {
     "duration": 0.304371,
     "end_time": "2022-06-22T09:03:03.827709",
     "exception": false,
     "start_time": "2022-06-22T09:03:03.523338",
     "status": "completed"
    },
    "tags": []
   },
   "outputs": [
    {
     "data": {
      "text/plain": [
       "['date:second']"
      ]
     },
     "execution_count": 14,
     "metadata": {},
     "output_type": "execute_result"
    }
   ],
   "source": [
    "nunique_train=train.nunique().reset_index()\n",
    "remove_col=nunique_train[(nunique_train[0]==len(train)) | (nunique_train[0]==0) | (nunique_train[0]==1) ]['index'].tolist()\n",
    "remove_col"
   ]
  },
  {
   "cell_type": "code",
   "execution_count": 15,
   "id": "801ca88e",
   "metadata": {
    "execution": {
     "iopub.execute_input": "2022-06-22T09:03:03.860311Z",
     "iopub.status.busy": "2022-06-22T09:03:03.859344Z",
     "iopub.status.idle": "2022-06-22T09:03:04.025746Z",
     "shell.execute_reply": "2022-06-22T09:03:04.024340Z"
    },
    "papermill": {
     "duration": 0.185769,
     "end_time": "2022-06-22T09:03:04.028654",
     "exception": false,
     "start_time": "2022-06-22T09:03:03.842885",
     "status": "completed"
    },
    "tags": []
   },
   "outputs": [
    {
     "name": "stdout",
     "output_type": "stream",
     "text": [
      "Before : (717414, 22)\n",
      "After : (717414, 21)\n"
     ]
    },
    {
     "data": {
      "text/html": [
       "<div>\n",
       "<style scoped>\n",
       "    .dataframe tbody tr th:only-of-type {\n",
       "        vertical-align: middle;\n",
       "    }\n",
       "\n",
       "    .dataframe tbody tr th {\n",
       "        vertical-align: top;\n",
       "    }\n",
       "\n",
       "    .dataframe thead th {\n",
       "        text-align: right;\n",
       "    }\n",
       "</style>\n",
       "<table border=\"1\" class=\"dataframe\">\n",
       "  <thead>\n",
       "    <tr style=\"text-align: right;\">\n",
       "      <th></th>\n",
       "      <th>metropolitan_area_code</th>\n",
       "      <th>date</th>\n",
       "      <th>energy_consumption</th>\n",
       "      <th>date:year</th>\n",
       "      <th>date:quarter</th>\n",
       "      <th>date:month</th>\n",
       "      <th>date:day</th>\n",
       "      <th>date:day_of_week</th>\n",
       "      <th>date:day_of_year</th>\n",
       "      <th>date:weekofyear</th>\n",
       "      <th>...</th>\n",
       "      <th>date:is_month_start</th>\n",
       "      <th>date:is_quarter_end</th>\n",
       "      <th>date:is_quarter_start</th>\n",
       "      <th>date:is_year_end</th>\n",
       "      <th>date:is_year_start</th>\n",
       "      <th>date:time</th>\n",
       "      <th>date:hour</th>\n",
       "      <th>date:minute</th>\n",
       "      <th>date:is_weekend</th>\n",
       "      <th>date:day_part</th>\n",
       "    </tr>\n",
       "  </thead>\n",
       "  <tbody>\n",
       "    <tr>\n",
       "      <th>0</th>\n",
       "      <td>3</td>\n",
       "      <td>2017-09-11 02:15:00</td>\n",
       "      <td>477.0</td>\n",
       "      <td>2017</td>\n",
       "      <td>3</td>\n",
       "      <td>9</td>\n",
       "      <td>11</td>\n",
       "      <td>0</td>\n",
       "      <td>254</td>\n",
       "      <td>37</td>\n",
       "      <td>...</td>\n",
       "      <td>False</td>\n",
       "      <td>False</td>\n",
       "      <td>False</td>\n",
       "      <td>False</td>\n",
       "      <td>False</td>\n",
       "      <td>02:15:00</td>\n",
       "      <td>2</td>\n",
       "      <td>15</td>\n",
       "      <td>0</td>\n",
       "      <td>midnight</td>\n",
       "    </tr>\n",
       "    <tr>\n",
       "      <th>1</th>\n",
       "      <td>3</td>\n",
       "      <td>2017-09-11 02:30:00</td>\n",
       "      <td>454.0</td>\n",
       "      <td>2017</td>\n",
       "      <td>3</td>\n",
       "      <td>9</td>\n",
       "      <td>11</td>\n",
       "      <td>0</td>\n",
       "      <td>254</td>\n",
       "      <td>37</td>\n",
       "      <td>...</td>\n",
       "      <td>False</td>\n",
       "      <td>False</td>\n",
       "      <td>False</td>\n",
       "      <td>False</td>\n",
       "      <td>False</td>\n",
       "      <td>02:30:00</td>\n",
       "      <td>2</td>\n",
       "      <td>30</td>\n",
       "      <td>0</td>\n",
       "      <td>midnight</td>\n",
       "    </tr>\n",
       "    <tr>\n",
       "      <th>2</th>\n",
       "      <td>3</td>\n",
       "      <td>2017-09-11 03:45:00</td>\n",
       "      <td>398.0</td>\n",
       "      <td>2017</td>\n",
       "      <td>3</td>\n",
       "      <td>9</td>\n",
       "      <td>11</td>\n",
       "      <td>0</td>\n",
       "      <td>254</td>\n",
       "      <td>37</td>\n",
       "      <td>...</td>\n",
       "      <td>False</td>\n",
       "      <td>False</td>\n",
       "      <td>False</td>\n",
       "      <td>False</td>\n",
       "      <td>False</td>\n",
       "      <td>03:45:00</td>\n",
       "      <td>3</td>\n",
       "      <td>45</td>\n",
       "      <td>0</td>\n",
       "      <td>midnight</td>\n",
       "    </tr>\n",
       "  </tbody>\n",
       "</table>\n",
       "<p>3 rows × 21 columns</p>\n",
       "</div>"
      ],
      "text/plain": [
       "   metropolitan_area_code                date  energy_consumption  date:year  \\\n",
       "0                       3 2017-09-11 02:15:00               477.0       2017   \n",
       "1                       3 2017-09-11 02:30:00               454.0       2017   \n",
       "2                       3 2017-09-11 03:45:00               398.0       2017   \n",
       "\n",
       "   date:quarter  date:month  date:day  date:day_of_week  date:day_of_year  \\\n",
       "0             3           9        11                 0               254   \n",
       "1             3           9        11                 0               254   \n",
       "2             3           9        11                 0               254   \n",
       "\n",
       "   date:weekofyear  ...  date:is_month_start  date:is_quarter_end  \\\n",
       "0               37  ...                False                False   \n",
       "1               37  ...                False                False   \n",
       "2               37  ...                False                False   \n",
       "\n",
       "   date:is_quarter_start  date:is_year_end  date:is_year_start  date:time  \\\n",
       "0                  False             False               False   02:15:00   \n",
       "1                  False             False               False   02:30:00   \n",
       "2                  False             False               False   03:45:00   \n",
       "\n",
       "  date:hour  date:minute  date:is_weekend  date:day_part  \n",
       "0         2           15                0       midnight  \n",
       "1         2           30                0       midnight  \n",
       "2         3           45                0       midnight  \n",
       "\n",
       "[3 rows x 21 columns]"
      ]
     },
     "execution_count": 15,
     "metadata": {},
     "output_type": "execute_result"
    }
   ],
   "source": [
    "print(\"Before :\", train.shape)\n",
    "train = train.drop(remove_col,axis=1)\n",
    "print(\"After :\", train.shape)\n",
    "\n",
    "train.head(3)"
   ]
  },
  {
   "cell_type": "code",
   "execution_count": 16,
   "id": "48717b08",
   "metadata": {
    "execution": {
     "iopub.execute_input": "2022-06-22T09:03:04.061690Z",
     "iopub.status.busy": "2022-06-22T09:03:04.060890Z",
     "iopub.status.idle": "2022-06-22T09:03:04.093194Z",
     "shell.execute_reply": "2022-06-22T09:03:04.092111Z"
    },
    "papermill": {
     "duration": 0.051532,
     "end_time": "2022-06-22T09:03:04.095708",
     "exception": false,
     "start_time": "2022-06-22T09:03:04.044176",
     "status": "completed"
    },
    "tags": []
   },
   "outputs": [
    {
     "name": "stdout",
     "output_type": "stream",
     "text": [
      "Before : (60870, 22)\n",
      "After : (60870, 21)\n"
     ]
    },
    {
     "data": {
      "text/html": [
       "<div>\n",
       "<style scoped>\n",
       "    .dataframe tbody tr th:only-of-type {\n",
       "        vertical-align: middle;\n",
       "    }\n",
       "\n",
       "    .dataframe tbody tr th {\n",
       "        vertical-align: top;\n",
       "    }\n",
       "\n",
       "    .dataframe thead th {\n",
       "        text-align: right;\n",
       "    }\n",
       "</style>\n",
       "<table border=\"1\" class=\"dataframe\">\n",
       "  <thead>\n",
       "    <tr style=\"text-align: right;\">\n",
       "      <th></th>\n",
       "      <th>id</th>\n",
       "      <th>metropolitan_area_code</th>\n",
       "      <th>date</th>\n",
       "      <th>date:year</th>\n",
       "      <th>date:quarter</th>\n",
       "      <th>date:month</th>\n",
       "      <th>date:day</th>\n",
       "      <th>date:day_of_week</th>\n",
       "      <th>date:day_of_year</th>\n",
       "      <th>date:weekofyear</th>\n",
       "      <th>...</th>\n",
       "      <th>date:is_month_start</th>\n",
       "      <th>date:is_quarter_end</th>\n",
       "      <th>date:is_quarter_start</th>\n",
       "      <th>date:is_year_end</th>\n",
       "      <th>date:is_year_start</th>\n",
       "      <th>date:time</th>\n",
       "      <th>date:hour</th>\n",
       "      <th>date:minute</th>\n",
       "      <th>date:is_weekend</th>\n",
       "      <th>date:day_part</th>\n",
       "    </tr>\n",
       "  </thead>\n",
       "  <tbody>\n",
       "    <tr>\n",
       "      <th>0</th>\n",
       "      <td>0</td>\n",
       "      <td>3</td>\n",
       "      <td>2022-01-01 00:45:00</td>\n",
       "      <td>2022</td>\n",
       "      <td>1</td>\n",
       "      <td>1</td>\n",
       "      <td>1</td>\n",
       "      <td>5</td>\n",
       "      <td>1</td>\n",
       "      <td>52</td>\n",
       "      <td>...</td>\n",
       "      <td>True</td>\n",
       "      <td>False</td>\n",
       "      <td>True</td>\n",
       "      <td>False</td>\n",
       "      <td>True</td>\n",
       "      <td>00:45:00</td>\n",
       "      <td>0</td>\n",
       "      <td>45</td>\n",
       "      <td>1</td>\n",
       "      <td>None</td>\n",
       "    </tr>\n",
       "    <tr>\n",
       "      <th>1</th>\n",
       "      <td>1</td>\n",
       "      <td>3</td>\n",
       "      <td>2022-01-01 01:15:00</td>\n",
       "      <td>2022</td>\n",
       "      <td>1</td>\n",
       "      <td>1</td>\n",
       "      <td>1</td>\n",
       "      <td>5</td>\n",
       "      <td>1</td>\n",
       "      <td>52</td>\n",
       "      <td>...</td>\n",
       "      <td>True</td>\n",
       "      <td>False</td>\n",
       "      <td>True</td>\n",
       "      <td>False</td>\n",
       "      <td>True</td>\n",
       "      <td>01:15:00</td>\n",
       "      <td>1</td>\n",
       "      <td>15</td>\n",
       "      <td>1</td>\n",
       "      <td>midnight</td>\n",
       "    </tr>\n",
       "    <tr>\n",
       "      <th>2</th>\n",
       "      <td>2</td>\n",
       "      <td>3</td>\n",
       "      <td>2022-01-01 01:30:00</td>\n",
       "      <td>2022</td>\n",
       "      <td>1</td>\n",
       "      <td>1</td>\n",
       "      <td>1</td>\n",
       "      <td>5</td>\n",
       "      <td>1</td>\n",
       "      <td>52</td>\n",
       "      <td>...</td>\n",
       "      <td>True</td>\n",
       "      <td>False</td>\n",
       "      <td>True</td>\n",
       "      <td>False</td>\n",
       "      <td>True</td>\n",
       "      <td>01:30:00</td>\n",
       "      <td>1</td>\n",
       "      <td>30</td>\n",
       "      <td>1</td>\n",
       "      <td>midnight</td>\n",
       "    </tr>\n",
       "  </tbody>\n",
       "</table>\n",
       "<p>3 rows × 21 columns</p>\n",
       "</div>"
      ],
      "text/plain": [
       "   id  metropolitan_area_code                date  date:year  date:quarter  \\\n",
       "0   0                       3 2022-01-01 00:45:00       2022             1   \n",
       "1   1                       3 2022-01-01 01:15:00       2022             1   \n",
       "2   2                       3 2022-01-01 01:30:00       2022             1   \n",
       "\n",
       "   date:month  date:day  date:day_of_week  date:day_of_year  date:weekofyear  \\\n",
       "0           1         1                 5                 1               52   \n",
       "1           1         1                 5                 1               52   \n",
       "2           1         1                 5                 1               52   \n",
       "\n",
       "   ...  date:is_month_start  date:is_quarter_end  date:is_quarter_start  \\\n",
       "0  ...                 True                False                   True   \n",
       "1  ...                 True                False                   True   \n",
       "2  ...                 True                False                   True   \n",
       "\n",
       "   date:is_year_end  date:is_year_start  date:time date:hour  date:minute  \\\n",
       "0             False                True   00:45:00         0           45   \n",
       "1             False                True   01:15:00         1           15   \n",
       "2             False                True   01:30:00         1           30   \n",
       "\n",
       "   date:is_weekend  date:day_part  \n",
       "0                1           None  \n",
       "1                1       midnight  \n",
       "2                1       midnight  \n",
       "\n",
       "[3 rows x 21 columns]"
      ]
     },
     "execution_count": 16,
     "metadata": {},
     "output_type": "execute_result"
    }
   ],
   "source": [
    "print(\"Before :\", test.shape)\n",
    "test = test.drop(remove_col,axis=1)\n",
    "print(\"After :\", test.shape)\n",
    "\n",
    "test.head(3)"
   ]
  },
  {
   "cell_type": "code",
   "execution_count": 17,
   "id": "c67bdb08",
   "metadata": {
    "execution": {
     "iopub.execute_input": "2022-06-22T09:03:04.129251Z",
     "iopub.status.busy": "2022-06-22T09:03:04.128641Z",
     "iopub.status.idle": "2022-06-22T09:03:04.316234Z",
     "shell.execute_reply": "2022-06-22T09:03:04.315104Z"
    },
    "papermill": {
     "duration": 0.207957,
     "end_time": "2022-06-22T09:03:04.319479",
     "exception": false,
     "start_time": "2022-06-22T09:03:04.111522",
     "status": "completed"
    },
    "tags": []
   },
   "outputs": [
    {
     "name": "stdout",
     "output_type": "stream",
     "text": [
      "<class 'pandas.core.frame.DataFrame'>\n",
      "RangeIndex: 717414 entries, 0 to 717413\n",
      "Data columns (total 21 columns):\n",
      " #   Column                  Non-Null Count   Dtype         \n",
      "---  ------                  --------------   -----         \n",
      " 0   metropolitan_area_code  717414 non-null  int64         \n",
      " 1   date                    717414 non-null  datetime64[ns]\n",
      " 2   energy_consumption      717414 non-null  float64       \n",
      " 3   date:year               717414 non-null  int64         \n",
      " 4   date:quarter            717414 non-null  int64         \n",
      " 5   date:month              717414 non-null  int64         \n",
      " 6   date:day                717414 non-null  int64         \n",
      " 7   date:day_of_week        717414 non-null  int64         \n",
      " 8   date:day_of_year        717414 non-null  int64         \n",
      " 9   date:weekofyear         717414 non-null  int64         \n",
      " 10  date:is_month_end       717414 non-null  bool          \n",
      " 11  date:is_month_start     717414 non-null  bool          \n",
      " 12  date:is_quarter_end     717414 non-null  bool          \n",
      " 13  date:is_quarter_start   717414 non-null  bool          \n",
      " 14  date:is_year_end        717414 non-null  bool          \n",
      " 15  date:is_year_start      717414 non-null  bool          \n",
      " 16  date:time               717414 non-null  object        \n",
      " 17  date:hour               717414 non-null  int64         \n",
      " 18  date:minute             717414 non-null  int64         \n",
      " 19  date:is_weekend         717414 non-null  int64         \n",
      " 20  date:day_part           687180 non-null  object        \n",
      "dtypes: bool(6), datetime64[ns](1), float64(1), int64(11), object(2)\n",
      "memory usage: 86.2+ MB\n"
     ]
    }
   ],
   "source": [
    "train.info()"
   ]
  },
  {
   "cell_type": "code",
   "execution_count": null,
   "id": "0cd49e09",
   "metadata": {
    "papermill": {
     "duration": 0.015681,
     "end_time": "2022-06-22T09:03:04.351816",
     "exception": false,
     "start_time": "2022-06-22T09:03:04.336135",
     "status": "completed"
    },
    "tags": []
   },
   "outputs": [],
   "source": []
  },
  {
   "cell_type": "code",
   "execution_count": 18,
   "id": "99a7d9fd",
   "metadata": {
    "execution": {
     "iopub.execute_input": "2022-06-22T09:03:04.386193Z",
     "iopub.status.busy": "2022-06-22T09:03:04.385369Z",
     "iopub.status.idle": "2022-06-22T09:03:04.448729Z",
     "shell.execute_reply": "2022-06-22T09:03:04.447543Z"
    },
    "papermill": {
     "duration": 0.083793,
     "end_time": "2022-06-22T09:03:04.451451",
     "exception": false,
     "start_time": "2022-06-22T09:03:04.367658",
     "status": "completed"
    },
    "tags": []
   },
   "outputs": [
    {
     "data": {
      "text/html": [
       "<div>\n",
       "<style scoped>\n",
       "    .dataframe tbody tr th:only-of-type {\n",
       "        vertical-align: middle;\n",
       "    }\n",
       "\n",
       "    .dataframe tbody tr th {\n",
       "        vertical-align: top;\n",
       "    }\n",
       "\n",
       "    .dataframe thead th {\n",
       "        text-align: right;\n",
       "    }\n",
       "</style>\n",
       "<table border=\"1\" class=\"dataframe\">\n",
       "  <thead>\n",
       "    <tr style=\"text-align: right;\">\n",
       "      <th></th>\n",
       "      <th>metropolitan_area_code</th>\n",
       "      <th>date</th>\n",
       "      <th>energy_consumption</th>\n",
       "      <th>dateyear</th>\n",
       "      <th>datequarter</th>\n",
       "      <th>datemonth</th>\n",
       "      <th>dateday</th>\n",
       "      <th>dateday_of_week</th>\n",
       "      <th>dateday_of_year</th>\n",
       "      <th>dateweekofyear</th>\n",
       "      <th>...</th>\n",
       "      <th>dateis_month_start</th>\n",
       "      <th>dateis_quarter_end</th>\n",
       "      <th>dateis_quarter_start</th>\n",
       "      <th>dateis_year_end</th>\n",
       "      <th>dateis_year_start</th>\n",
       "      <th>datetime</th>\n",
       "      <th>datehour</th>\n",
       "      <th>dateminute</th>\n",
       "      <th>dateis_weekend</th>\n",
       "      <th>dateday_part</th>\n",
       "    </tr>\n",
       "  </thead>\n",
       "  <tbody>\n",
       "    <tr>\n",
       "      <th>0</th>\n",
       "      <td>3</td>\n",
       "      <td>2017-09-11 02:15:00</td>\n",
       "      <td>477.0</td>\n",
       "      <td>2017</td>\n",
       "      <td>3</td>\n",
       "      <td>9</td>\n",
       "      <td>11</td>\n",
       "      <td>0</td>\n",
       "      <td>254</td>\n",
       "      <td>37</td>\n",
       "      <td>...</td>\n",
       "      <td>False</td>\n",
       "      <td>False</td>\n",
       "      <td>False</td>\n",
       "      <td>False</td>\n",
       "      <td>False</td>\n",
       "      <td>02:15:00</td>\n",
       "      <td>2</td>\n",
       "      <td>15</td>\n",
       "      <td>0</td>\n",
       "      <td>midnight</td>\n",
       "    </tr>\n",
       "    <tr>\n",
       "      <th>1</th>\n",
       "      <td>3</td>\n",
       "      <td>2017-09-11 02:30:00</td>\n",
       "      <td>454.0</td>\n",
       "      <td>2017</td>\n",
       "      <td>3</td>\n",
       "      <td>9</td>\n",
       "      <td>11</td>\n",
       "      <td>0</td>\n",
       "      <td>254</td>\n",
       "      <td>37</td>\n",
       "      <td>...</td>\n",
       "      <td>False</td>\n",
       "      <td>False</td>\n",
       "      <td>False</td>\n",
       "      <td>False</td>\n",
       "      <td>False</td>\n",
       "      <td>02:30:00</td>\n",
       "      <td>2</td>\n",
       "      <td>30</td>\n",
       "      <td>0</td>\n",
       "      <td>midnight</td>\n",
       "    </tr>\n",
       "    <tr>\n",
       "      <th>2</th>\n",
       "      <td>3</td>\n",
       "      <td>2017-09-11 03:45:00</td>\n",
       "      <td>398.0</td>\n",
       "      <td>2017</td>\n",
       "      <td>3</td>\n",
       "      <td>9</td>\n",
       "      <td>11</td>\n",
       "      <td>0</td>\n",
       "      <td>254</td>\n",
       "      <td>37</td>\n",
       "      <td>...</td>\n",
       "      <td>False</td>\n",
       "      <td>False</td>\n",
       "      <td>False</td>\n",
       "      <td>False</td>\n",
       "      <td>False</td>\n",
       "      <td>03:45:00</td>\n",
       "      <td>3</td>\n",
       "      <td>45</td>\n",
       "      <td>0</td>\n",
       "      <td>midnight</td>\n",
       "    </tr>\n",
       "  </tbody>\n",
       "</table>\n",
       "<p>3 rows × 21 columns</p>\n",
       "</div>"
      ],
      "text/plain": [
       "   metropolitan_area_code                date  energy_consumption  dateyear  \\\n",
       "0                       3 2017-09-11 02:15:00               477.0      2017   \n",
       "1                       3 2017-09-11 02:30:00               454.0      2017   \n",
       "2                       3 2017-09-11 03:45:00               398.0      2017   \n",
       "\n",
       "   datequarter  datemonth  dateday  dateday_of_week  dateday_of_year  \\\n",
       "0            3          9       11                0              254   \n",
       "1            3          9       11                0              254   \n",
       "2            3          9       11                0              254   \n",
       "\n",
       "   dateweekofyear  ...  dateis_month_start  dateis_quarter_end  \\\n",
       "0              37  ...               False               False   \n",
       "1              37  ...               False               False   \n",
       "2              37  ...               False               False   \n",
       "\n",
       "   dateis_quarter_start  dateis_year_end  dateis_year_start  datetime  \\\n",
       "0                 False            False              False  02:15:00   \n",
       "1                 False            False              False  02:30:00   \n",
       "2                 False            False              False  03:45:00   \n",
       "\n",
       "  datehour  dateminute  dateis_weekend  dateday_part  \n",
       "0        2          15               0      midnight  \n",
       "1        2          30               0      midnight  \n",
       "2        3          45               0      midnight  \n",
       "\n",
       "[3 rows x 21 columns]"
      ]
     },
     "execution_count": 18,
     "metadata": {},
     "output_type": "execute_result"
    }
   ],
   "source": [
    "import re\n",
    "\n",
    "train = train.rename(columns = lambda x:re.sub('[^A-Za-z0-9_]+', '', x))\n",
    "test = test.rename(columns = lambda x:re.sub('[^A-Za-z0-9_]+', '', x))\n",
    "\n",
    "train.head(3)"
   ]
  },
  {
   "cell_type": "code",
   "execution_count": 19,
   "id": "69c65c5a",
   "metadata": {
    "execution": {
     "iopub.execute_input": "2022-06-22T09:03:04.486465Z",
     "iopub.status.busy": "2022-06-22T09:03:04.485778Z",
     "iopub.status.idle": "2022-06-22T09:03:05.029202Z",
     "shell.execute_reply": "2022-06-22T09:03:05.028187Z"
    },
    "papermill": {
     "duration": 0.563634,
     "end_time": "2022-06-22T09:03:05.031746",
     "exception": false,
     "start_time": "2022-06-22T09:03:04.468112",
     "status": "completed"
    },
    "tags": []
   },
   "outputs": [],
   "source": [
    "bool_cols = [col for col in train.columns if train[col].dtypes == 'bool']\n",
    "\n",
    "for col in bool_cols:\n",
    "    train[col] = train[col].map({1:True, 0:False})\n",
    "    test[col] = test[col].map({1:True, 0:False})"
   ]
  },
  {
   "cell_type": "code",
   "execution_count": 20,
   "id": "0e478b61",
   "metadata": {
    "execution": {
     "iopub.execute_input": "2022-06-22T09:03:05.066633Z",
     "iopub.status.busy": "2022-06-22T09:03:05.065918Z",
     "iopub.status.idle": "2022-06-22T09:03:05.106090Z",
     "shell.execute_reply": "2022-06-22T09:03:05.105036Z"
    },
    "papermill": {
     "duration": 0.060019,
     "end_time": "2022-06-22T09:03:05.108409",
     "exception": false,
     "start_time": "2022-06-22T09:03:05.048390",
     "status": "completed"
    },
    "tags": []
   },
   "outputs": [
    {
     "data": {
      "text/plain": [
       "id                            0\n",
       "metropolitan_area_code        0\n",
       "date                          0\n",
       "dateyear                      0\n",
       "datequarter                   0\n",
       "datemonth                     0\n",
       "dateday                       0\n",
       "dateday_of_week               0\n",
       "dateday_of_year               0\n",
       "dateweekofyear                0\n",
       "dateis_month_end          60870\n",
       "dateis_month_start        60870\n",
       "dateis_quarter_end        60870\n",
       "dateis_quarter_start      60870\n",
       "dateis_year_end           60870\n",
       "dateis_year_start         60870\n",
       "datetime                      0\n",
       "datehour                      0\n",
       "dateminute                    0\n",
       "dateis_weekend                0\n",
       "dateday_part               2505\n",
       "dtype: int64"
      ]
     },
     "execution_count": 20,
     "metadata": {},
     "output_type": "execute_result"
    }
   ],
   "source": [
    "test.isna().sum()"
   ]
  },
  {
   "cell_type": "code",
   "execution_count": 21,
   "id": "57ebb47e",
   "metadata": {
    "execution": {
     "iopub.execute_input": "2022-06-22T09:03:05.143278Z",
     "iopub.status.busy": "2022-06-22T09:03:05.142537Z",
     "iopub.status.idle": "2022-06-22T09:03:05.491035Z",
     "shell.execute_reply": "2022-06-22T09:03:05.490070Z"
    },
    "papermill": {
     "duration": 0.368695,
     "end_time": "2022-06-22T09:03:05.493463",
     "exception": false,
     "start_time": "2022-06-22T09:03:05.124768",
     "status": "completed"
    },
    "tags": []
   },
   "outputs": [
    {
     "data": {
      "text/plain": [
       "metropolitan_area_code         0\n",
       "date                           0\n",
       "energy_consumption             0\n",
       "dateyear                       0\n",
       "datequarter                    0\n",
       "datemonth                      0\n",
       "dateday                        0\n",
       "dateday_of_week                0\n",
       "dateday_of_year                0\n",
       "dateweekofyear                 0\n",
       "dateis_month_end          717414\n",
       "dateis_month_start        717414\n",
       "dateis_quarter_end        717414\n",
       "dateis_quarter_start      717414\n",
       "dateis_year_end           717414\n",
       "dateis_year_start         717414\n",
       "datetime                       0\n",
       "datehour                       0\n",
       "dateminute                     0\n",
       "dateis_weekend                 0\n",
       "dateday_part               30234\n",
       "dtype: int64"
      ]
     },
     "execution_count": 21,
     "metadata": {},
     "output_type": "execute_result"
    }
   ],
   "source": [
    "train.isna().sum()"
   ]
  },
  {
   "cell_type": "code",
   "execution_count": 22,
   "id": "8d962bc0",
   "metadata": {
    "execution": {
     "iopub.execute_input": "2022-06-22T09:03:05.529195Z",
     "iopub.status.busy": "2022-06-22T09:03:05.528522Z",
     "iopub.status.idle": "2022-06-22T09:03:05.760975Z",
     "shell.execute_reply": "2022-06-22T09:03:05.759846Z"
    },
    "papermill": {
     "duration": 0.253347,
     "end_time": "2022-06-22T09:03:05.763617",
     "exception": false,
     "start_time": "2022-06-22T09:03:05.510270",
     "status": "completed"
    },
    "tags": []
   },
   "outputs": [
    {
     "data": {
      "text/plain": [
       "((717414, 12), (60870, 12))"
      ]
     },
     "execution_count": 22,
     "metadata": {},
     "output_type": "execute_result"
    }
   ],
   "source": [
    "drop_cols = ['dateis_month_end','dateis_month_start','dateis_quarter_end','dateis_quarter_start',\n",
    "            'dateis_year_end','dateis_year_start','dateday_part','datetime','date']\n",
    "\n",
    "train = train.drop(drop_cols, axis=1)\n",
    "test = test.drop(drop_cols, axis=1)\n",
    "\n",
    "train.shape, test.shape"
   ]
  },
  {
   "cell_type": "code",
   "execution_count": 23,
   "id": "8627d3f0",
   "metadata": {
    "execution": {
     "iopub.execute_input": "2022-06-22T09:03:05.800521Z",
     "iopub.status.busy": "2022-06-22T09:03:05.800124Z",
     "iopub.status.idle": "2022-06-22T09:03:05.807337Z",
     "shell.execute_reply": "2022-06-22T09:03:05.806102Z"
    },
    "papermill": {
     "duration": 0.027918,
     "end_time": "2022-06-22T09:03:05.809512",
     "exception": false,
     "start_time": "2022-06-22T09:03:05.781594",
     "status": "completed"
    },
    "tags": []
   },
   "outputs": [],
   "source": [
    "test = test.drop(['id'],axis=1)\n",
    "\n",
    "#train.shape, test.shape"
   ]
  },
  {
   "cell_type": "code",
   "execution_count": 24,
   "id": "bc910301",
   "metadata": {
    "execution": {
     "iopub.execute_input": "2022-06-22T09:03:05.846368Z",
     "iopub.status.busy": "2022-06-22T09:03:05.845950Z",
     "iopub.status.idle": "2022-06-22T09:03:05.873649Z",
     "shell.execute_reply": "2022-06-22T09:03:05.872486Z"
    },
    "papermill": {
     "duration": 0.049693,
     "end_time": "2022-06-22T09:03:05.876865",
     "exception": false,
     "start_time": "2022-06-22T09:03:05.827172",
     "status": "completed"
    },
    "tags": []
   },
   "outputs": [
    {
     "name": "stdout",
     "output_type": "stream",
     "text": [
      "<class 'pandas.core.frame.DataFrame'>\n",
      "RangeIndex: 717414 entries, 0 to 717413\n",
      "Data columns (total 12 columns):\n",
      " #   Column                  Non-Null Count   Dtype  \n",
      "---  ------                  --------------   -----  \n",
      " 0   metropolitan_area_code  717414 non-null  int64  \n",
      " 1   energy_consumption      717414 non-null  float64\n",
      " 2   dateyear                717414 non-null  int64  \n",
      " 3   datequarter             717414 non-null  int64  \n",
      " 4   datemonth               717414 non-null  int64  \n",
      " 5   dateday                 717414 non-null  int64  \n",
      " 6   dateday_of_week         717414 non-null  int64  \n",
      " 7   dateday_of_year         717414 non-null  int64  \n",
      " 8   dateweekofyear          717414 non-null  int64  \n",
      " 9   datehour                717414 non-null  int64  \n",
      " 10  dateminute              717414 non-null  int64  \n",
      " 11  dateis_weekend          717414 non-null  int64  \n",
      "dtypes: float64(1), int64(11)\n",
      "memory usage: 65.7 MB\n"
     ]
    }
   ],
   "source": [
    "train.info()"
   ]
  },
  {
   "cell_type": "code",
   "execution_count": 25,
   "id": "244aa587",
   "metadata": {
    "execution": {
     "iopub.execute_input": "2022-06-22T09:03:05.913228Z",
     "iopub.status.busy": "2022-06-22T09:03:05.912465Z",
     "iopub.status.idle": "2022-06-22T09:03:05.926115Z",
     "shell.execute_reply": "2022-06-22T09:03:05.925028Z"
    },
    "papermill": {
     "duration": 0.033896,
     "end_time": "2022-06-22T09:03:05.928469",
     "exception": false,
     "start_time": "2022-06-22T09:03:05.894573",
     "status": "completed"
    },
    "tags": []
   },
   "outputs": [
    {
     "data": {
      "text/html": [
       "<div>\n",
       "<style scoped>\n",
       "    .dataframe tbody tr th:only-of-type {\n",
       "        vertical-align: middle;\n",
       "    }\n",
       "\n",
       "    .dataframe tbody tr th {\n",
       "        vertical-align: top;\n",
       "    }\n",
       "\n",
       "    .dataframe thead th {\n",
       "        text-align: right;\n",
       "    }\n",
       "</style>\n",
       "<table border=\"1\" class=\"dataframe\">\n",
       "  <thead>\n",
       "    <tr style=\"text-align: right;\">\n",
       "      <th></th>\n",
       "      <th>metropolitan_area_code</th>\n",
       "      <th>dateyear</th>\n",
       "      <th>datequarter</th>\n",
       "      <th>datemonth</th>\n",
       "      <th>dateday</th>\n",
       "      <th>dateday_of_week</th>\n",
       "      <th>dateday_of_year</th>\n",
       "      <th>dateweekofyear</th>\n",
       "      <th>datehour</th>\n",
       "      <th>dateminute</th>\n",
       "      <th>dateis_weekend</th>\n",
       "    </tr>\n",
       "  </thead>\n",
       "  <tbody>\n",
       "    <tr>\n",
       "      <th>0</th>\n",
       "      <td>3</td>\n",
       "      <td>2022</td>\n",
       "      <td>1</td>\n",
       "      <td>1</td>\n",
       "      <td>1</td>\n",
       "      <td>5</td>\n",
       "      <td>1</td>\n",
       "      <td>52</td>\n",
       "      <td>0</td>\n",
       "      <td>45</td>\n",
       "      <td>1</td>\n",
       "    </tr>\n",
       "    <tr>\n",
       "      <th>1</th>\n",
       "      <td>3</td>\n",
       "      <td>2022</td>\n",
       "      <td>1</td>\n",
       "      <td>1</td>\n",
       "      <td>1</td>\n",
       "      <td>5</td>\n",
       "      <td>1</td>\n",
       "      <td>52</td>\n",
       "      <td>1</td>\n",
       "      <td>15</td>\n",
       "      <td>1</td>\n",
       "    </tr>\n",
       "    <tr>\n",
       "      <th>2</th>\n",
       "      <td>3</td>\n",
       "      <td>2022</td>\n",
       "      <td>1</td>\n",
       "      <td>1</td>\n",
       "      <td>1</td>\n",
       "      <td>5</td>\n",
       "      <td>1</td>\n",
       "      <td>52</td>\n",
       "      <td>1</td>\n",
       "      <td>30</td>\n",
       "      <td>1</td>\n",
       "    </tr>\n",
       "    <tr>\n",
       "      <th>3</th>\n",
       "      <td>3</td>\n",
       "      <td>2022</td>\n",
       "      <td>1</td>\n",
       "      <td>1</td>\n",
       "      <td>1</td>\n",
       "      <td>5</td>\n",
       "      <td>1</td>\n",
       "      <td>52</td>\n",
       "      <td>2</td>\n",
       "      <td>0</td>\n",
       "      <td>1</td>\n",
       "    </tr>\n",
       "    <tr>\n",
       "      <th>4</th>\n",
       "      <td>3</td>\n",
       "      <td>2022</td>\n",
       "      <td>1</td>\n",
       "      <td>1</td>\n",
       "      <td>1</td>\n",
       "      <td>5</td>\n",
       "      <td>1</td>\n",
       "      <td>52</td>\n",
       "      <td>2</td>\n",
       "      <td>15</td>\n",
       "      <td>1</td>\n",
       "    </tr>\n",
       "  </tbody>\n",
       "</table>\n",
       "</div>"
      ],
      "text/plain": [
       "   metropolitan_area_code  dateyear  datequarter  datemonth  dateday  \\\n",
       "0                       3      2022            1          1        1   \n",
       "1                       3      2022            1          1        1   \n",
       "2                       3      2022            1          1        1   \n",
       "3                       3      2022            1          1        1   \n",
       "4                       3      2022            1          1        1   \n",
       "\n",
       "   dateday_of_week  dateday_of_year  dateweekofyear  datehour  dateminute  \\\n",
       "0                5                1              52         0          45   \n",
       "1                5                1              52         1          15   \n",
       "2                5                1              52         1          30   \n",
       "3                5                1              52         2           0   \n",
       "4                5                1              52         2          15   \n",
       "\n",
       "   dateis_weekend  \n",
       "0               1  \n",
       "1               1  \n",
       "2               1  \n",
       "3               1  \n",
       "4               1  "
      ]
     },
     "execution_count": 25,
     "metadata": {},
     "output_type": "execute_result"
    }
   ],
   "source": [
    "test.head(5)"
   ]
  },
  {
   "cell_type": "markdown",
   "id": "6cd18b49",
   "metadata": {
    "papermill": {
     "duration": 0.017021,
     "end_time": "2022-06-22T09:03:05.962888",
     "exception": false,
     "start_time": "2022-06-22T09:03:05.945867",
     "status": "completed"
    },
    "tags": []
   },
   "source": [
    "# Splitting Data"
   ]
  },
  {
   "cell_type": "code",
   "execution_count": 26,
   "id": "40ca94ee",
   "metadata": {
    "execution": {
     "iopub.execute_input": "2022-06-22T09:03:05.999426Z",
     "iopub.status.busy": "2022-06-22T09:03:05.999012Z",
     "iopub.status.idle": "2022-06-22T09:03:06.033794Z",
     "shell.execute_reply": "2022-06-22T09:03:06.032684Z"
    },
    "papermill": {
     "duration": 0.056422,
     "end_time": "2022-06-22T09:03:06.036418",
     "exception": false,
     "start_time": "2022-06-22T09:03:05.979996",
     "status": "completed"
    },
    "tags": []
   },
   "outputs": [],
   "source": [
    "X = train.copy()\n",
    "y = X.pop('energy_consumption')"
   ]
  },
  {
   "cell_type": "code",
   "execution_count": 27,
   "id": "df15d51a",
   "metadata": {
    "execution": {
     "iopub.execute_input": "2022-06-22T09:03:06.072705Z",
     "iopub.status.busy": "2022-06-22T09:03:06.072349Z",
     "iopub.status.idle": "2022-06-22T09:03:07.243991Z",
     "shell.execute_reply": "2022-06-22T09:03:07.242892Z"
    },
    "papermill": {
     "duration": 1.192415,
     "end_time": "2022-06-22T09:03:07.246320",
     "exception": false,
     "start_time": "2022-06-22T09:03:06.053905",
     "status": "completed"
    },
    "tags": []
   },
   "outputs": [
    {
     "data": {
      "text/plain": [
       "((645672, 11), (71742, 11), (645672,), (71742,))"
      ]
     },
     "execution_count": 27,
     "metadata": {},
     "output_type": "execute_result"
    }
   ],
   "source": [
    "from sklearn.model_selection import train_test_split\n",
    "X_train, X_test, y_train, y_test = train_test_split( X, y, test_size=0.1, random_state=42)\n",
    "\n",
    "X_train.shape, X_test.shape, y_train.shape, y_test.shape"
   ]
  },
  {
   "cell_type": "markdown",
   "id": "c8bec933",
   "metadata": {
    "papermill": {
     "duration": 0.017199,
     "end_time": "2022-06-22T09:03:07.281113",
     "exception": false,
     "start_time": "2022-06-22T09:03:07.263914",
     "status": "completed"
    },
    "tags": []
   },
   "source": [
    "# Modeling : FLAML"
   ]
  },
  {
   "cell_type": "code",
   "execution_count": 28,
   "id": "01f349f5",
   "metadata": {
    "_kg_hide-output": true,
    "collapsed": true,
    "execution": {
     "iopub.execute_input": "2022-06-22T09:03:07.318642Z",
     "iopub.status.busy": "2022-06-22T09:03:07.317992Z",
     "iopub.status.idle": "2022-06-22T09:03:37.355579Z",
     "shell.execute_reply": "2022-06-22T09:03:37.354170Z"
    },
    "jupyter": {
     "outputs_hidden": true
    },
    "papermill": {
     "duration": 30.059282,
     "end_time": "2022-06-22T09:03:37.358284",
     "exception": false,
     "start_time": "2022-06-22T09:03:07.299002",
     "status": "completed"
    },
    "tags": []
   },
   "outputs": [
    {
     "name": "stdout",
     "output_type": "stream",
     "text": [
      "Collecting flaml\r\n",
      "  Downloading FLAML-1.0.7-py3-none-any.whl (196 kB)\r\n",
      "\u001b[2K     \u001b[90m━━━━━━━━━━━━━━━━━━━━━━━━━━━━━━━━━━━━━\u001b[0m \u001b[32m196.4/196.4 kB\u001b[0m \u001b[31m438.3 kB/s\u001b[0m eta \u001b[36m0:00:00\u001b[0m\r\n",
      "\u001b[?25hRequirement already satisfied: scipy>=1.4.1 in /opt/conda/lib/python3.7/site-packages (from flaml) (1.7.3)\r\n",
      "Requirement already satisfied: scikit-learn>=0.24 in /opt/conda/lib/python3.7/site-packages (from flaml) (1.0.2)\r\n",
      "Requirement already satisfied: NumPy>=1.17.0rc1 in /opt/conda/lib/python3.7/site-packages (from flaml) (1.21.6)\r\n",
      "Collecting xgboost<=1.3.3,>=0.90\r\n",
      "  Downloading xgboost-1.3.3-py3-none-manylinux2010_x86_64.whl (157.5 MB)\r\n",
      "\u001b[2K     \u001b[90m━━━━━━━━━━━━━━━━━━━━━━━━━━━━━━━━━━━━━━━\u001b[0m \u001b[32m157.5/157.5 MB\u001b[0m \u001b[31m4.1 MB/s\u001b[0m eta \u001b[36m0:00:00\u001b[0m\r\n",
      "\u001b[?25hRequirement already satisfied: pandas>=1.1.4 in /opt/conda/lib/python3.7/site-packages (from flaml) (1.3.5)\r\n",
      "Requirement already satisfied: lightgbm>=2.3.1 in /opt/conda/lib/python3.7/site-packages (from flaml) (3.3.2)\r\n",
      "Requirement already satisfied: wheel in /opt/conda/lib/python3.7/site-packages (from lightgbm>=2.3.1->flaml) (0.37.1)\r\n",
      "Requirement already satisfied: python-dateutil>=2.7.3 in /opt/conda/lib/python3.7/site-packages (from pandas>=1.1.4->flaml) (2.8.2)\r\n",
      "Requirement already satisfied: pytz>=2017.3 in /opt/conda/lib/python3.7/site-packages (from pandas>=1.1.4->flaml) (2022.1)\r\n",
      "Requirement already satisfied: threadpoolctl>=2.0.0 in /opt/conda/lib/python3.7/site-packages (from scikit-learn>=0.24->flaml) (3.1.0)\r\n",
      "Requirement already satisfied: joblib>=0.11 in /opt/conda/lib/python3.7/site-packages (from scikit-learn>=0.24->flaml) (1.1.0)\r\n",
      "Requirement already satisfied: six>=1.5 in /opt/conda/lib/python3.7/site-packages (from python-dateutil>=2.7.3->pandas>=1.1.4->flaml) (1.16.0)\r\n",
      "Installing collected packages: xgboost, flaml\r\n",
      "  Attempting uninstall: xgboost\r\n",
      "    Found existing installation: xgboost 1.6.1\r\n",
      "    Uninstalling xgboost-1.6.1:\r\n",
      "      Successfully uninstalled xgboost-1.6.1\r\n",
      "Successfully installed flaml-1.0.7 xgboost-1.3.3\r\n",
      "\u001b[33mWARNING: Running pip as the 'root' user can result in broken permissions and conflicting behaviour with the system package manager. It is recommended to use a virtual environment instead: https://pip.pypa.io/warnings/venv\u001b[0m\u001b[33m\r\n",
      "\u001b[0m"
     ]
    }
   ],
   "source": [
    "!pip install flaml"
   ]
  },
  {
   "cell_type": "code",
   "execution_count": 29,
   "id": "c869b9f3",
   "metadata": {
    "_kg_hide-output": true,
    "collapsed": true,
    "execution": {
     "iopub.execute_input": "2022-06-22T09:03:37.428718Z",
     "iopub.status.busy": "2022-06-22T09:03:37.427505Z",
     "iopub.status.idle": "2022-06-22T09:33:40.062251Z",
     "shell.execute_reply": "2022-06-22T09:33:40.060897Z"
    },
    "jupyter": {
     "outputs_hidden": true
    },
    "papermill": {
     "duration": 1802.719308,
     "end_time": "2022-06-22T09:33:40.111753",
     "exception": false,
     "start_time": "2022-06-22T09:03:37.392445",
     "status": "completed"
    },
    "tags": []
   },
   "outputs": [
    {
     "data": {
      "text/html": [
       "<style type='text/css'>\n",
       ".datatable table.frame { margin-bottom: 0; }\n",
       ".datatable table.frame thead { border-bottom: none; }\n",
       ".datatable table.frame tr.coltypes td {  color: #FFFFFF;  line-height: 6px;  padding: 0 0.5em;}\n",
       ".datatable .bool    { background: #DDDD99; }\n",
       ".datatable .object  { background: #565656; }\n",
       ".datatable .int     { background: #5D9E5D; }\n",
       ".datatable .float   { background: #4040CC; }\n",
       ".datatable .str     { background: #CC4040; }\n",
       ".datatable .time    { background: #40CC40; }\n",
       ".datatable .row_index {  background: var(--jp-border-color3);  border-right: 1px solid var(--jp-border-color0);  color: var(--jp-ui-font-color3);  font-size: 9px;}\n",
       ".datatable .frame tbody td { text-align: left; }\n",
       ".datatable .frame tr.coltypes .row_index {  background: var(--jp-border-color0);}\n",
       ".datatable th:nth-child(2) { padding-left: 12px; }\n",
       ".datatable .hellipsis {  color: var(--jp-cell-editor-border-color);}\n",
       ".datatable .vellipsis {  background: var(--jp-layout-color0);  color: var(--jp-cell-editor-border-color);}\n",
       ".datatable .na {  color: var(--jp-cell-editor-border-color);  font-size: 80%;}\n",
       ".datatable .sp {  opacity: 0.25;}\n",
       ".datatable .footer { font-size: 9px; }\n",
       ".datatable .frame_dimensions {  background: var(--jp-border-color3);  border-top: 1px solid var(--jp-border-color0);  color: var(--jp-ui-font-color3);  display: inline-block;  opacity: 0.6;  padding: 1px 10px 1px 5px;}\n",
       "</style>\n"
      ],
      "text/plain": [
       "<IPython.core.display.HTML object>"
      ]
     },
     "metadata": {},
     "output_type": "display_data"
    },
    {
     "name": "stderr",
     "output_type": "stream",
     "text": [
      "[flaml.automl: 06-22 09:03:41] {2390} INFO - task = regression\n",
      "[flaml.automl: 06-22 09:03:41] {2392} INFO - Data split method: uniform\n",
      "[flaml.automl: 06-22 09:03:41] {2396} INFO - Evaluation method: holdout\n",
      "[flaml.automl: 06-22 09:03:41] {2465} INFO - Minimizing error metric: rmse\n",
      "[flaml.automl: 06-22 09:03:41] {2605} INFO - List of ML learners in AutoML Run: ['lgbm', 'rf', 'catboost', 'xgboost', 'extra_tree', 'xgb_limitdepth']\n",
      "[flaml.automl: 06-22 09:03:41] {2897} INFO - iteration 0, current learner lgbm\n",
      "[flaml.automl: 06-22 09:03:41] {3026} INFO - Estimated sufficient time budget=77463s. Estimated necessary time budget=662s.\n",
      "[flaml.automl: 06-22 09:03:41] {3078} INFO -  at 1.9s,\testimator lgbm's best error=807.0028,\tbest estimator lgbm's best error=807.0028\n",
      "[flaml.automl: 06-22 09:03:41] {2897} INFO - iteration 1, current learner lgbm\n",
      "[flaml.automl: 06-22 09:03:41] {3078} INFO -  at 1.9s,\testimator lgbm's best error=807.0028,\tbest estimator lgbm's best error=807.0028\n",
      "[flaml.automl: 06-22 09:03:41] {2897} INFO - iteration 2, current learner lgbm\n",
      "[flaml.automl: 06-22 09:03:41] {3078} INFO -  at 2.0s,\testimator lgbm's best error=806.0806,\tbest estimator lgbm's best error=806.0806\n",
      "[flaml.automl: 06-22 09:03:41] {2897} INFO - iteration 3, current learner lgbm\n",
      "[flaml.automl: 06-22 09:03:41] {3078} INFO -  at 2.1s,\testimator lgbm's best error=255.2281,\tbest estimator lgbm's best error=255.2281\n",
      "[flaml.automl: 06-22 09:03:41] {2897} INFO - iteration 4, current learner lgbm\n",
      "[flaml.automl: 06-22 09:03:42] {3078} INFO -  at 2.2s,\testimator lgbm's best error=216.4881,\tbest estimator lgbm's best error=216.4881\n",
      "[flaml.automl: 06-22 09:03:42] {2897} INFO - iteration 5, current learner lgbm\n",
      "[flaml.automl: 06-22 09:03:42] {3078} INFO -  at 2.3s,\testimator lgbm's best error=216.4881,\tbest estimator lgbm's best error=216.4881\n",
      "[flaml.automl: 06-22 09:03:42] {2897} INFO - iteration 6, current learner lgbm\n",
      "[flaml.automl: 06-22 09:03:42] {3078} INFO -  at 2.3s,\testimator lgbm's best error=216.4881,\tbest estimator lgbm's best error=216.4881\n",
      "[flaml.automl: 06-22 09:03:42] {2897} INFO - iteration 7, current learner lgbm\n",
      "[flaml.automl: 06-22 09:03:42] {3078} INFO -  at 2.5s,\testimator lgbm's best error=204.5043,\tbest estimator lgbm's best error=204.5043\n",
      "[flaml.automl: 06-22 09:03:42] {2897} INFO - iteration 8, current learner xgboost\n",
      "[flaml.automl: 06-22 09:03:42] {3078} INFO -  at 2.5s,\testimator xgboost's best error=981.9620,\tbest estimator lgbm's best error=204.5043\n",
      "[flaml.automl: 06-22 09:03:42] {2897} INFO - iteration 9, current learner xgboost\n",
      "[flaml.automl: 06-22 09:03:42] {3078} INFO -  at 2.6s,\testimator xgboost's best error=981.9620,\tbest estimator lgbm's best error=204.5043\n",
      "[flaml.automl: 06-22 09:03:42] {2897} INFO - iteration 10, current learner xgboost\n",
      "[flaml.automl: 06-22 09:03:42] {3078} INFO -  at 2.6s,\testimator xgboost's best error=980.9341,\tbest estimator lgbm's best error=204.5043\n",
      "[flaml.automl: 06-22 09:03:42] {2897} INFO - iteration 11, current learner extra_tree\n",
      "[flaml.automl: 06-22 09:03:42] {3078} INFO -  at 3.0s,\testimator extra_tree's best error=391.4659,\tbest estimator lgbm's best error=204.5043\n",
      "[flaml.automl: 06-22 09:03:42] {2897} INFO - iteration 12, current learner lgbm\n",
      "[flaml.automl: 06-22 09:03:42] {3078} INFO -  at 3.0s,\testimator lgbm's best error=204.5043,\tbest estimator lgbm's best error=204.5043\n",
      "[flaml.automl: 06-22 09:03:42] {2897} INFO - iteration 13, current learner lgbm\n",
      "[flaml.automl: 06-22 09:03:43] {3078} INFO -  at 3.7s,\testimator lgbm's best error=111.3215,\tbest estimator lgbm's best error=111.3215\n",
      "[flaml.automl: 06-22 09:03:43] {2897} INFO - iteration 14, current learner rf\n",
      "[flaml.automl: 06-22 09:03:43] {3078} INFO -  at 4.0s,\testimator rf's best error=367.3287,\tbest estimator lgbm's best error=111.3215\n",
      "[flaml.automl: 06-22 09:03:43] {2897} INFO - iteration 15, current learner extra_tree\n",
      "[flaml.automl: 06-22 09:03:44] {3078} INFO -  at 4.3s,\testimator extra_tree's best error=234.9265,\tbest estimator lgbm's best error=111.3215\n",
      "[flaml.automl: 06-22 09:03:44] {2897} INFO - iteration 16, current learner lgbm\n",
      "[flaml.automl: 06-22 09:03:45] {3078} INFO -  at 5.6s,\testimator lgbm's best error=83.6118,\tbest estimator lgbm's best error=83.6118\n",
      "[flaml.automl: 06-22 09:03:45] {2897} INFO - iteration 17, current learner extra_tree\n",
      "[flaml.automl: 06-22 09:03:45] {3078} INFO -  at 5.9s,\testimator extra_tree's best error=234.9265,\tbest estimator lgbm's best error=83.6118\n",
      "[flaml.automl: 06-22 09:03:45] {2897} INFO - iteration 18, current learner lgbm\n",
      "[flaml.automl: 06-22 09:03:46] {3078} INFO -  at 6.6s,\testimator lgbm's best error=83.6118,\tbest estimator lgbm's best error=83.6118\n",
      "[flaml.automl: 06-22 09:03:46] {2897} INFO - iteration 19, current learner rf\n",
      "[flaml.automl: 06-22 09:03:46] {3078} INFO -  at 6.9s,\testimator rf's best error=200.7975,\tbest estimator lgbm's best error=83.6118\n",
      "[flaml.automl: 06-22 09:03:46] {2897} INFO - iteration 20, current learner rf\n",
      "[flaml.automl: 06-22 09:03:47] {3078} INFO -  at 7.2s,\testimator rf's best error=200.7975,\tbest estimator lgbm's best error=83.6118\n",
      "[flaml.automl: 06-22 09:03:47] {2897} INFO - iteration 21, current learner rf\n",
      "[flaml.automl: 06-22 09:03:47] {3078} INFO -  at 7.7s,\testimator rf's best error=165.4157,\tbest estimator lgbm's best error=83.6118\n",
      "[flaml.automl: 06-22 09:03:47] {2897} INFO - iteration 22, current learner lgbm\n",
      "[flaml.automl: 06-22 09:03:48] {3078} INFO -  at 8.5s,\testimator lgbm's best error=83.6118,\tbest estimator lgbm's best error=83.6118\n",
      "[flaml.automl: 06-22 09:03:48] {2897} INFO - iteration 23, current learner lgbm\n",
      "[flaml.automl: 06-22 09:03:49] {3078} INFO -  at 9.5s,\testimator lgbm's best error=83.6118,\tbest estimator lgbm's best error=83.6118\n",
      "[flaml.automl: 06-22 09:03:49] {2897} INFO - iteration 24, current learner extra_tree\n",
      "[flaml.automl: 06-22 09:03:49] {3078} INFO -  at 10.0s,\testimator extra_tree's best error=185.8676,\tbest estimator lgbm's best error=83.6118\n",
      "[flaml.automl: 06-22 09:03:49] {2897} INFO - iteration 25, current learner catboost\n",
      "[flaml.automl: 06-22 09:03:50] {3078} INFO -  at 10.8s,\testimator catboost's best error=121.1807,\tbest estimator lgbm's best error=83.6118\n",
      "[flaml.automl: 06-22 09:03:50] {2897} INFO - iteration 26, current learner extra_tree\n",
      "[flaml.automl: 06-22 09:03:51] {3078} INFO -  at 11.3s,\testimator extra_tree's best error=158.6958,\tbest estimator lgbm's best error=83.6118\n",
      "[flaml.automl: 06-22 09:03:51] {2897} INFO - iteration 27, current learner catboost\n",
      "[flaml.automl: 06-22 09:04:01] {3078} INFO -  at 21.6s,\testimator catboost's best error=121.1807,\tbest estimator lgbm's best error=83.6118\n",
      "[flaml.automl: 06-22 09:04:01] {2897} INFO - iteration 28, current learner extra_tree\n",
      "[flaml.automl: 06-22 09:04:01] {3078} INFO -  at 22.0s,\testimator extra_tree's best error=158.6958,\tbest estimator lgbm's best error=83.6118\n",
      "[flaml.automl: 06-22 09:04:01] {2897} INFO - iteration 29, current learner extra_tree\n",
      "[flaml.automl: 06-22 09:04:02] {3078} INFO -  at 22.5s,\testimator extra_tree's best error=158.6958,\tbest estimator lgbm's best error=83.6118\n",
      "[flaml.automl: 06-22 09:04:02] {2897} INFO - iteration 30, current learner extra_tree\n",
      "[flaml.automl: 06-22 09:04:02] {3078} INFO -  at 22.9s,\testimator extra_tree's best error=158.6958,\tbest estimator lgbm's best error=83.6118\n",
      "[flaml.automl: 06-22 09:04:02] {2897} INFO - iteration 31, current learner lgbm\n",
      "[flaml.automl: 06-22 09:04:03] {3078} INFO -  at 24.1s,\testimator lgbm's best error=83.6118,\tbest estimator lgbm's best error=83.6118\n",
      "[flaml.automl: 06-22 09:04:03] {2897} INFO - iteration 32, current learner lgbm\n",
      "[flaml.automl: 06-22 09:04:08] {3078} INFO -  at 29.1s,\testimator lgbm's best error=65.3898,\tbest estimator lgbm's best error=65.3898\n",
      "[flaml.automl: 06-22 09:04:08] {2897} INFO - iteration 33, current learner lgbm\n",
      "[flaml.automl: 06-22 09:04:12] {3078} INFO -  at 32.9s,\testimator lgbm's best error=47.7657,\tbest estimator lgbm's best error=47.7657\n",
      "[flaml.automl: 06-22 09:04:12] {2897} INFO - iteration 34, current learner xgboost\n",
      "[flaml.automl: 06-22 09:04:12] {3078} INFO -  at 32.9s,\testimator xgboost's best error=436.4267,\tbest estimator lgbm's best error=47.7657\n",
      "[flaml.automl: 06-22 09:04:12] {2897} INFO - iteration 35, current learner xgboost\n",
      "[flaml.automl: 06-22 09:04:12] {3078} INFO -  at 33.0s,\testimator xgboost's best error=436.4267,\tbest estimator lgbm's best error=47.7657\n",
      "[flaml.automl: 06-22 09:04:12] {2897} INFO - iteration 36, current learner xgboost\n",
      "[flaml.automl: 06-22 09:04:12] {3078} INFO -  at 33.1s,\testimator xgboost's best error=436.4267,\tbest estimator lgbm's best error=47.7657\n",
      "[flaml.automl: 06-22 09:04:12] {2897} INFO - iteration 37, current learner xgboost\n",
      "[flaml.automl: 06-22 09:04:12] {3078} INFO -  at 33.2s,\testimator xgboost's best error=191.3807,\tbest estimator lgbm's best error=47.7657\n",
      "[flaml.automl: 06-22 09:04:12] {2897} INFO - iteration 38, current learner xgboost\n",
      "[flaml.automl: 06-22 09:04:13] {3078} INFO -  at 33.3s,\testimator xgboost's best error=184.4568,\tbest estimator lgbm's best error=47.7657\n",
      "[flaml.automl: 06-22 09:04:13] {2897} INFO - iteration 39, current learner xgboost\n",
      "[flaml.automl: 06-22 09:04:13] {3078} INFO -  at 33.4s,\testimator xgboost's best error=179.8559,\tbest estimator lgbm's best error=47.7657\n",
      "[flaml.automl: 06-22 09:04:13] {2897} INFO - iteration 40, current learner lgbm\n",
      "[flaml.automl: 06-22 09:04:17] {3078} INFO -  at 37.7s,\testimator lgbm's best error=47.7657,\tbest estimator lgbm's best error=47.7657\n",
      "[flaml.automl: 06-22 09:04:17] {2897} INFO - iteration 41, current learner xgboost\n",
      "[flaml.automl: 06-22 09:04:18] {3078} INFO -  at 38.3s,\testimator xgboost's best error=133.4668,\tbest estimator lgbm's best error=47.7657\n",
      "[flaml.automl: 06-22 09:04:18] {2897} INFO - iteration 42, current learner xgboost\n",
      "[flaml.automl: 06-22 09:04:18] {3078} INFO -  at 38.9s,\testimator xgboost's best error=133.4668,\tbest estimator lgbm's best error=47.7657\n",
      "[flaml.automl: 06-22 09:04:18] {2897} INFO - iteration 43, current learner lgbm\n",
      "[flaml.automl: 06-22 09:04:20] {3078} INFO -  at 40.7s,\testimator lgbm's best error=47.7657,\tbest estimator lgbm's best error=47.7657\n",
      "[flaml.automl: 06-22 09:04:20] {2897} INFO - iteration 44, current learner xgboost\n",
      "[flaml.automl: 06-22 09:04:20] {3078} INFO -  at 40.8s,\testimator xgboost's best error=133.4668,\tbest estimator lgbm's best error=47.7657\n",
      "[flaml.automl: 06-22 09:04:20] {2897} INFO - iteration 45, current learner extra_tree\n",
      "[flaml.automl: 06-22 09:04:21] {3078} INFO -  at 41.2s,\testimator extra_tree's best error=146.7968,\tbest estimator lgbm's best error=47.7657\n",
      "[flaml.automl: 06-22 09:04:21] {2897} INFO - iteration 46, current learner xgboost\n",
      "[flaml.automl: 06-22 09:04:21] {3078} INFO -  at 41.3s,\testimator xgboost's best error=122.0399,\tbest estimator lgbm's best error=47.7657\n",
      "[flaml.automl: 06-22 09:04:21] {2897} INFO - iteration 47, current learner lgbm\n",
      "[flaml.automl: 06-22 09:04:32] {3078} INFO -  at 53.0s,\testimator lgbm's best error=44.6959,\tbest estimator lgbm's best error=44.6959\n",
      "[flaml.automl: 06-22 09:04:32] {2897} INFO - iteration 48, current learner xgboost\n",
      "[flaml.automl: 06-22 09:04:32] {3078} INFO -  at 53.1s,\testimator xgboost's best error=122.0399,\tbest estimator lgbm's best error=44.6959\n",
      "[flaml.automl: 06-22 09:04:32] {2897} INFO - iteration 49, current learner lgbm\n",
      "[flaml.automl: 06-22 09:04:47] {3078} INFO -  at 67.6s,\testimator lgbm's best error=43.8726,\tbest estimator lgbm's best error=43.8726\n",
      "[flaml.automl: 06-22 09:04:47] {2897} INFO - iteration 50, current learner rf\n",
      "[flaml.automl: 06-22 09:04:47] {3078} INFO -  at 68.0s,\testimator rf's best error=147.0625,\tbest estimator lgbm's best error=43.8726\n",
      "[flaml.automl: 06-22 09:04:47] {2897} INFO - iteration 51, current learner xgboost\n",
      "[flaml.automl: 06-22 09:04:48] {3078} INFO -  at 68.4s,\testimator xgboost's best error=122.0399,\tbest estimator lgbm's best error=43.8726\n",
      "[flaml.automl: 06-22 09:04:48] {2897} INFO - iteration 52, current learner rf\n",
      "[flaml.automl: 06-22 09:04:48] {3078} INFO -  at 68.8s,\testimator rf's best error=147.0625,\tbest estimator lgbm's best error=43.8726\n",
      "[flaml.automl: 06-22 09:04:48] {2897} INFO - iteration 53, current learner xgb_limitdepth\n",
      "[flaml.automl: 06-22 09:04:48] {3078} INFO -  at 68.9s,\testimator xgb_limitdepth's best error=147.7245,\tbest estimator lgbm's best error=43.8726\n",
      "[flaml.automl: 06-22 09:04:48] {2897} INFO - iteration 54, current learner xgb_limitdepth\n",
      "[flaml.automl: 06-22 09:04:48] {3078} INFO -  at 69.0s,\testimator xgb_limitdepth's best error=147.7245,\tbest estimator lgbm's best error=43.8726\n",
      "[flaml.automl: 06-22 09:04:48] {2897} INFO - iteration 55, current learner xgb_limitdepth\n",
      "[flaml.automl: 06-22 09:04:48] {3078} INFO -  at 69.2s,\testimator xgb_limitdepth's best error=134.9176,\tbest estimator lgbm's best error=43.8726\n",
      "[flaml.automl: 06-22 09:04:48] {2897} INFO - iteration 56, current learner lgbm\n",
      "[flaml.automl: 06-22 09:05:00] {3078} INFO -  at 81.2s,\testimator lgbm's best error=43.8726,\tbest estimator lgbm's best error=43.8726\n",
      "[flaml.automl: 06-22 09:05:00] {2897} INFO - iteration 57, current learner xgb_limitdepth\n",
      "[flaml.automl: 06-22 09:05:01] {3078} INFO -  at 81.4s,\testimator xgb_limitdepth's best error=134.9176,\tbest estimator lgbm's best error=43.8726\n",
      "[flaml.automl: 06-22 09:05:01] {2897} INFO - iteration 58, current learner rf\n",
      "[flaml.automl: 06-22 09:05:01] {3078} INFO -  at 81.8s,\testimator rf's best error=143.4495,\tbest estimator lgbm's best error=43.8726\n",
      "[flaml.automl: 06-22 09:05:01] {2897} INFO - iteration 59, current learner catboost\n",
      "[flaml.automl: 06-22 09:05:02] {3078} INFO -  at 82.4s,\testimator catboost's best error=117.6763,\tbest estimator lgbm's best error=43.8726\n",
      "[flaml.automl: 06-22 09:05:02] {2897} INFO - iteration 60, current learner extra_tree\n",
      "[flaml.automl: 06-22 09:05:02] {3078} INFO -  at 82.8s,\testimator extra_tree's best error=146.7968,\tbest estimator lgbm's best error=43.8726\n",
      "[flaml.automl: 06-22 09:05:02] {2897} INFO - iteration 61, current learner lgbm\n",
      "[flaml.automl: 06-22 09:05:19] {3078} INFO -  at 99.4s,\testimator lgbm's best error=43.8726,\tbest estimator lgbm's best error=43.8726\n",
      "[flaml.automl: 06-22 09:05:19] {2897} INFO - iteration 62, current learner xgb_limitdepth\n",
      "[flaml.automl: 06-22 09:05:19] {3078} INFO -  at 99.7s,\testimator xgb_limitdepth's best error=134.9176,\tbest estimator lgbm's best error=43.8726\n",
      "[flaml.automl: 06-22 09:05:19] {2897} INFO - iteration 63, current learner rf\n",
      "[flaml.automl: 06-22 09:05:19] {3078} INFO -  at 100.1s,\testimator rf's best error=143.4495,\tbest estimator lgbm's best error=43.8726\n",
      "[flaml.automl: 06-22 09:05:19] {2897} INFO - iteration 64, current learner xgb_limitdepth\n",
      "[flaml.automl: 06-22 09:05:19] {3078} INFO -  at 100.2s,\testimator xgb_limitdepth's best error=134.9176,\tbest estimator lgbm's best error=43.8726\n",
      "[flaml.automl: 06-22 09:05:19] {2897} INFO - iteration 65, current learner xgb_limitdepth\n",
      "[flaml.automl: 06-22 09:05:20] {3078} INFO -  at 100.6s,\testimator xgb_limitdepth's best error=98.7827,\tbest estimator lgbm's best error=43.8726\n",
      "[flaml.automl: 06-22 09:05:20] {2897} INFO - iteration 66, current learner catboost\n",
      "[flaml.automl: 06-22 09:05:30] {3078} INFO -  at 110.2s,\testimator catboost's best error=117.6763,\tbest estimator lgbm's best error=43.8726\n",
      "[flaml.automl: 06-22 09:05:30] {2897} INFO - iteration 67, current learner xgb_limitdepth\n",
      "[flaml.automl: 06-22 09:05:30] {3078} INFO -  at 110.7s,\testimator xgb_limitdepth's best error=98.7827,\tbest estimator lgbm's best error=43.8726\n",
      "[flaml.automl: 06-22 09:05:30] {2897} INFO - iteration 68, current learner xgb_limitdepth\n",
      "[flaml.automl: 06-22 09:05:30] {3078} INFO -  at 111.1s,\testimator xgb_limitdepth's best error=98.7827,\tbest estimator lgbm's best error=43.8726\n",
      "[flaml.automl: 06-22 09:05:30] {2897} INFO - iteration 69, current learner extra_tree\n",
      "[flaml.automl: 06-22 09:05:31] {3078} INFO -  at 111.5s,\testimator extra_tree's best error=146.7968,\tbest estimator lgbm's best error=43.8726\n",
      "[flaml.automl: 06-22 09:05:31] {2897} INFO - iteration 70, current learner lgbm\n",
      "[flaml.automl: 06-22 09:05:47] {3078} INFO -  at 127.5s,\testimator lgbm's best error=43.8726,\tbest estimator lgbm's best error=43.8726\n",
      "[flaml.automl: 06-22 09:05:47] {2897} INFO - iteration 71, current learner xgb_limitdepth\n",
      "[flaml.automl: 06-22 09:05:47] {3078} INFO -  at 128.1s,\testimator xgb_limitdepth's best error=92.1104,\tbest estimator lgbm's best error=43.8726\n",
      "[flaml.automl: 06-22 09:05:47] {2897} INFO - iteration 72, current learner extra_tree\n",
      "[flaml.automl: 06-22 09:05:48] {3078} INFO -  at 128.6s,\testimator extra_tree's best error=146.7968,\tbest estimator lgbm's best error=43.8726\n",
      "[flaml.automl: 06-22 09:05:48] {2897} INFO - iteration 73, current learner xgboost\n",
      "[flaml.automl: 06-22 09:05:48] {3078} INFO -  at 128.7s,\testimator xgboost's best error=122.0399,\tbest estimator lgbm's best error=43.8726\n",
      "[flaml.automl: 06-22 09:05:48] {2897} INFO - iteration 74, current learner xgb_limitdepth\n",
      "[flaml.automl: 06-22 09:05:48] {3078} INFO -  at 129.2s,\testimator xgb_limitdepth's best error=92.1104,\tbest estimator lgbm's best error=43.8726\n",
      "[flaml.automl: 06-22 09:05:48] {2897} INFO - iteration 75, current learner xgboost\n",
      "[flaml.automl: 06-22 09:05:49] {3078} INFO -  at 129.4s,\testimator xgboost's best error=95.1327,\tbest estimator lgbm's best error=43.8726\n",
      "[flaml.automl: 06-22 09:05:49] {2897} INFO - iteration 76, current learner extra_tree\n",
      "[flaml.automl: 06-22 09:05:49] {3078} INFO -  at 129.8s,\testimator extra_tree's best error=146.7968,\tbest estimator lgbm's best error=43.8726\n",
      "[flaml.automl: 06-22 09:05:49] {2897} INFO - iteration 77, current learner xgboost\n",
      "[flaml.automl: 06-22 09:05:49] {3078} INFO -  at 130.0s,\testimator xgboost's best error=95.1327,\tbest estimator lgbm's best error=43.8726\n",
      "[flaml.automl: 06-22 09:05:49] {2897} INFO - iteration 78, current learner xgboost\n",
      "[flaml.automl: 06-22 09:05:50] {3078} INFO -  at 130.9s,\testimator xgboost's best error=90.2158,\tbest estimator lgbm's best error=43.8726\n",
      "[flaml.automl: 06-22 09:05:50] {2897} INFO - iteration 79, current learner xgb_limitdepth\n",
      "[flaml.automl: 06-22 09:05:50] {3078} INFO -  at 131.2s,\testimator xgb_limitdepth's best error=92.1104,\tbest estimator lgbm's best error=43.8726\n",
      "[flaml.automl: 06-22 09:05:50] {2897} INFO - iteration 80, current learner xgboost\n",
      "[flaml.automl: 06-22 09:05:51] {3078} INFO -  at 131.4s,\testimator xgboost's best error=90.2158,\tbest estimator lgbm's best error=43.8726\n",
      "[flaml.automl: 06-22 09:05:51] {2897} INFO - iteration 81, current learner lgbm\n",
      "[flaml.automl: 06-22 09:06:13] {3078} INFO -  at 154.1s,\testimator lgbm's best error=36.9117,\tbest estimator lgbm's best error=36.9117\n",
      "[flaml.automl: 06-22 09:06:13] {2897} INFO - iteration 82, current learner xgb_limitdepth\n",
      "[flaml.automl: 06-22 09:06:15] {3078} INFO -  at 155.3s,\testimator xgb_limitdepth's best error=84.7148,\tbest estimator lgbm's best error=36.9117\n",
      "[flaml.automl: 06-22 09:06:15] {2897} INFO - iteration 83, current learner xgboost\n",
      "[flaml.automl: 06-22 09:06:21] {3078} INFO -  at 162.1s,\testimator xgboost's best error=85.4176,\tbest estimator lgbm's best error=36.9117\n",
      "[flaml.automl: 06-22 09:06:21] {2897} INFO - iteration 84, current learner xgb_limitdepth\n",
      "[flaml.automl: 06-22 09:06:22] {3078} INFO -  at 162.7s,\testimator xgb_limitdepth's best error=84.7148,\tbest estimator lgbm's best error=36.9117\n",
      "[flaml.automl: 06-22 09:06:22] {2897} INFO - iteration 85, current learner xgb_limitdepth\n",
      "[flaml.automl: 06-22 09:06:25] {3078} INFO -  at 165.2s,\testimator xgb_limitdepth's best error=83.9565,\tbest estimator lgbm's best error=36.9117\n",
      "[flaml.automl: 06-22 09:06:25] {2897} INFO - iteration 86, current learner extra_tree\n",
      "[flaml.automl: 06-22 09:06:25] {3078} INFO -  at 165.8s,\testimator extra_tree's best error=133.2424,\tbest estimator lgbm's best error=36.9117\n",
      "[flaml.automl: 06-22 09:06:25] {2897} INFO - iteration 87, current learner extra_tree\n",
      "[flaml.automl: 06-22 09:06:26] {3078} INFO -  at 166.2s,\testimator extra_tree's best error=133.2424,\tbest estimator lgbm's best error=36.9117\n",
      "[flaml.automl: 06-22 09:06:26] {2897} INFO - iteration 88, current learner extra_tree\n",
      "[flaml.automl: 06-22 09:06:26] {3078} INFO -  at 166.9s,\testimator extra_tree's best error=110.2987,\tbest estimator lgbm's best error=36.9117\n",
      "[flaml.automl: 06-22 09:06:26] {2897} INFO - iteration 89, current learner extra_tree\n",
      "[flaml.automl: 06-22 09:06:27] {3078} INFO -  at 167.5s,\testimator extra_tree's best error=108.0575,\tbest estimator lgbm's best error=36.9117\n",
      "[flaml.automl: 06-22 09:06:27] {2897} INFO - iteration 90, current learner rf\n",
      "[flaml.automl: 06-22 09:06:27] {3078} INFO -  at 168.0s,\testimator rf's best error=139.9086,\tbest estimator lgbm's best error=36.9117\n",
      "[flaml.automl: 06-22 09:06:27] {2897} INFO - iteration 91, current learner extra_tree\n",
      "[flaml.automl: 06-22 09:06:28] {3078} INFO -  at 168.9s,\testimator extra_tree's best error=101.7561,\tbest estimator lgbm's best error=36.9117\n",
      "[flaml.automl: 06-22 09:06:28] {2897} INFO - iteration 92, current learner extra_tree\n",
      "[flaml.automl: 06-22 09:06:29] {3078} INFO -  at 169.4s,\testimator extra_tree's best error=101.7561,\tbest estimator lgbm's best error=36.9117\n",
      "[flaml.automl: 06-22 09:06:29] {2897} INFO - iteration 93, current learner extra_tree\n",
      "[flaml.automl: 06-22 09:06:30] {3078} INFO -  at 170.8s,\testimator extra_tree's best error=100.9559,\tbest estimator lgbm's best error=36.9117\n",
      "[flaml.automl: 06-22 09:06:30] {2897} INFO - iteration 94, current learner rf\n",
      "[flaml.automl: 06-22 09:06:30] {3078} INFO -  at 171.2s,\testimator rf's best error=139.9086,\tbest estimator lgbm's best error=36.9117\n",
      "[flaml.automl: 06-22 09:06:30] {2897} INFO - iteration 95, current learner rf\n",
      "[flaml.automl: 06-22 09:06:31] {3078} INFO -  at 171.6s,\testimator rf's best error=139.9086,\tbest estimator lgbm's best error=36.9117\n",
      "[flaml.automl: 06-22 09:06:31] {2897} INFO - iteration 96, current learner lgbm\n",
      "[flaml.automl: 06-22 09:06:45] {3078} INFO -  at 186.0s,\testimator lgbm's best error=36.9117,\tbest estimator lgbm's best error=36.9117\n",
      "[flaml.automl: 06-22 09:06:45] {2897} INFO - iteration 97, current learner xgb_limitdepth\n",
      "[flaml.automl: 06-22 09:06:47] {3078} INFO -  at 187.5s,\testimator xgb_limitdepth's best error=83.9565,\tbest estimator lgbm's best error=36.9117\n",
      "[flaml.automl: 06-22 09:06:47] {2897} INFO - iteration 98, current learner rf\n",
      "[flaml.automl: 06-22 09:06:47] {3078} INFO -  at 188.2s,\testimator rf's best error=139.7374,\tbest estimator lgbm's best error=36.9117\n",
      "[flaml.automl: 06-22 09:06:47] {2897} INFO - iteration 99, current learner xgboost\n",
      "[flaml.automl: 06-22 09:06:51] {3078} INFO -  at 191.6s,\testimator xgboost's best error=85.4176,\tbest estimator lgbm's best error=36.9117\n",
      "[flaml.automl: 06-22 09:06:51] {2897} INFO - iteration 100, current learner lgbm\n",
      "[flaml.automl: 06-22 09:08:02] {3078} INFO -  at 262.6s,\testimator lgbm's best error=31.6539,\tbest estimator lgbm's best error=31.6539\n",
      "[flaml.automl: 06-22 09:08:02] {2897} INFO - iteration 101, current learner lgbm\n",
      "[flaml.automl: 06-22 09:08:24] {3078} INFO -  at 285.2s,\testimator lgbm's best error=31.6539,\tbest estimator lgbm's best error=31.6539\n",
      "[flaml.automl: 06-22 09:08:24] {2897} INFO - iteration 102, current learner extra_tree\n",
      "[flaml.automl: 06-22 09:08:25] {3078} INFO -  at 286.0s,\testimator extra_tree's best error=100.7862,\tbest estimator lgbm's best error=31.6539\n",
      "[flaml.automl: 06-22 09:08:25] {2897} INFO - iteration 103, current learner rf\n",
      "[flaml.automl: 06-22 09:08:26] {3078} INFO -  at 286.4s,\testimator rf's best error=139.7374,\tbest estimator lgbm's best error=31.6539\n",
      "[flaml.automl: 06-22 09:08:26] {2897} INFO - iteration 104, current learner lgbm\n",
      "[flaml.automl: 06-22 09:08:50] {3078} INFO -  at 310.8s,\testimator lgbm's best error=31.6539,\tbest estimator lgbm's best error=31.6539\n",
      "[flaml.automl: 06-22 09:08:50] {2897} INFO - iteration 105, current learner catboost\n",
      "[flaml.automl: 06-22 09:08:51] {3078} INFO -  at 311.4s,\testimator catboost's best error=117.6763,\tbest estimator lgbm's best error=31.6539\n",
      "[flaml.automl: 06-22 09:08:51] {2897} INFO - iteration 106, current learner lgbm\n",
      "[flaml.automl: 06-22 09:14:05] {3078} INFO -  at 626.0s,\testimator lgbm's best error=31.6539,\tbest estimator lgbm's best error=31.6539\n",
      "[flaml.automl: 06-22 09:14:05] {2897} INFO - iteration 107, current learner xgboost\n",
      "[flaml.automl: 06-22 09:14:15] {3078} INFO -  at 636.0s,\testimator xgboost's best error=85.4176,\tbest estimator lgbm's best error=31.6539\n",
      "[flaml.automl: 06-22 09:14:15] {2897} INFO - iteration 108, current learner xgb_limitdepth\n",
      "[flaml.automl: 06-22 09:14:20] {3078} INFO -  at 641.0s,\testimator xgb_limitdepth's best error=77.1738,\tbest estimator lgbm's best error=31.6539\n",
      "[flaml.automl: 06-22 09:14:20] {2897} INFO - iteration 109, current learner extra_tree\n",
      "[flaml.automl: 06-22 09:14:21] {3078} INFO -  at 641.7s,\testimator extra_tree's best error=100.7862,\tbest estimator lgbm's best error=31.6539\n",
      "[flaml.automl: 06-22 09:14:21] {2897} INFO - iteration 110, current learner xgb_limitdepth\n",
      "[flaml.automl: 06-22 09:14:23] {3078} INFO -  at 644.1s,\testimator xgb_limitdepth's best error=77.1738,\tbest estimator lgbm's best error=31.6539\n",
      "[flaml.automl: 06-22 09:14:23] {2897} INFO - iteration 111, current learner xgb_limitdepth\n",
      "[flaml.automl: 06-22 09:14:38] {3078} INFO -  at 658.3s,\testimator xgb_limitdepth's best error=76.8832,\tbest estimator lgbm's best error=31.6539\n",
      "[flaml.automl: 06-22 09:14:38] {2897} INFO - iteration 112, current learner lgbm\n",
      "[flaml.automl: 06-22 09:15:23] {3078} INFO -  at 703.2s,\testimator lgbm's best error=31.6539,\tbest estimator lgbm's best error=31.6539\n",
      "[flaml.automl: 06-22 09:15:23] {2897} INFO - iteration 113, current learner extra_tree\n",
      "[flaml.automl: 06-22 09:15:24] {3078} INFO -  at 704.4s,\testimator extra_tree's best error=100.7862,\tbest estimator lgbm's best error=31.6539\n",
      "[flaml.automl: 06-22 09:15:24] {2897} INFO - iteration 114, current learner xgboost\n",
      "[flaml.automl: 06-22 09:15:29] {3078} INFO -  at 709.3s,\testimator xgboost's best error=85.4176,\tbest estimator lgbm's best error=31.6539\n",
      "[flaml.automl: 06-22 09:15:29] {2897} INFO - iteration 115, current learner xgb_limitdepth\n",
      "[flaml.automl: 06-22 09:15:32] {3078} INFO -  at 712.9s,\testimator xgb_limitdepth's best error=76.8832,\tbest estimator lgbm's best error=31.6539\n",
      "[flaml.automl: 06-22 09:15:32] {2897} INFO - iteration 116, current learner lgbm\n",
      "[flaml.automl: 06-22 09:17:07] {3078} INFO -  at 807.2s,\testimator lgbm's best error=28.5296,\tbest estimator lgbm's best error=28.5296\n",
      "[flaml.automl: 06-22 09:17:07] {2897} INFO - iteration 117, current learner lgbm\n",
      "[flaml.automl: 06-22 09:19:21] {3078} INFO -  at 941.5s,\testimator lgbm's best error=28.5296,\tbest estimator lgbm's best error=28.5296\n",
      "[flaml.automl: 06-22 09:19:21] {2897} INFO - iteration 118, current learner extra_tree\n",
      "[flaml.automl: 06-22 09:19:22] {3078} INFO -  at 942.8s,\testimator extra_tree's best error=98.2743,\tbest estimator lgbm's best error=28.5296\n",
      "[flaml.automl: 06-22 09:19:22] {2897} INFO - iteration 119, current learner extra_tree\n",
      "[flaml.automl: 06-22 09:19:23] {3078} INFO -  at 943.6s,\testimator extra_tree's best error=98.2743,\tbest estimator lgbm's best error=28.5296\n",
      "[flaml.automl: 06-22 09:19:23] {2897} INFO - iteration 120, current learner lgbm\n",
      "[flaml.automl: 06-22 09:21:20] {3078} INFO -  at 1060.3s,\testimator lgbm's best error=28.5296,\tbest estimator lgbm's best error=28.5296\n",
      "[flaml.automl: 06-22 09:21:20] {2897} INFO - iteration 121, current learner extra_tree\n",
      "[flaml.automl: 06-22 09:21:22] {3078} INFO -  at 1062.9s,\testimator extra_tree's best error=98.0625,\tbest estimator lgbm's best error=28.5296\n",
      "[flaml.automl: 06-22 09:21:22] {2897} INFO - iteration 122, current learner xgboost\n",
      "[flaml.automl: 06-22 09:21:28] {3078} INFO -  at 1068.7s,\testimator xgboost's best error=85.4176,\tbest estimator lgbm's best error=28.5296\n",
      "[flaml.automl: 06-22 09:21:28] {2897} INFO - iteration 123, current learner extra_tree\n",
      "[flaml.automl: 06-22 09:21:29] {3078} INFO -  at 1069.9s,\testimator extra_tree's best error=98.0625,\tbest estimator lgbm's best error=28.5296\n",
      "[flaml.automl: 06-22 09:21:29] {2897} INFO - iteration 124, current learner xgboost\n",
      "[flaml.automl: 06-22 09:21:50] {3078} INFO -  at 1090.4s,\testimator xgboost's best error=42.9883,\tbest estimator lgbm's best error=28.5296\n",
      "[flaml.automl: 06-22 09:21:50] {2897} INFO - iteration 125, current learner catboost\n",
      "[flaml.automl: 06-22 09:21:51] {3078} INFO -  at 1092.0s,\testimator catboost's best error=90.6444,\tbest estimator lgbm's best error=28.5296\n",
      "[flaml.automl: 06-22 09:21:51] {2897} INFO - iteration 126, current learner lgbm\n",
      "[flaml.automl: 06-22 09:24:00] {3078} INFO -  at 1220.4s,\testimator lgbm's best error=27.9884,\tbest estimator lgbm's best error=27.9884\n",
      "[flaml.automl: 06-22 09:33:40] {3337} INFO - retrain lgbm for 579.9s\n",
      "[flaml.automl: 06-22 09:33:40] {3342} INFO - retrained model: LGBMRegressor(colsample_bytree=0.4932508865405488,\n",
      "              learning_rate=0.1458986385528343, max_bin=255,\n",
      "              min_child_samples=3, n_estimators=12442, num_leaves=740,\n",
      "              reg_alpha=0.0012603170529968141, reg_lambda=0.04549584170854636,\n",
      "              verbose=-1)\n",
      "[flaml.automl: 06-22 09:33:40] {2636} INFO - fit succeeded\n",
      "[flaml.automl: 06-22 09:33:40] {2638} INFO - Time taken to find the best model: 1220.3713102340698\n",
      "[flaml.automl: 06-22 09:33:40] {2652} WARNING - Time taken to find the best model is 102% of the provided time budget and not all estimators' hyperparameter search converged. Consider increasing the time budget.\n"
     ]
    }
   ],
   "source": [
    "from flaml import AutoML\n",
    "automl = AutoML()\n",
    "\n",
    "automl.fit(X_train, y_train, task=\"regression\", metric='rmse', time_budget=1200) # 20 min"
   ]
  },
  {
   "cell_type": "code",
   "execution_count": 30,
   "id": "9df5bca8",
   "metadata": {
    "execution": {
     "iopub.execute_input": "2022-06-22T09:33:40.219686Z",
     "iopub.status.busy": "2022-06-22T09:33:40.218622Z",
     "iopub.status.idle": "2022-06-22T09:33:40.228329Z",
     "shell.execute_reply": "2022-06-22T09:33:40.227067Z"
    },
    "papermill": {
     "duration": 0.067085,
     "end_time": "2022-06-22T09:33:40.230893",
     "exception": false,
     "start_time": "2022-06-22T09:33:40.163808",
     "status": "completed"
    },
    "tags": []
   },
   "outputs": [
    {
     "name": "stdout",
     "output_type": "stream",
     "text": [
      "Best ML leaner: lgbm\n",
      "Best hyperparmeter config: {'n_estimators': 12442, 'num_leaves': 740, 'min_child_samples': 3, 'learning_rate': 0.1458986385528343, 'log_max_bin': 8, 'colsample_bytree': 0.4932508865405488, 'reg_alpha': 0.0012603170529968141, 'reg_lambda': 0.04549584170854636, 'FLAML_sample_size': 581104}\n",
      "Best log_loss on validation data: 27.99\n",
      "Training duration of best run: 579.9 s\n"
     ]
    }
   ],
   "source": [
    "print('Best ML leaner:', automl.best_estimator)\n",
    "print('Best hyperparmeter config:', automl.best_config)\n",
    "print('Best log_loss on validation data: {0:.4g}'.format(automl.best_loss))\n",
    "print('Training duration of best run: {0:.4g} s'.format(automl.best_config_train_time))"
   ]
  },
  {
   "cell_type": "code",
   "execution_count": 31,
   "id": "945180a3",
   "metadata": {
    "execution": {
     "iopub.execute_input": "2022-06-22T09:33:40.339193Z",
     "iopub.status.busy": "2022-06-22T09:33:40.338513Z",
     "iopub.status.idle": "2022-06-22T09:54:55.086583Z",
     "shell.execute_reply": "2022-06-22T09:54:55.085116Z"
    },
    "papermill": {
     "duration": 1274.850461,
     "end_time": "2022-06-22T09:54:55.134868",
     "exception": false,
     "start_time": "2022-06-22T09:33:40.284407",
     "status": "completed"
    },
    "tags": []
   },
   "outputs": [
    {
     "name": "stdout",
     "output_type": "stream",
     "text": [
      "train r2 = 0.9999194577802002\n",
      " test r2 = 0.999516866441933\n"
     ]
    }
   ],
   "source": [
    "from flaml.ml import sklearn_metric_loss_score\n",
    "print('train r2', '=', 1-sklearn_metric_loss_score('r2', automl.predict(X_train), y_train))\n",
    "print(' test r2', '=', 1-sklearn_metric_loss_score('r2', automl.predict(X_test), y_test))"
   ]
  },
  {
   "cell_type": "code",
   "execution_count": 32,
   "id": "69f1ebb3",
   "metadata": {
    "execution": {
     "iopub.execute_input": "2022-06-22T09:54:55.242293Z",
     "iopub.status.busy": "2022-06-22T09:54:55.241395Z",
     "iopub.status.idle": "2022-06-22T09:56:56.754744Z",
     "shell.execute_reply": "2022-06-22T09:56:56.753492Z"
    },
    "papermill": {
     "duration": 121.612229,
     "end_time": "2022-06-22T09:56:56.799797",
     "exception": false,
     "start_time": "2022-06-22T09:54:55.187568",
     "status": "completed"
    },
    "tags": []
   },
   "outputs": [
    {
     "name": "stdout",
     "output_type": "stream",
     "text": [
      "MAE: 15.364128452\n",
      "MSE: 635.995087531\n",
      "RMSE: 25.218943030\n"
     ]
    }
   ],
   "source": [
    "from sklearn.metrics import mean_squared_error, mean_absolute_error\n",
    "import math\n",
    "\n",
    "pred = automl.predict(X_test)\n",
    "\n",
    "mae = mean_absolute_error(y_test, pred)\n",
    "mse = mean_squared_error(y_test, pred)\n",
    "\n",
    "print(\"MAE: %.9f\" % mae)\n",
    "print(\"MSE: %.9f\" % mse)\n",
    "print(\"RMSE: %.9f\" % math.sqrt(mse))"
   ]
  },
  {
   "cell_type": "code",
   "execution_count": null,
   "id": "02c8af4d",
   "metadata": {
    "papermill": {
     "duration": 0.052021,
     "end_time": "2022-06-22T09:56:56.904602",
     "exception": false,
     "start_time": "2022-06-22T09:56:56.852581",
     "status": "completed"
    },
    "tags": []
   },
   "outputs": [],
   "source": []
  },
  {
   "cell_type": "markdown",
   "id": "5fe166c3",
   "metadata": {
    "papermill": {
     "duration": 0.05191,
     "end_time": "2022-06-22T09:56:57.009108",
     "exception": false,
     "start_time": "2022-06-22T09:56:56.957198",
     "status": "completed"
    },
    "tags": []
   },
   "source": [
    "# Test Prediction"
   ]
  },
  {
   "cell_type": "code",
   "execution_count": 33,
   "id": "117b1643",
   "metadata": {
    "execution": {
     "iopub.execute_input": "2022-06-22T09:56:57.115306Z",
     "iopub.status.busy": "2022-06-22T09:56:57.114875Z",
     "iopub.status.idle": "2022-06-22T09:58:37.576667Z",
     "shell.execute_reply": "2022-06-22T09:58:37.575492Z"
    },
    "papermill": {
     "duration": 100.562211,
     "end_time": "2022-06-22T09:58:37.623483",
     "exception": false,
     "start_time": "2022-06-22T09:56:57.061272",
     "status": "completed"
    },
    "tags": []
   },
   "outputs": [
    {
     "data": {
      "text/plain": [
       "(60870, (60870, 11))"
      ]
     },
     "execution_count": 33,
     "metadata": {},
     "output_type": "execute_result"
    }
   ],
   "source": [
    "pred = automl.predict(test)\n",
    "len(pred), test.shape"
   ]
  },
  {
   "cell_type": "markdown",
   "id": "ffe3dc0b",
   "metadata": {
    "papermill": {
     "duration": 0.053129,
     "end_time": "2022-06-22T09:58:37.729377",
     "exception": false,
     "start_time": "2022-06-22T09:58:37.676248",
     "status": "completed"
    },
    "tags": []
   },
   "source": [
    "# Submission"
   ]
  },
  {
   "cell_type": "code",
   "execution_count": 34,
   "id": "8072a905",
   "metadata": {
    "execution": {
     "iopub.execute_input": "2022-06-22T09:58:37.838653Z",
     "iopub.status.busy": "2022-06-22T09:58:37.837806Z",
     "iopub.status.idle": "2022-06-22T09:58:37.886738Z",
     "shell.execute_reply": "2022-06-22T09:58:37.885563Z"
    },
    "papermill": {
     "duration": 0.105626,
     "end_time": "2022-06-22T09:58:37.889214",
     "exception": false,
     "start_time": "2022-06-22T09:58:37.783588",
     "status": "completed"
    },
    "tags": []
   },
   "outputs": [
    {
     "data": {
      "text/plain": [
       "(60870, 2)"
      ]
     },
     "execution_count": 34,
     "metadata": {},
     "output_type": "execute_result"
    }
   ],
   "source": [
    "sub = pd.read_csv(\"../input/rte-forecast-energy-consumption-in-french-areas/sample_submission.csv\")\n",
    "sub.shape"
   ]
  },
  {
   "cell_type": "code",
   "execution_count": 35,
   "id": "2d249ef6",
   "metadata": {
    "execution": {
     "iopub.execute_input": "2022-06-22T09:58:38.000270Z",
     "iopub.status.busy": "2022-06-22T09:58:37.999844Z",
     "iopub.status.idle": "2022-06-22T09:58:38.208972Z",
     "shell.execute_reply": "2022-06-22T09:58:38.207988Z"
    },
    "papermill": {
     "duration": 0.267975,
     "end_time": "2022-06-22T09:58:38.211532",
     "exception": false,
     "start_time": "2022-06-22T09:58:37.943557",
     "status": "completed"
    },
    "tags": []
   },
   "outputs": [],
   "source": [
    "sub['energy_consumption'] = pred\n",
    "sub.to_csv('submission.csv', index=False)"
   ]
  },
  {
   "cell_type": "code",
   "execution_count": 36,
   "id": "2582e75b",
   "metadata": {
    "execution": {
     "iopub.execute_input": "2022-06-22T09:58:38.321753Z",
     "iopub.status.busy": "2022-06-22T09:58:38.321373Z",
     "iopub.status.idle": "2022-06-22T09:58:38.336781Z",
     "shell.execute_reply": "2022-06-22T09:58:38.335820Z"
    },
    "papermill": {
     "duration": 0.073327,
     "end_time": "2022-06-22T09:58:38.339011",
     "exception": false,
     "start_time": "2022-06-22T09:58:38.265684",
     "status": "completed"
    },
    "tags": []
   },
   "outputs": [
    {
     "data": {
      "text/html": [
       "<div>\n",
       "<style scoped>\n",
       "    .dataframe tbody tr th:only-of-type {\n",
       "        vertical-align: middle;\n",
       "    }\n",
       "\n",
       "    .dataframe tbody tr th {\n",
       "        vertical-align: top;\n",
       "    }\n",
       "\n",
       "    .dataframe thead th {\n",
       "        text-align: right;\n",
       "    }\n",
       "</style>\n",
       "<table border=\"1\" class=\"dataframe\">\n",
       "  <thead>\n",
       "    <tr style=\"text-align: right;\">\n",
       "      <th></th>\n",
       "      <th>id</th>\n",
       "      <th>energy_consumption</th>\n",
       "    </tr>\n",
       "  </thead>\n",
       "  <tbody>\n",
       "    <tr>\n",
       "      <th>0</th>\n",
       "      <td>0</td>\n",
       "      <td>761.153632</td>\n",
       "    </tr>\n",
       "    <tr>\n",
       "      <th>1</th>\n",
       "      <td>1</td>\n",
       "      <td>794.889488</td>\n",
       "    </tr>\n",
       "    <tr>\n",
       "      <th>2</th>\n",
       "      <td>2</td>\n",
       "      <td>787.449973</td>\n",
       "    </tr>\n",
       "    <tr>\n",
       "      <th>3</th>\n",
       "      <td>3</td>\n",
       "      <td>786.264886</td>\n",
       "    </tr>\n",
       "    <tr>\n",
       "      <th>4</th>\n",
       "      <td>4</td>\n",
       "      <td>781.208862</td>\n",
       "    </tr>\n",
       "    <tr>\n",
       "      <th>...</th>\n",
       "      <td>...</td>\n",
       "      <td>...</td>\n",
       "    </tr>\n",
       "    <tr>\n",
       "      <th>60865</th>\n",
       "      <td>60865</td>\n",
       "      <td>395.413645</td>\n",
       "    </tr>\n",
       "    <tr>\n",
       "      <th>60866</th>\n",
       "      <td>60866</td>\n",
       "      <td>402.421471</td>\n",
       "    </tr>\n",
       "    <tr>\n",
       "      <th>60867</th>\n",
       "      <td>60867</td>\n",
       "      <td>448.521418</td>\n",
       "    </tr>\n",
       "    <tr>\n",
       "      <th>60868</th>\n",
       "      <td>60868</td>\n",
       "      <td>422.101238</td>\n",
       "    </tr>\n",
       "    <tr>\n",
       "      <th>60869</th>\n",
       "      <td>60869</td>\n",
       "      <td>400.494483</td>\n",
       "    </tr>\n",
       "  </tbody>\n",
       "</table>\n",
       "<p>60870 rows × 2 columns</p>\n",
       "</div>"
      ],
      "text/plain": [
       "          id  energy_consumption\n",
       "0          0          761.153632\n",
       "1          1          794.889488\n",
       "2          2          787.449973\n",
       "3          3          786.264886\n",
       "4          4          781.208862\n",
       "...      ...                 ...\n",
       "60865  60865          395.413645\n",
       "60866  60866          402.421471\n",
       "60867  60867          448.521418\n",
       "60868  60868          422.101238\n",
       "60869  60869          400.494483\n",
       "\n",
       "[60870 rows x 2 columns]"
      ]
     },
     "execution_count": 36,
     "metadata": {},
     "output_type": "execute_result"
    }
   ],
   "source": [
    "sub"
   ]
  },
  {
   "cell_type": "code",
   "execution_count": null,
   "id": "6a8b289e",
   "metadata": {
    "papermill": {
     "duration": 0.053815,
     "end_time": "2022-06-22T09:58:38.446719",
     "exception": false,
     "start_time": "2022-06-22T09:58:38.392904",
     "status": "completed"
    },
    "tags": []
   },
   "outputs": [],
   "source": []
  }
 ],
 "metadata": {
  "kernelspec": {
   "display_name": "Python 3",
   "language": "python",
   "name": "python3"
  },
  "language_info": {
   "codemirror_mode": {
    "name": "ipython",
    "version": 3
   },
   "file_extension": ".py",
   "mimetype": "text/x-python",
   "name": "python",
   "nbconvert_exporter": "python",
   "pygments_lexer": "ipython3",
   "version": "3.7.12"
  },
  "papermill": {
   "default_parameters": {},
   "duration": 3363.573763,
   "end_time": "2022-06-22T09:58:40.031776",
   "environment_variables": {},
   "exception": null,
   "input_path": "__notebook__.ipynb",
   "output_path": "__notebook__.ipynb",
   "parameters": {},
   "start_time": "2022-06-22T09:02:36.458013",
   "version": "2.3.4"
  }
 },
 "nbformat": 4,
 "nbformat_minor": 5
}
