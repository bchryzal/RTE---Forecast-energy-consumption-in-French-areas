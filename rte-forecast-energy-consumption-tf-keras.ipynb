{
 "cells": [
  {
   "cell_type": "markdown",
   "id": "2b320e9c",
   "metadata": {
    "papermill": {
     "duration": 0.008635,
     "end_time": "2022-06-27T19:29:50.373701",
     "exception": false,
     "start_time": "2022-06-27T19:29:50.365066",
     "status": "completed"
    },
    "tags": []
   },
   "source": [
    "# RTE - Forecast energy consumption in French areas\n"
   ]
  },
  {
   "cell_type": "code",
   "execution_count": 1,
   "id": "586d7102",
   "metadata": {
    "_cell_guid": "b1076dfc-b9ad-4769-8c92-a6c4dae69d19",
    "_kg_hide-input": true,
    "_kg_hide-output": true,
    "_uuid": "8f2839f25d086af736a60e9eeb907d3b93b6e0e5",
    "execution": {
     "iopub.execute_input": "2022-06-27T19:29:50.391225Z",
     "iopub.status.busy": "2022-06-27T19:29:50.390634Z",
     "iopub.status.idle": "2022-06-27T19:29:54.600574Z",
     "shell.execute_reply": "2022-06-27T19:29:54.599629Z"
    },
    "papermill": {
     "duration": 4.221507,
     "end_time": "2022-06-27T19:29:54.603105",
     "exception": false,
     "start_time": "2022-06-27T19:29:50.381598",
     "status": "completed"
    },
    "tags": []
   },
   "outputs": [],
   "source": [
    "import numpy as np # linear algebra\n",
    "import pandas as pd # data processing, CSV file I/O (e.g. pd.read_csv)\n",
    "\n",
    "import tensorflow as tf\n",
    "from tensorflow import keras\n",
    "\n",
    "import matplotlib.pyplot as plt\n",
    "\n",
    "import os, warnings\n"
   ]
  },
  {
   "cell_type": "code",
   "execution_count": 2,
   "id": "dd46e6d0",
   "metadata": {
    "execution": {
     "iopub.execute_input": "2022-06-27T19:29:54.620490Z",
     "iopub.status.busy": "2022-06-27T19:29:54.620004Z",
     "iopub.status.idle": "2022-06-27T19:29:55.710336Z",
     "shell.execute_reply": "2022-06-27T19:29:55.709409Z"
    },
    "papermill": {
     "duration": 1.100913,
     "end_time": "2022-06-27T19:29:55.712374",
     "exception": false,
     "start_time": "2022-06-27T19:29:54.611461",
     "status": "completed"
    },
    "tags": []
   },
   "outputs": [
    {
     "data": {
      "text/plain": [
       "((717414, 12), (60870, 11))"
      ]
     },
     "execution_count": 2,
     "metadata": {},
     "output_type": "execute_result"
    }
   ],
   "source": [
    "train = pd.read_csv(\"../input/rte-forecast-energy-evalml/rte_train_preprocessing.csv\")\n",
    "test = pd.read_csv(\"../input/rte-forecast-energy-evalml/rte_test_preprocessing.csv\")\n",
    "sub = pd.read_csv(\"../input/rte-forecast-energy-consumption-in-french-areas/sample_submission.csv\")\n",
    "\n",
    "train.shape, test.shape"
   ]
  },
  {
   "cell_type": "code",
   "execution_count": 3,
   "id": "0ebba923",
   "metadata": {
    "execution": {
     "iopub.execute_input": "2022-06-27T19:29:55.730033Z",
     "iopub.status.busy": "2022-06-27T19:29:55.729243Z",
     "iopub.status.idle": "2022-06-27T19:29:55.747486Z",
     "shell.execute_reply": "2022-06-27T19:29:55.746511Z"
    },
    "papermill": {
     "duration": 0.028835,
     "end_time": "2022-06-27T19:29:55.749455",
     "exception": false,
     "start_time": "2022-06-27T19:29:55.720620",
     "status": "completed"
    },
    "tags": []
   },
   "outputs": [
    {
     "data": {
      "text/plain": [
       "(False, False)"
      ]
     },
     "execution_count": 3,
     "metadata": {},
     "output_type": "execute_result"
    }
   ],
   "source": [
    "train.isna().sum().any(), test.isna().sum().any()"
   ]
  },
  {
   "cell_type": "code",
   "execution_count": 4,
   "id": "d526cde2",
   "metadata": {
    "execution": {
     "iopub.execute_input": "2022-06-27T19:29:55.766391Z",
     "iopub.status.busy": "2022-06-27T19:29:55.766141Z",
     "iopub.status.idle": "2022-06-27T19:29:55.801575Z",
     "shell.execute_reply": "2022-06-27T19:29:55.800766Z"
    },
    "papermill": {
     "duration": 0.046789,
     "end_time": "2022-06-27T19:29:55.804018",
     "exception": false,
     "start_time": "2022-06-27T19:29:55.757229",
     "status": "completed"
    },
    "tags": []
   },
   "outputs": [],
   "source": [
    "X = train.copy()\n",
    "y = X.pop(\"energy_consumption\")"
   ]
  },
  {
   "cell_type": "code",
   "execution_count": 5,
   "id": "b85d3d2f",
   "metadata": {
    "execution": {
     "iopub.execute_input": "2022-06-27T19:29:55.821396Z",
     "iopub.status.busy": "2022-06-27T19:29:55.821080Z",
     "iopub.status.idle": "2022-06-27T19:29:56.520731Z",
     "shell.execute_reply": "2022-06-27T19:29:56.519812Z"
    },
    "papermill": {
     "duration": 0.710593,
     "end_time": "2022-06-27T19:29:56.523040",
     "exception": false,
     "start_time": "2022-06-27T19:29:55.812447",
     "status": "completed"
    },
    "tags": []
   },
   "outputs": [
    {
     "data": {
      "text/plain": [
       "((681543, 11), (35871, 11), (681543,), (35871,))"
      ]
     },
     "execution_count": 5,
     "metadata": {},
     "output_type": "execute_result"
    }
   ],
   "source": [
    "from sklearn.model_selection import train_test_split\n",
    "\n",
    "X_train, X_valid, y_train, y_valid = train_test_split(X, y, test_size=0.05, shuffle=True, random_state=42)\n",
    "X_train.shape, X_valid.shape, y_train.shape, y_valid.shape"
   ]
  },
  {
   "cell_type": "code",
   "execution_count": 6,
   "id": "9944ac8f",
   "metadata": {
    "execution": {
     "iopub.execute_input": "2022-06-27T19:29:56.540532Z",
     "iopub.status.busy": "2022-06-27T19:29:56.540248Z",
     "iopub.status.idle": "2022-06-27T19:29:56.546115Z",
     "shell.execute_reply": "2022-06-27T19:29:56.545100Z"
    },
    "papermill": {
     "duration": 0.016802,
     "end_time": "2022-06-27T19:29:56.548147",
     "exception": false,
     "start_time": "2022-06-27T19:29:56.531345",
     "status": "completed"
    },
    "tags": []
   },
   "outputs": [],
   "source": [
    "import math\n",
    "from sklearn.metrics import r2_score, mean_squared_error, mean_absolute_error\n",
    "\n",
    "def evaluates_model(y_test, y_pred):\n",
    "    print(\"*\"*12, \"Evaluations : \", \"*\"*12, '\\n')\n",
    "    \n",
    "    print(\"MAE model :\", mean_absolute_error(y_test, y_pred))\n",
    "    \n",
    "    print(\"MSE model :\", mean_squared_error(y_test, y_pred))\n",
    "    \n",
    "    print(\"R2_Score model :\", r2_score(y_test, y_pred))\n",
    "    \n",
    "    #mse_1 = np.square(np.subtract(y_test,y_pred)).mean() \n",
    "    \n",
    "    #print(\"RMSE model :\", math.sqrt(mse_1))"
   ]
  },
  {
   "cell_type": "markdown",
   "id": "25032531",
   "metadata": {
    "papermill": {
     "duration": 0.007681,
     "end_time": "2022-06-27T19:29:56.563720",
     "exception": false,
     "start_time": "2022-06-27T19:29:56.556039",
     "status": "completed"
    },
    "tags": []
   },
   "source": [
    "# Setup GPU"
   ]
  },
  {
   "cell_type": "code",
   "execution_count": 7,
   "id": "9d467b45",
   "metadata": {
    "execution": {
     "iopub.execute_input": "2022-06-27T19:29:56.580613Z",
     "iopub.status.busy": "2022-06-27T19:29:56.580369Z",
     "iopub.status.idle": "2022-06-27T19:29:59.041774Z",
     "shell.execute_reply": "2022-06-27T19:29:59.040254Z"
    },
    "papermill": {
     "duration": 2.473121,
     "end_time": "2022-06-27T19:29:59.044652",
     "exception": false,
     "start_time": "2022-06-27T19:29:56.571531",
     "status": "completed"
    },
    "tags": []
   },
   "outputs": [
    {
     "name": "stdout",
     "output_type": "stream",
     "text": [
      "1 Physical GPUs, 1 Logical GPU\n"
     ]
    },
    {
     "name": "stderr",
     "output_type": "stream",
     "text": [
      "2022-06-27 19:29:56.642514: I tensorflow/stream_executor/cuda/cuda_gpu_executor.cc:937] successful NUMA node read from SysFS had negative value (-1), but there must be at least one NUMA node, so returning NUMA node zero\n",
      "2022-06-27 19:29:56.764297: I tensorflow/stream_executor/cuda/cuda_gpu_executor.cc:937] successful NUMA node read from SysFS had negative value (-1), but there must be at least one NUMA node, so returning NUMA node zero\n",
      "2022-06-27 19:29:56.765178: I tensorflow/stream_executor/cuda/cuda_gpu_executor.cc:937] successful NUMA node read from SysFS had negative value (-1), but there must be at least one NUMA node, so returning NUMA node zero\n",
      "2022-06-27 19:29:56.767914: I tensorflow/core/platform/cpu_feature_guard.cc:142] This TensorFlow binary is optimized with oneAPI Deep Neural Network Library (oneDNN) to use the following CPU instructions in performance-critical operations:  AVX2 AVX512F FMA\n",
      "To enable them in other operations, rebuild TensorFlow with the appropriate compiler flags.\n",
      "2022-06-27 19:29:56.768206: I tensorflow/stream_executor/cuda/cuda_gpu_executor.cc:937] successful NUMA node read from SysFS had negative value (-1), but there must be at least one NUMA node, so returning NUMA node zero\n",
      "2022-06-27 19:29:56.768900: I tensorflow/stream_executor/cuda/cuda_gpu_executor.cc:937] successful NUMA node read from SysFS had negative value (-1), but there must be at least one NUMA node, so returning NUMA node zero\n",
      "2022-06-27 19:29:56.769591: I tensorflow/stream_executor/cuda/cuda_gpu_executor.cc:937] successful NUMA node read from SysFS had negative value (-1), but there must be at least one NUMA node, so returning NUMA node zero\n",
      "2022-06-27 19:29:59.027879: I tensorflow/stream_executor/cuda/cuda_gpu_executor.cc:937] successful NUMA node read from SysFS had negative value (-1), but there must be at least one NUMA node, so returning NUMA node zero\n",
      "2022-06-27 19:29:59.028644: I tensorflow/stream_executor/cuda/cuda_gpu_executor.cc:937] successful NUMA node read from SysFS had negative value (-1), but there must be at least one NUMA node, so returning NUMA node zero\n",
      "2022-06-27 19:29:59.029343: I tensorflow/stream_executor/cuda/cuda_gpu_executor.cc:937] successful NUMA node read from SysFS had negative value (-1), but there must be at least one NUMA node, so returning NUMA node zero\n",
      "2022-06-27 19:29:59.029941: I tensorflow/core/common_runtime/gpu/gpu_device.cc:1510] Created device /job:localhost/replica:0/task:0/device:GPU:0 with 15403 MB memory:  -> device: 0, name: Tesla P100-PCIE-16GB, pci bus id: 0000:00:04.0, compute capability: 6.0\n"
     ]
    }
   ],
   "source": [
    "gpus = tf.config.list_physical_devices('GPU')\n",
    "if gpus:\n",
    "  # Restrict TensorFlow to only use the first GPU\n",
    "  try:\n",
    "    tf.config.set_visible_devices(gpus[0], 'GPU')\n",
    "    logical_gpus = tf.config.list_logical_devices('GPU')\n",
    "    print(len(gpus), \"Physical GPUs,\", len(logical_gpus), \"Logical GPU\")\n",
    "  except RuntimeError as e:\n",
    "    # Visible devices must be set before GPUs have been initialized\n",
    "    print(e)"
   ]
  },
  {
   "cell_type": "markdown",
   "id": "4f5a350a",
   "metadata": {
    "papermill": {
     "duration": 0.008949,
     "end_time": "2022-06-27T19:29:59.061966",
     "exception": false,
     "start_time": "2022-06-27T19:29:59.053017",
     "status": "completed"
    },
    "tags": []
   },
   "source": [
    "# Modeling with Keras : Model 0"
   ]
  },
  {
   "cell_type": "markdown",
   "id": "f7422c7d",
   "metadata": {
    "papermill": {
     "duration": 0.008427,
     "end_time": "2022-06-27T19:29:59.078667",
     "exception": false,
     "start_time": "2022-06-27T19:29:59.070240",
     "status": "completed"
    },
    "tags": []
   },
   "source": [
    "### Define Model Architecture"
   ]
  },
  {
   "cell_type": "code",
   "execution_count": 8,
   "id": "be38d213",
   "metadata": {
    "execution": {
     "iopub.execute_input": "2022-06-27T19:29:59.096021Z",
     "iopub.status.busy": "2022-06-27T19:29:59.095717Z",
     "iopub.status.idle": "2022-06-27T19:30:00.116154Z",
     "shell.execute_reply": "2022-06-27T19:30:00.115144Z"
    },
    "papermill": {
     "duration": 1.031826,
     "end_time": "2022-06-27T19:30:00.118624",
     "exception": false,
     "start_time": "2022-06-27T19:29:59.086798",
     "status": "completed"
    },
    "tags": []
   },
   "outputs": [],
   "source": [
    "from tensorflow.keras import layers\n",
    "\n",
    "shape = X_train.shape[1]\n",
    "\n",
    "def build_model0():\n",
    "    \n",
    "    model = keras.Sequential([\n",
    "        layers.Dense(units=2048, input_shape=[shape]),\n",
    "        layers.Dense(1024, activation='relu'),\n",
    "        layers.Dense(256, activation='relu'),\n",
    "        layers.Dense(128, activation='relu'),\n",
    "        layers.Dense(32, activation='relu'),\n",
    "        layers.Dense(units=1)\n",
    "    ])\n",
    "\n",
    "    # Prints a string summary of the network.\n",
    "    #model.summary()\n",
    "    \n",
    "    return model"
   ]
  },
  {
   "cell_type": "markdown",
   "id": "91e98e3e",
   "metadata": {
    "papermill": {
     "duration": 0.009378,
     "end_time": "2022-06-27T19:30:00.136426",
     "exception": false,
     "start_time": "2022-06-27T19:30:00.127048",
     "status": "completed"
    },
    "tags": []
   },
   "source": [
    "### Build & Compile Model"
   ]
  },
  {
   "cell_type": "code",
   "execution_count": 9,
   "id": "6e654802",
   "metadata": {
    "execution": {
     "iopub.execute_input": "2022-06-27T19:30:00.153819Z",
     "iopub.status.busy": "2022-06-27T19:30:00.153531Z",
     "iopub.status.idle": "2022-06-27T19:30:00.591680Z",
     "shell.execute_reply": "2022-06-27T19:30:00.590731Z"
    },
    "papermill": {
     "duration": 0.449731,
     "end_time": "2022-06-27T19:30:00.594264",
     "exception": false,
     "start_time": "2022-06-27T19:30:00.144533",
     "status": "completed"
    },
    "tags": []
   },
   "outputs": [],
   "source": [
    "def build_model():\n",
    "    \n",
    "    model = keras.Sequential([\n",
    "        layers.Dense(units=512, input_shape=[shape]),\n",
    "        layers.Dense(units=256, activation='swish'),\n",
    "        layers.Dense(128, activation='swish'),\n",
    "        layers.Dense(64, activation='swish'),\n",
    "        layers.Dense(32, activation='swish'),\n",
    "        layers.Dense(16, activation='swish'),\n",
    "        layers.Dense(units=1)\n",
    "    ])\n",
    "\n",
    "    # Prints a string summary of the network.\n",
    "    #model.summary()\n",
    "    \n",
    "    return model\n",
    "\n",
    "model = build_model()\n",
    "\n",
    "model.compile(optimizer=\"adam\",     \n",
    "               loss='mean_squared_error',\n",
    "               metrics=[\n",
    "                    'MeanSquaredError',\n",
    "                    'mae',\n",
    "               ]\n",
    ")"
   ]
  },
  {
   "cell_type": "markdown",
   "id": "fb320857",
   "metadata": {
    "papermill": {
     "duration": 0.008514,
     "end_time": "2022-06-27T19:30:00.611449",
     "exception": false,
     "start_time": "2022-06-27T19:30:00.602935",
     "status": "completed"
    },
    "tags": []
   },
   "source": [
    "### Training"
   ]
  },
  {
   "cell_type": "code",
   "execution_count": 10,
   "id": "3472d19f",
   "metadata": {
    "execution": {
     "iopub.execute_input": "2022-06-27T19:30:00.629030Z",
     "iopub.status.busy": "2022-06-27T19:30:00.628739Z",
     "iopub.status.idle": "2022-06-27T19:33:58.327172Z",
     "shell.execute_reply": "2022-06-27T19:33:58.326138Z"
    },
    "papermill": {
     "duration": 237.710151,
     "end_time": "2022-06-27T19:33:58.329751",
     "exception": false,
     "start_time": "2022-06-27T19:30:00.619600",
     "status": "completed"
    },
    "tags": []
   },
   "outputs": [
    {
     "name": "stderr",
     "output_type": "stream",
     "text": [
      "2022-06-27 19:30:00.830719: I tensorflow/compiler/mlir/mlir_graph_optimization_pass.cc:185] None of the MLIR Optimization Passes are enabled (registered 2)\n"
     ]
    },
    {
     "name": "stdout",
     "output_type": "stream",
     "text": [
      "Epoch 1/100\n",
      "5325/5325 [==============================] - 18s 3ms/step - loss: 241941.4844 - mean_squared_error: 241941.4844 - mae: 254.8653 - val_loss: 128617.7500 - val_mean_squared_error: 128617.7500 - val_mae: 220.9858\n",
      "Epoch 2/100\n",
      "5325/5325 [==============================] - 15s 3ms/step - loss: 67791.0234 - mean_squared_error: 67791.0234 - mae: 132.6104 - val_loss: 54424.6289 - val_mean_squared_error: 54424.6289 - val_mae: 112.9170\n",
      "Epoch 3/100\n",
      "5325/5325 [==============================] - 16s 3ms/step - loss: 55867.7852 - mean_squared_error: 55867.7852 - mae: 118.8532 - val_loss: 42838.4922 - val_mean_squared_error: 42838.4922 - val_mae: 109.8025\n",
      "Epoch 4/100\n",
      "5325/5325 [==============================] - 15s 3ms/step - loss: 57736.1797 - mean_squared_error: 57736.1797 - mae: 117.4071 - val_loss: 64540.8398 - val_mean_squared_error: 64540.8398 - val_mae: 115.6112\n",
      "Epoch 5/100\n",
      "5325/5325 [==============================] - 16s 3ms/step - loss: 35491.1211 - mean_squared_error: 35491.1211 - mae: 93.0950 - val_loss: 29061.2773 - val_mean_squared_error: 29061.2773 - val_mae: 87.0497\n",
      "Epoch 6/100\n",
      "5325/5325 [==============================] - 15s 3ms/step - loss: 34342.2344 - mean_squared_error: 34342.2344 - mae: 89.0023 - val_loss: 25037.6543 - val_mean_squared_error: 25037.6543 - val_mae: 77.6158\n",
      "Epoch 7/100\n",
      "5325/5325 [==============================] - 16s 3ms/step - loss: 35055.3984 - mean_squared_error: 35055.3984 - mae: 91.6527 - val_loss: 26076.3691 - val_mean_squared_error: 26076.3691 - val_mae: 83.5759\n",
      "Epoch 8/100\n",
      "5325/5325 [==============================] - 16s 3ms/step - loss: 29021.7539 - mean_squared_error: 29021.7539 - mae: 84.8254 - val_loss: 25960.9570 - val_mean_squared_error: 25960.9570 - val_mae: 78.7985\n",
      "Epoch 9/100\n",
      "5325/5325 [==============================] - 16s 3ms/step - loss: 26122.3125 - mean_squared_error: 26122.3125 - mae: 80.8794 - val_loss: 24245.7305 - val_mean_squared_error: 24245.7305 - val_mae: 84.1556\n",
      "Epoch 10/100\n",
      "5325/5325 [==============================] - 16s 3ms/step - loss: 26380.3652 - mean_squared_error: 26380.3652 - mae: 79.7891 - val_loss: 20199.7559 - val_mean_squared_error: 20199.7559 - val_mae: 71.5523\n",
      "Epoch 11/100\n",
      "5325/5325 [==============================] - 16s 3ms/step - loss: 28363.7891 - mean_squared_error: 28363.7891 - mae: 80.7202 - val_loss: 20793.4746 - val_mean_squared_error: 20793.4746 - val_mae: 74.6653\n",
      "Epoch 12/100\n",
      "5325/5325 [==============================] - 16s 3ms/step - loss: 26053.2070 - mean_squared_error: 26053.2070 - mae: 80.0325 - val_loss: 22706.4238 - val_mean_squared_error: 22706.4238 - val_mae: 80.5364\n",
      "Epoch 13/100\n",
      "5325/5325 [==============================] - 16s 3ms/step - loss: 23849.8105 - mean_squared_error: 23849.8105 - mae: 77.4408 - val_loss: 22243.8359 - val_mean_squared_error: 22243.8359 - val_mae: 74.5812\n",
      "Epoch 14/100\n",
      "5325/5325 [==============================] - 16s 3ms/step - loss: 29740.3340 - mean_squared_error: 29740.3340 - mae: 87.1141 - val_loss: 31673.1680 - val_mean_squared_error: 31673.1680 - val_mae: 94.2396\n",
      "Epoch 15/100\n",
      "5325/5325 [==============================] - 15s 3ms/step - loss: 31017.1973 - mean_squared_error: 31017.1973 - mae: 90.0429 - val_loss: 26626.0137 - val_mean_squared_error: 26626.0137 - val_mae: 82.8686\n"
     ]
    }
   ],
   "source": [
    "early_stopping0 = keras.callbacks.EarlyStopping(\n",
    "    patience=5,\n",
    "    #min_delta=0.001,\n",
    "    restore_best_weights=True,\n",
    ")\n",
    "\n",
    "history = model.fit(\n",
    "    X_train, y_train,\n",
    "    validation_data=(X_valid, y_valid),\n",
    "    batch_size=128,\n",
    "    epochs=100,\n",
    "    callbacks=[early_stopping0],\n",
    "\n",
    ")"
   ]
  },
  {
   "cell_type": "markdown",
   "id": "b42d7fdc",
   "metadata": {
    "papermill": {
     "duration": 0.438825,
     "end_time": "2022-06-27T19:33:59.294331",
     "exception": false,
     "start_time": "2022-06-27T19:33:58.855506",
     "status": "completed"
    },
    "tags": []
   },
   "source": [
    "### Validation/Evaluation"
   ]
  },
  {
   "cell_type": "code",
   "execution_count": 11,
   "id": "ec6d6de2",
   "metadata": {
    "execution": {
     "iopub.execute_input": "2022-06-27T19:33:59.860704Z",
     "iopub.status.busy": "2022-06-27T19:33:59.860349Z",
     "iopub.status.idle": "2022-06-27T19:34:01.043002Z",
     "shell.execute_reply": "2022-06-27T19:34:01.041898Z"
    },
    "papermill": {
     "duration": 1.480971,
     "end_time": "2022-06-27T19:34:01.045528",
     "exception": false,
     "start_time": "2022-06-27T19:33:59.564557",
     "status": "completed"
    },
    "tags": []
   },
   "outputs": [
    {
     "name": "stdout",
     "output_type": "stream",
     "text": [
      "************ Evaluations :  ************ \n",
      "\n",
      "MAE model : 71.55228726793607\n",
      "MSE model : 20199.767235936746\n",
      "R2_Score model : 0.984352918156721\n"
     ]
    }
   ],
   "source": [
    "pred = model.predict(X_valid)\n",
    "evaluates_model(y_valid, pred)"
   ]
  },
  {
   "cell_type": "code",
   "execution_count": 12,
   "id": "9ddb1da3",
   "metadata": {
    "execution": {
     "iopub.execute_input": "2022-06-27T19:34:01.648363Z",
     "iopub.status.busy": "2022-06-27T19:34:01.647936Z",
     "iopub.status.idle": "2022-06-27T19:34:01.895519Z",
     "shell.execute_reply": "2022-06-27T19:34:01.894280Z"
    },
    "papermill": {
     "duration": 0.551574,
     "end_time": "2022-06-27T19:34:01.898254",
     "exception": false,
     "start_time": "2022-06-27T19:34:01.346680",
     "status": "completed"
    },
    "tags": []
   },
   "outputs": [
    {
     "name": "stdout",
     "output_type": "stream",
     "text": [
      "Minimum Validation Loss: 20199.7559\n"
     ]
    },
    {
     "data": {
      "image/png": "[encoded data removed]",
      "text/plain": [
       "<Figure size 432x288 with 1 Axes>"
      ]
     },
     "metadata": {
      "needs_background": "light"
     },
     "output_type": "display_data"
    }
   ],
   "source": [
    "history_df = pd.DataFrame(history.history)\n",
    "history_df.loc[0:, ['loss', 'val_loss']].plot()\n",
    "print((\"Minimum Validation Loss: {:0.4f}\").format(history_df['val_loss'].min()))"
   ]
  },
  {
   "cell_type": "markdown",
   "id": "c5c80661",
   "metadata": {
    "papermill": {
     "duration": 0.300218,
     "end_time": "2022-06-27T19:34:02.545340",
     "exception": false,
     "start_time": "2022-06-27T19:34:02.245122",
     "status": "completed"
    },
    "tags": []
   },
   "source": [
    "### Submission"
   ]
  },
  {
   "cell_type": "code",
   "execution_count": 13,
   "id": "a10497b8",
   "metadata": {
    "execution": {
     "iopub.execute_input": "2022-06-27T19:34:03.110496Z",
     "iopub.status.busy": "2022-06-27T19:34:03.110146Z",
     "iopub.status.idle": "2022-06-27T19:34:05.285711Z",
     "shell.execute_reply": "2022-06-27T19:34:05.284575Z"
    },
    "papermill": {
     "duration": 2.455195,
     "end_time": "2022-06-27T19:34:05.293694",
     "exception": false,
     "start_time": "2022-06-27T19:34:02.838499",
     "status": "completed"
    },
    "tags": []
   },
   "outputs": [
    {
     "data": {
      "text/html": [
       "<div>\n",
       "<style scoped>\n",
       "    .dataframe tbody tr th:only-of-type {\n",
       "        vertical-align: middle;\n",
       "    }\n",
       "\n",
       "    .dataframe tbody tr th {\n",
       "        vertical-align: top;\n",
       "    }\n",
       "\n",
       "    .dataframe thead th {\n",
       "        text-align: right;\n",
       "    }\n",
       "</style>\n",
       "<table border=\"1\" class=\"dataframe\">\n",
       "  <thead>\n",
       "    <tr style=\"text-align: right;\">\n",
       "      <th></th>\n",
       "      <th>id</th>\n",
       "      <th>energy_consumption</th>\n",
       "    </tr>\n",
       "  </thead>\n",
       "  <tbody>\n",
       "    <tr>\n",
       "      <th>count</th>\n",
       "      <td>60870.00000</td>\n",
       "      <td>60870.000000</td>\n",
       "    </tr>\n",
       "    <tr>\n",
       "      <th>mean</th>\n",
       "      <td>30434.50000</td>\n",
       "      <td>931.804688</td>\n",
       "    </tr>\n",
       "    <tr>\n",
       "      <th>std</th>\n",
       "      <td>17571.79978</td>\n",
       "      <td>1232.304688</td>\n",
       "    </tr>\n",
       "    <tr>\n",
       "      <th>min</th>\n",
       "      <td>0.00000</td>\n",
       "      <td>80.298065</td>\n",
       "    </tr>\n",
       "    <tr>\n",
       "      <th>25%</th>\n",
       "      <td>15217.25000</td>\n",
       "      <td>302.026207</td>\n",
       "    </tr>\n",
       "    <tr>\n",
       "      <th>50%</th>\n",
       "      <td>30434.50000</td>\n",
       "      <td>469.486816</td>\n",
       "    </tr>\n",
       "    <tr>\n",
       "      <th>75%</th>\n",
       "      <td>45651.75000</td>\n",
       "      <td>981.693878</td>\n",
       "    </tr>\n",
       "    <tr>\n",
       "      <th>max</th>\n",
       "      <td>60869.00000</td>\n",
       "      <td>6674.708984</td>\n",
       "    </tr>\n",
       "  </tbody>\n",
       "</table>\n",
       "</div>"
      ],
      "text/plain": [
       "                id  energy_consumption\n",
       "count  60870.00000        60870.000000\n",
       "mean   30434.50000          931.804688\n",
       "std    17571.79978         1232.304688\n",
       "min        0.00000           80.298065\n",
       "25%    15217.25000          302.026207\n",
       "50%    30434.50000          469.486816\n",
       "75%    45651.75000          981.693878\n",
       "max    60869.00000         6674.708984"
      ]
     },
     "execution_count": 13,
     "metadata": {},
     "output_type": "execute_result"
    }
   ],
   "source": [
    "sub['energy_consumption'] = model.predict(test)\n",
    "sub.to_csv('submission_model_relu.csv', index=False)\n",
    "sub.describe()"
   ]
  },
  {
   "cell_type": "markdown",
   "id": "b1ae89d1",
   "metadata": {
    "papermill": {
     "duration": 0.271929,
     "end_time": "2022-06-27T19:34:05.850127",
     "exception": false,
     "start_time": "2022-06-27T19:34:05.578198",
     "status": "completed"
    },
    "tags": []
   },
   "source": [
    "### Save Model"
   ]
  },
  {
   "cell_type": "code",
   "execution_count": 14,
   "id": "4bf587cf",
   "metadata": {
    "execution": {
     "iopub.execute_input": "2022-06-27T19:34:06.432201Z",
     "iopub.status.busy": "2022-06-27T19:34:06.431839Z",
     "iopub.status.idle": "2022-06-27T19:34:06.478827Z",
     "shell.execute_reply": "2022-06-27T19:34:06.477943Z"
    },
    "papermill": {
     "duration": 0.318507,
     "end_time": "2022-06-27T19:34:06.480916",
     "exception": false,
     "start_time": "2022-06-27T19:34:06.162409",
     "status": "completed"
    },
    "tags": []
   },
   "outputs": [],
   "source": [
    "model.save('model0.keras')\n",
    "#model = keras.models.load_model('path/to/location')"
   ]
  },
  {
   "cell_type": "markdown",
   "id": "7f6c60f7",
   "metadata": {
    "papermill": {
     "duration": 0.272533,
     "end_time": "2022-06-27T19:34:07.022044",
     "exception": false,
     "start_time": "2022-06-27T19:34:06.749511",
     "status": "completed"
    },
    "tags": []
   },
   "source": [
    "# Model 1"
   ]
  },
  {
   "cell_type": "code",
   "execution_count": 15,
   "id": "e94e8687",
   "metadata": {
    "execution": {
     "iopub.execute_input": "2022-06-27T19:34:07.564795Z",
     "iopub.status.busy": "2022-06-27T19:34:07.563686Z",
     "iopub.status.idle": "2022-06-27T19:34:07.570541Z",
     "shell.execute_reply": "2022-06-27T19:34:07.569592Z"
    },
    "papermill": {
     "duration": 0.279376,
     "end_time": "2022-06-27T19:34:07.572603",
     "exception": false,
     "start_time": "2022-06-27T19:34:07.293227",
     "status": "completed"
    },
    "tags": []
   },
   "outputs": [],
   "source": [
    "def build_model1():\n",
    "    \n",
    "    model = keras.Sequential([\n",
    "        layers.Dense(units=1024, input_shape=[shape]),\n",
    "        layers.Dense(1024, activation='relu'),\n",
    "        layers.BatchNormalization(),\n",
    "        layers.Dropout(0.3),\n",
    "        layers.Dense(1024, activation='relu'),\n",
    "        layers.BatchNormalization(),\n",
    "        layers.Dropout(0.3),\n",
    "        layers.Dense(1),\n",
    "    ])\n",
    "    \n",
    "    return model\n",
    "\n",
    "#model1 = build_model1()\n",
    "\n",
    "#model1.compile(optimizer=\"adam\", loss=\"mae\", metrics=['mae'],)"
   ]
  },
  {
   "cell_type": "code",
   "execution_count": 16,
   "id": "ae8d1710",
   "metadata": {
    "_kg_hide-input": true,
    "_kg_hide-output": true,
    "execution": {
     "iopub.execute_input": "2022-06-27T19:34:08.169381Z",
     "iopub.status.busy": "2022-06-27T19:34:08.169039Z",
     "iopub.status.idle": "2022-06-27T19:34:08.175562Z",
     "shell.execute_reply": "2022-06-27T19:34:08.174568Z"
    },
    "papermill": {
     "duration": 0.336585,
     "end_time": "2022-06-27T19:34:08.178432",
     "exception": false,
     "start_time": "2022-06-27T19:34:07.841847",
     "status": "completed"
    },
    "tags": []
   },
   "outputs": [
    {
     "data": {
      "text/plain": [
       "'\\nearly_stopping = keras.callbacks.EarlyStopping(\\n    patience=5,\\n    min_delta=0.001,\\n    restore_best_weights=True,\\n)\\n\\nhistory = model1.fit(\\n    X_train, y_train,\\n    validation_data=(X_valid, y_valid),\\n    batch_size=512,\\n    epochs=20,\\n    callbacks=[early_stopping],\\n)\\n\\nhistory_df = pd.DataFrame(history.history)\\nhistory_df.loc[0:, [\\'loss\\', \\'val_loss\\']].plot()\\nprint((\"Minimum Validation Loss: {:0.4f}\").format(history_df[\\'val_loss\\'].min()))\\n'"
      ]
     },
     "execution_count": 16,
     "metadata": {},
     "output_type": "execute_result"
    }
   ],
   "source": [
    "\"\"\"\n",
    "early_stopping = keras.callbacks.EarlyStopping(\n",
    "    patience=5,\n",
    "    min_delta=0.001,\n",
    "    restore_best_weights=True,\n",
    ")\n",
    "\n",
    "history = model1.fit(\n",
    "    X_train, y_train,\n",
    "    validation_data=(X_valid, y_valid),\n",
    "    batch_size=512,\n",
    "    epochs=20,\n",
    "    callbacks=[early_stopping],\n",
    ")\n",
    "\n",
    "history_df = pd.DataFrame(history.history)\n",
    "history_df.loc[0:, ['loss', 'val_loss']].plot()\n",
    "print((\"Minimum Validation Loss: {:0.4f}\").format(history_df['val_loss'].min()))\n",
    "\"\"\""
   ]
  },
  {
   "cell_type": "code",
   "execution_count": 17,
   "id": "554d79c7",
   "metadata": {
    "_kg_hide-input": true,
    "_kg_hide-output": true,
    "execution": {
     "iopub.execute_input": "2022-06-27T19:34:08.720887Z",
     "iopub.status.busy": "2022-06-27T19:34:08.720519Z",
     "iopub.status.idle": "2022-06-27T19:34:08.726696Z",
     "shell.execute_reply": "2022-06-27T19:34:08.725579Z"
    },
    "papermill": {
     "duration": 0.280532,
     "end_time": "2022-06-27T19:34:08.730156",
     "exception": false,
     "start_time": "2022-06-27T19:34:08.449624",
     "status": "completed"
    },
    "tags": []
   },
   "outputs": [
    {
     "data": {
      "text/plain": [
       "'\\npred = model1.predict(X_valid)\\nevaluates_model(y_valid, pred)\\n'"
      ]
     },
     "execution_count": 17,
     "metadata": {},
     "output_type": "execute_result"
    }
   ],
   "source": [
    "\"\"\"\n",
    "pred = model1.predict(X_valid)\n",
    "evaluates_model(y_valid, pred)\n",
    "\"\"\""
   ]
  },
  {
   "cell_type": "code",
   "execution_count": 18,
   "id": "2493877c",
   "metadata": {
    "_kg_hide-input": true,
    "_kg_hide-output": true,
    "execution": {
     "iopub.execute_input": "2022-06-27T19:34:09.276206Z",
     "iopub.status.busy": "2022-06-27T19:34:09.275836Z",
     "iopub.status.idle": "2022-06-27T19:34:09.282353Z",
     "shell.execute_reply": "2022-06-27T19:34:09.281321Z"
    },
    "papermill": {
     "duration": 0.284483,
     "end_time": "2022-06-27T19:34:09.285105",
     "exception": false,
     "start_time": "2022-06-27T19:34:09.000622",
     "status": "completed"
    },
    "tags": []
   },
   "outputs": [
    {
     "data": {
      "text/plain": [
       "\"\\nsub['energy_consumption'] = model1.predict(test)\\nsub.to_csv('submission_model1.csv', index=False)\\nsub.describe()\\n\""
      ]
     },
     "execution_count": 18,
     "metadata": {},
     "output_type": "execute_result"
    }
   ],
   "source": [
    "\"\"\"\n",
    "sub['energy_consumption'] = model1.predict(test)\n",
    "sub.to_csv('submission_model1.csv', index=False)\n",
    "sub.describe()\n",
    "\"\"\""
   ]
  },
  {
   "cell_type": "code",
   "execution_count": 19,
   "id": "ea1362f6",
   "metadata": {
    "execution": {
     "iopub.execute_input": "2022-06-27T19:34:09.884605Z",
     "iopub.status.busy": "2022-06-27T19:34:09.884175Z",
     "iopub.status.idle": "2022-06-27T19:34:09.888644Z",
     "shell.execute_reply": "2022-06-27T19:34:09.887487Z"
    },
    "papermill": {
     "duration": 0.295432,
     "end_time": "2022-06-27T19:34:09.891345",
     "exception": false,
     "start_time": "2022-06-27T19:34:09.595913",
     "status": "completed"
    },
    "tags": []
   },
   "outputs": [],
   "source": [
    "#model1.save('model1.keras')"
   ]
  },
  {
   "cell_type": "markdown",
   "id": "b637a095",
   "metadata": {
    "papermill": {
     "duration": 0.277209,
     "end_time": "2022-06-27T19:34:10.438985",
     "exception": false,
     "start_time": "2022-06-27T19:34:10.161776",
     "status": "completed"
    },
    "tags": []
   },
   "source": [
    "# Model 2"
   ]
  },
  {
   "cell_type": "code",
   "execution_count": 20,
   "id": "613c2a19",
   "metadata": {
    "execution": {
     "iopub.execute_input": "2022-06-27T19:34:10.983692Z",
     "iopub.status.busy": "2022-06-27T19:34:10.982769Z",
     "iopub.status.idle": "2022-06-27T19:34:10.991195Z",
     "shell.execute_reply": "2022-06-27T19:34:10.990300Z"
    },
    "papermill": {
     "duration": 0.283425,
     "end_time": "2022-06-27T19:34:10.993335",
     "exception": false,
     "start_time": "2022-06-27T19:34:10.709910",
     "status": "completed"
    },
    "tags": []
   },
   "outputs": [],
   "source": [
    "def build_model2():\n",
    "    \n",
    "    model = keras.Sequential([\n",
    "        layers.Dense(1024, activation='relu', input_shape=[shape]),\n",
    "        layers.Dropout(0.3),\n",
    "        layers.BatchNormalization(),\n",
    "        layers.Dense(1024, activation='relu'),\n",
    "        layers.Dropout(0.3),\n",
    "        layers.BatchNormalization(),\n",
    "        layers.Dense(1024, activation='relu'),\n",
    "        layers.Dropout(0.3),\n",
    "        layers.BatchNormalization(),\n",
    "        layers.Dense(1),\n",
    "    ])\n",
    "    \n",
    "    return model\n"
   ]
  },
  {
   "cell_type": "code",
   "execution_count": 21,
   "id": "fd13aad1",
   "metadata": {
    "_kg_hide-input": true,
    "_kg_hide-output": true,
    "execution": {
     "iopub.execute_input": "2022-06-27T19:34:11.577717Z",
     "iopub.status.busy": "2022-06-27T19:34:11.577366Z",
     "iopub.status.idle": "2022-06-27T19:34:11.583550Z",
     "shell.execute_reply": "2022-06-27T19:34:11.582643Z"
    },
    "papermill": {
     "duration": 0.321921,
     "end_time": "2022-06-27T19:34:11.585878",
     "exception": false,
     "start_time": "2022-06-27T19:34:11.263957",
     "status": "completed"
    },
    "tags": []
   },
   "outputs": [
    {
     "data": {
      "text/plain": [
       "\"\\nmodel2 = build_model2()\\n\\nmodel2.compile(\\n    optimizer='sgd',\\n    loss='mae',\\n    metrics=['mae'],\\n)\\n\\nEPOCHS = 50\\nhistory = model2.fit(\\n    X_train, y_train,\\n    validation_data=(X_valid, y_valid),\\n    batch_size=64,\\n    epochs=EPOCHS,\\n    #verbose=0,\\n)\\n\""
      ]
     },
     "execution_count": 21,
     "metadata": {},
     "output_type": "execute_result"
    }
   ],
   "source": [
    "\"\"\"\n",
    "model2 = build_model2()\n",
    "\n",
    "model2.compile(\n",
    "    optimizer='sgd',\n",
    "    loss='mae',\n",
    "    metrics=['mae'],\n",
    ")\n",
    "\n",
    "EPOCHS = 50\n",
    "history = model2.fit(\n",
    "    X_train, y_train,\n",
    "    validation_data=(X_valid, y_valid),\n",
    "    batch_size=64,\n",
    "    epochs=EPOCHS,\n",
    "    #verbose=0,\n",
    ")\n",
    "\"\"\""
   ]
  },
  {
   "cell_type": "code",
   "execution_count": 22,
   "id": "811fbce1",
   "metadata": {
    "_kg_hide-input": true,
    "_kg_hide-output": true,
    "execution": {
     "iopub.execute_input": "2022-06-27T19:34:12.130728Z",
     "iopub.status.busy": "2022-06-27T19:34:12.130380Z",
     "iopub.status.idle": "2022-06-27T19:34:12.136953Z",
     "shell.execute_reply": "2022-06-27T19:34:12.136045Z"
    },
    "papermill": {
     "duration": 0.283318,
     "end_time": "2022-06-27T19:34:12.139127",
     "exception": false,
     "start_time": "2022-06-27T19:34:11.855809",
     "status": "completed"
    },
    "tags": []
   },
   "outputs": [
    {
     "data": {
      "text/plain": [
       "'\\nhistory_df = pd.DataFrame(history.history)\\nhistory_df.loc[0:, [\\'loss\\', \\'val_loss\\']].plot()\\nprint((\"Minimum Validation Loss: {:0.4f}\").format(history_df[\\'val_loss\\'].min()))\\n'"
      ]
     },
     "execution_count": 22,
     "metadata": {},
     "output_type": "execute_result"
    }
   ],
   "source": [
    "\"\"\"\n",
    "history_df = pd.DataFrame(history.history)\n",
    "history_df.loc[0:, ['loss', 'val_loss']].plot()\n",
    "print((\"Minimum Validation Loss: {:0.4f}\").format(history_df['val_loss'].min()))\n",
    "\"\"\""
   ]
  },
  {
   "cell_type": "code",
   "execution_count": 23,
   "id": "d18c015c",
   "metadata": {
    "_kg_hide-input": true,
    "_kg_hide-output": true,
    "execution": {
     "iopub.execute_input": "2022-06-27T19:34:12.686714Z",
     "iopub.status.busy": "2022-06-27T19:34:12.686361Z",
     "iopub.status.idle": "2022-06-27T19:34:12.692171Z",
     "shell.execute_reply": "2022-06-27T19:34:12.691258Z"
    },
    "papermill": {
     "duration": 0.282889,
     "end_time": "2022-06-27T19:34:12.694210",
     "exception": false,
     "start_time": "2022-06-27T19:34:12.411321",
     "status": "completed"
    },
    "tags": []
   },
   "outputs": [
    {
     "data": {
      "text/plain": [
       "'\\npred = model2.predict(X_valid)\\nevaluates_model(y_valid, pred)\\n'"
      ]
     },
     "execution_count": 23,
     "metadata": {},
     "output_type": "execute_result"
    }
   ],
   "source": [
    "\"\"\"\n",
    "pred = model2.predict(X_valid)\n",
    "evaluates_model(y_valid, pred)\n",
    "\"\"\""
   ]
  },
  {
   "cell_type": "code",
   "execution_count": 24,
   "id": "0ccc4c08",
   "metadata": {
    "_kg_hide-input": true,
    "_kg_hide-output": true,
    "execution": {
     "iopub.execute_input": "2022-06-27T19:34:13.286107Z",
     "iopub.status.busy": "2022-06-27T19:34:13.285739Z",
     "iopub.status.idle": "2022-06-27T19:34:13.291692Z",
     "shell.execute_reply": "2022-06-27T19:34:13.290805Z"
    },
    "papermill": {
     "duration": 0.284497,
     "end_time": "2022-06-27T19:34:13.293585",
     "exception": false,
     "start_time": "2022-06-27T19:34:13.009088",
     "status": "completed"
    },
    "tags": []
   },
   "outputs": [
    {
     "data": {
      "text/plain": [
       "\"\\nsub['energy_consumption'] = model2.predict(test)\\nsub.to_csv('submission_model2.csv', index=False)\\nsub.describe()\\n\""
      ]
     },
     "execution_count": 24,
     "metadata": {},
     "output_type": "execute_result"
    }
   ],
   "source": [
    "\"\"\"\n",
    "sub['energy_consumption'] = model2.predict(test)\n",
    "sub.to_csv('submission_model2.csv', index=False)\n",
    "sub.describe()\n",
    "\"\"\""
   ]
  },
  {
   "cell_type": "code",
   "execution_count": 25,
   "id": "4f389f26",
   "metadata": {
    "execution": {
     "iopub.execute_input": "2022-06-27T19:34:13.838893Z",
     "iopub.status.busy": "2022-06-27T19:34:13.837919Z",
     "iopub.status.idle": "2022-06-27T19:34:13.842725Z",
     "shell.execute_reply": "2022-06-27T19:34:13.841864Z"
    },
    "papermill": {
     "duration": 0.280085,
     "end_time": "2022-06-27T19:34:13.844807",
     "exception": false,
     "start_time": "2022-06-27T19:34:13.564722",
     "status": "completed"
    },
    "tags": []
   },
   "outputs": [],
   "source": [
    "#model2.save('model2.keras')"
   ]
  },
  {
   "cell_type": "code",
   "execution_count": null,
   "id": "1fc5ea48",
   "metadata": {
    "papermill": {
     "duration": 0.269564,
     "end_time": "2022-06-27T19:34:14.385328",
     "exception": false,
     "start_time": "2022-06-27T19:34:14.115764",
     "status": "completed"
    },
    "tags": []
   },
   "outputs": [],
   "source": []
  },
  {
   "cell_type": "code",
   "execution_count": null,
   "id": "2843e238",
   "metadata": {
    "papermill": {
     "duration": 0.314287,
     "end_time": "2022-06-27T19:34:14.970438",
     "exception": false,
     "start_time": "2022-06-27T19:34:14.656151",
     "status": "completed"
    },
    "tags": []
   },
   "outputs": [],
   "source": []
  }
 ],
 "metadata": {
  "kernelspec": {
   "display_name": "Python 3",
   "language": "python",
   "name": "python3"
  },
  "language_info": {
   "codemirror_mode": {
    "name": "ipython",
    "version": 3
   },
   "file_extension": ".py",
   "mimetype": "text/x-python",
   "name": "python",
   "nbconvert_exporter": "python",
   "pygments_lexer": "ipython3",
   "version": "3.7.12"
  },
  "papermill": {
   "default_parameters": {},
   "duration": 276.61859,
   "end_time": "2022-06-27T19:34:18.964194",
   "environment_variables": {},
   "exception": null,
   "input_path": "__notebook__.ipynb",
   "output_path": "__notebook__.ipynb",
   "parameters": {},
   "start_time": "2022-06-27T19:29:42.345604",
   "version": "2.3.4"
  }
 },
 "nbformat": 4,
 "nbformat_minor": 5
}
