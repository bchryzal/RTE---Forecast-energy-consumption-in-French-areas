{
 "cells": [
  {
   "cell_type": "markdown",
   "id": "861054d8",
   "metadata": {
    "papermill": {
     "duration": 0.009719,
     "end_time": "2022-06-26T16:19:17.554187",
     "exception": false,
     "start_time": "2022-06-26T16:19:17.544468",
     "status": "completed"
    },
    "tags": []
   },
   "source": [
    "# RTE - Forecast energy consumption in French areas\n"
   ]
  },
  {
   "cell_type": "code",
   "execution_count": 1,
   "id": "0cc9989a",
   "metadata": {
    "_cell_guid": "b1076dfc-b9ad-4769-8c92-a6c4dae69d19",
    "_uuid": "8f2839f25d086af736a60e9eeb907d3b93b6e0e5",
    "execution": {
     "iopub.execute_input": "2022-06-26T16:19:17.574291Z",
     "iopub.status.busy": "2022-06-26T16:19:17.573308Z",
     "iopub.status.idle": "2022-06-26T16:19:17.586809Z",
     "shell.execute_reply": "2022-06-26T16:19:17.585765Z"
    },
    "papermill": {
     "duration": 0.026445,
     "end_time": "2022-06-26T16:19:17.589415",
     "exception": false,
     "start_time": "2022-06-26T16:19:17.562970",
     "status": "completed"
    },
    "tags": []
   },
   "outputs": [],
   "source": [
    "import numpy as np # linear algebra\n",
    "import pandas as pd # data processing, CSV file I/O (e.g. pd.read_csv)"
   ]
  },
  {
   "cell_type": "markdown",
   "id": "62d4e089",
   "metadata": {
    "papermill": {
     "duration": 0.008381,
     "end_time": "2022-06-26T16:19:17.606610",
     "exception": false,
     "start_time": "2022-06-26T16:19:17.598229",
     "status": "completed"
    },
    "tags": []
   },
   "source": [
    "# Load data"
   ]
  },
  {
   "cell_type": "code",
   "execution_count": 2,
   "id": "22d8d089",
   "metadata": {
    "execution": {
     "iopub.execute_input": "2022-06-26T16:19:17.627521Z",
     "iopub.status.busy": "2022-06-26T16:19:17.627120Z",
     "iopub.status.idle": "2022-06-26T16:19:18.362297Z",
     "shell.execute_reply": "2022-06-26T16:19:18.361260Z"
    },
    "papermill": {
     "duration": 0.749101,
     "end_time": "2022-06-26T16:19:18.364518",
     "exception": false,
     "start_time": "2022-06-26T16:19:17.615417",
     "status": "completed"
    },
    "tags": []
   },
   "outputs": [
    {
     "data": {
      "text/plain": [
       "((717414, 3), (60870, 3))"
      ]
     },
     "execution_count": 2,
     "metadata": {},
     "output_type": "execute_result"
    }
   ],
   "source": [
    "train = pd.read_csv(\"../input/rte-forecast-energy-consumption-in-french-areas/train.csv\")\n",
    "test = pd.read_csv(\"../input/rte-forecast-energy-consumption-in-french-areas/test.csv\")\n",
    "\n",
    "train.shape, test.shape"
   ]
  },
  {
   "cell_type": "markdown",
   "id": "cc8b07e0",
   "metadata": {
    "papermill": {
     "duration": 0.010237,
     "end_time": "2022-06-26T16:19:18.383619",
     "exception": false,
     "start_time": "2022-06-26T16:19:18.373382",
     "status": "completed"
    },
    "tags": []
   },
   "source": [
    "# Understanding Data"
   ]
  },
  {
   "cell_type": "code",
   "execution_count": 3,
   "id": "8fd29f91",
   "metadata": {
    "execution": {
     "iopub.execute_input": "2022-06-26T16:19:18.406077Z",
     "iopub.status.busy": "2022-06-26T16:19:18.405719Z",
     "iopub.status.idle": "2022-06-26T16:19:18.423778Z",
     "shell.execute_reply": "2022-06-26T16:19:18.422699Z"
    },
    "papermill": {
     "duration": 0.031989,
     "end_time": "2022-06-26T16:19:18.426497",
     "exception": false,
     "start_time": "2022-06-26T16:19:18.394508",
     "status": "completed"
    },
    "tags": []
   },
   "outputs": [
    {
     "data": {
      "text/html": [
       "<div>\n",
       "<style scoped>\n",
       "    .dataframe tbody tr th:only-of-type {\n",
       "        vertical-align: middle;\n",
       "    }\n",
       "\n",
       "    .dataframe tbody tr th {\n",
       "        vertical-align: top;\n",
       "    }\n",
       "\n",
       "    .dataframe thead th {\n",
       "        text-align: right;\n",
       "    }\n",
       "</style>\n",
       "<table border=\"1\" class=\"dataframe\">\n",
       "  <thead>\n",
       "    <tr style=\"text-align: right;\">\n",
       "      <th></th>\n",
       "      <th>metropolitan_area_code</th>\n",
       "      <th>date</th>\n",
       "      <th>energy_consumption</th>\n",
       "    </tr>\n",
       "  </thead>\n",
       "  <tbody>\n",
       "    <tr>\n",
       "      <th>0</th>\n",
       "      <td>3</td>\n",
       "      <td>2017-09-11 02:15:00</td>\n",
       "      <td>477.0</td>\n",
       "    </tr>\n",
       "    <tr>\n",
       "      <th>1</th>\n",
       "      <td>3</td>\n",
       "      <td>2017-09-11 02:30:00</td>\n",
       "      <td>454.0</td>\n",
       "    </tr>\n",
       "    <tr>\n",
       "      <th>2</th>\n",
       "      <td>3</td>\n",
       "      <td>2017-09-11 03:45:00</td>\n",
       "      <td>398.0</td>\n",
       "    </tr>\n",
       "    <tr>\n",
       "      <th>3</th>\n",
       "      <td>3</td>\n",
       "      <td>2017-09-11 04:45:00</td>\n",
       "      <td>398.0</td>\n",
       "    </tr>\n",
       "    <tr>\n",
       "      <th>4</th>\n",
       "      <td>3</td>\n",
       "      <td>2017-09-11 05:15:00</td>\n",
       "      <td>409.0</td>\n",
       "    </tr>\n",
       "  </tbody>\n",
       "</table>\n",
       "</div>"
      ],
      "text/plain": [
       "   metropolitan_area_code                 date  energy_consumption\n",
       "0                       3  2017-09-11 02:15:00               477.0\n",
       "1                       3  2017-09-11 02:30:00               454.0\n",
       "2                       3  2017-09-11 03:45:00               398.0\n",
       "3                       3  2017-09-11 04:45:00               398.0\n",
       "4                       3  2017-09-11 05:15:00               409.0"
      ]
     },
     "execution_count": 3,
     "metadata": {},
     "output_type": "execute_result"
    }
   ],
   "source": [
    "train.head()"
   ]
  },
  {
   "cell_type": "code",
   "execution_count": 4,
   "id": "2a4e5baa",
   "metadata": {
    "execution": {
     "iopub.execute_input": "2022-06-26T16:19:18.453703Z",
     "iopub.status.busy": "2022-06-26T16:19:18.452885Z",
     "iopub.status.idle": "2022-06-26T16:19:18.462516Z",
     "shell.execute_reply": "2022-06-26T16:19:18.461707Z"
    },
    "papermill": {
     "duration": 0.022859,
     "end_time": "2022-06-26T16:19:18.464611",
     "exception": false,
     "start_time": "2022-06-26T16:19:18.441752",
     "status": "completed"
    },
    "tags": []
   },
   "outputs": [
    {
     "data": {
      "text/html": [
       "<div>\n",
       "<style scoped>\n",
       "    .dataframe tbody tr th:only-of-type {\n",
       "        vertical-align: middle;\n",
       "    }\n",
       "\n",
       "    .dataframe tbody tr th {\n",
       "        vertical-align: top;\n",
       "    }\n",
       "\n",
       "    .dataframe thead th {\n",
       "        text-align: right;\n",
       "    }\n",
       "</style>\n",
       "<table border=\"1\" class=\"dataframe\">\n",
       "  <thead>\n",
       "    <tr style=\"text-align: right;\">\n",
       "      <th></th>\n",
       "      <th>id</th>\n",
       "      <th>metropolitan_area_code</th>\n",
       "      <th>date</th>\n",
       "    </tr>\n",
       "  </thead>\n",
       "  <tbody>\n",
       "    <tr>\n",
       "      <th>0</th>\n",
       "      <td>0</td>\n",
       "      <td>3</td>\n",
       "      <td>2022-01-01 00:45:00</td>\n",
       "    </tr>\n",
       "    <tr>\n",
       "      <th>1</th>\n",
       "      <td>1</td>\n",
       "      <td>3</td>\n",
       "      <td>2022-01-01 01:15:00</td>\n",
       "    </tr>\n",
       "    <tr>\n",
       "      <th>2</th>\n",
       "      <td>2</td>\n",
       "      <td>3</td>\n",
       "      <td>2022-01-01 01:30:00</td>\n",
       "    </tr>\n",
       "    <tr>\n",
       "      <th>3</th>\n",
       "      <td>3</td>\n",
       "      <td>3</td>\n",
       "      <td>2022-01-01 02:00:00</td>\n",
       "    </tr>\n",
       "    <tr>\n",
       "      <th>4</th>\n",
       "      <td>4</td>\n",
       "      <td>3</td>\n",
       "      <td>2022-01-01 02:15:00</td>\n",
       "    </tr>\n",
       "  </tbody>\n",
       "</table>\n",
       "</div>"
      ],
      "text/plain": [
       "   id  metropolitan_area_code                 date\n",
       "0   0                       3  2022-01-01 00:45:00\n",
       "1   1                       3  2022-01-01 01:15:00\n",
       "2   2                       3  2022-01-01 01:30:00\n",
       "3   3                       3  2022-01-01 02:00:00\n",
       "4   4                       3  2022-01-01 02:15:00"
      ]
     },
     "execution_count": 4,
     "metadata": {},
     "output_type": "execute_result"
    }
   ],
   "source": [
    "test.head()"
   ]
  },
  {
   "cell_type": "markdown",
   "id": "8c337c88",
   "metadata": {
    "papermill": {
     "duration": 0.011122,
     "end_time": "2022-06-26T16:19:18.488764",
     "exception": false,
     "start_time": "2022-06-26T16:19:18.477642",
     "status": "completed"
    },
    "tags": []
   },
   "source": [
    "- Is Null sum"
   ]
  },
  {
   "cell_type": "code",
   "execution_count": 5,
   "id": "54557f48",
   "metadata": {
    "execution": {
     "iopub.execute_input": "2022-06-26T16:19:18.511362Z",
     "iopub.status.busy": "2022-06-26T16:19:18.510608Z",
     "iopub.status.idle": "2022-06-26T16:19:18.580959Z",
     "shell.execute_reply": "2022-06-26T16:19:18.579878Z"
    },
    "papermill": {
     "duration": 0.083875,
     "end_time": "2022-06-26T16:19:18.583963",
     "exception": false,
     "start_time": "2022-06-26T16:19:18.500088",
     "status": "completed"
    },
    "tags": []
   },
   "outputs": [
    {
     "data": {
      "text/plain": [
       "(False, False)"
      ]
     },
     "execution_count": 5,
     "metadata": {},
     "output_type": "execute_result"
    }
   ],
   "source": [
    "train.isna().sum().any(), test.isna().sum().any()"
   ]
  },
  {
   "cell_type": "code",
   "execution_count": 6,
   "id": "8670441e",
   "metadata": {
    "execution": {
     "iopub.execute_input": "2022-06-26T16:19:18.613093Z",
     "iopub.status.busy": "2022-06-26T16:19:18.612714Z",
     "iopub.status.idle": "2022-06-26T16:19:18.696147Z",
     "shell.execute_reply": "2022-06-26T16:19:18.695332Z"
    },
    "papermill": {
     "duration": 0.098527,
     "end_time": "2022-06-26T16:19:18.698498",
     "exception": false,
     "start_time": "2022-06-26T16:19:18.599971",
     "status": "completed"
    },
    "tags": []
   },
   "outputs": [
    {
     "name": "stdout",
     "output_type": "stream",
     "text": [
      "<class 'pandas.core.frame.DataFrame'>\n",
      "RangeIndex: 717414 entries, 0 to 717413\n",
      "Data columns (total 3 columns):\n",
      " #   Column                  Non-Null Count   Dtype  \n",
      "---  ------                  --------------   -----  \n",
      " 0   metropolitan_area_code  717414 non-null  int64  \n",
      " 1   date                    717414 non-null  object \n",
      " 2   energy_consumption      717414 non-null  float64\n",
      "dtypes: float64(1), int64(1), object(1)\n",
      "memory usage: 16.4+ MB\n"
     ]
    }
   ],
   "source": [
    "train.info()"
   ]
  },
  {
   "cell_type": "code",
   "execution_count": 7,
   "id": "8732896c",
   "metadata": {
    "execution": {
     "iopub.execute_input": "2022-06-26T16:19:18.719983Z",
     "iopub.status.busy": "2022-06-26T16:19:18.719387Z",
     "iopub.status.idle": "2022-06-26T16:19:18.734860Z",
     "shell.execute_reply": "2022-06-26T16:19:18.733724Z"
    },
    "papermill": {
     "duration": 0.02923,
     "end_time": "2022-06-26T16:19:18.737394",
     "exception": false,
     "start_time": "2022-06-26T16:19:18.708164",
     "status": "completed"
    },
    "tags": []
   },
   "outputs": [
    {
     "name": "stdout",
     "output_type": "stream",
     "text": [
      "<class 'pandas.core.frame.DataFrame'>\n",
      "RangeIndex: 60870 entries, 0 to 60869\n",
      "Data columns (total 3 columns):\n",
      " #   Column                  Non-Null Count  Dtype \n",
      "---  ------                  --------------  ----- \n",
      " 0   id                      60870 non-null  int64 \n",
      " 1   metropolitan_area_code  60870 non-null  int64 \n",
      " 2   date                    60870 non-null  object\n",
      "dtypes: int64(2), object(1)\n",
      "memory usage: 1.4+ MB\n"
     ]
    }
   ],
   "source": [
    "test.info()"
   ]
  },
  {
   "cell_type": "code",
   "execution_count": 8,
   "id": "53bad322",
   "metadata": {
    "execution": {
     "iopub.execute_input": "2022-06-26T16:19:18.758837Z",
     "iopub.status.busy": "2022-06-26T16:19:18.757602Z",
     "iopub.status.idle": "2022-06-26T16:19:18.782735Z",
     "shell.execute_reply": "2022-06-26T16:19:18.781630Z"
    },
    "papermill": {
     "duration": 0.039253,
     "end_time": "2022-06-26T16:19:18.786077",
     "exception": false,
     "start_time": "2022-06-26T16:19:18.746824",
     "status": "completed"
    },
    "tags": []
   },
   "outputs": [
    {
     "name": "stdout",
     "output_type": "stream",
     "text": [
      "17\n"
     ]
    },
    {
     "data": {
      "text/plain": [
       "2     78477\n",
       "16    65256\n",
       "3     62417\n",
       "11    59587\n",
       "0     55893\n",
       "4     54914\n",
       "14    54364\n",
       "9     52229\n",
       "1     49754\n",
       "13    38024\n",
       "15    29976\n",
       "12    26392\n",
       "8     24992\n",
       "6     23541\n",
       "10    18971\n",
       "7     18654\n",
       "5      3973\n",
       "Name: metropolitan_area_code, dtype: int64"
      ]
     },
     "execution_count": 8,
     "metadata": {},
     "output_type": "execute_result"
    }
   ],
   "source": [
    "print(len(train['metropolitan_area_code'].unique()))\n",
    "\n",
    "train['metropolitan_area_code'].value_counts()"
   ]
  },
  {
   "cell_type": "code",
   "execution_count": 9,
   "id": "200cf0c8",
   "metadata": {
    "execution": {
     "iopub.execute_input": "2022-06-26T16:19:18.817582Z",
     "iopub.status.busy": "2022-06-26T16:19:18.816457Z",
     "iopub.status.idle": "2022-06-26T16:19:18.828617Z",
     "shell.execute_reply": "2022-06-26T16:19:18.827538Z"
    },
    "papermill": {
     "duration": 0.028393,
     "end_time": "2022-06-26T16:19:18.830717",
     "exception": false,
     "start_time": "2022-06-26T16:19:18.802324",
     "status": "completed"
    },
    "tags": []
   },
   "outputs": [
    {
     "name": "stdout",
     "output_type": "stream",
     "text": [
      "17\n"
     ]
    },
    {
     "data": {
      "text/plain": [
       "2     6858\n",
       "7     4696\n",
       "10    4644\n",
       "8     4581\n",
       "0     4553\n",
       "3     4533\n",
       "4     4433\n",
       "6     4271\n",
       "5     3559\n",
       "13    2974\n",
       "9     2742\n",
       "14    2741\n",
       "11    2732\n",
       "1     2279\n",
       "16    2262\n",
       "15    2244\n",
       "12     768\n",
       "Name: metropolitan_area_code, dtype: int64"
      ]
     },
     "execution_count": 9,
     "metadata": {},
     "output_type": "execute_result"
    }
   ],
   "source": [
    "print(len(test['metropolitan_area_code'].unique()))\n",
    "\n",
    "test['metropolitan_area_code'].value_counts()"
   ]
  },
  {
   "cell_type": "markdown",
   "id": "8e21d08a",
   "metadata": {
    "papermill": {
     "duration": 0.011307,
     "end_time": "2022-06-26T16:19:18.851700",
     "exception": false,
     "start_time": "2022-06-26T16:19:18.840393",
     "status": "completed"
    },
    "tags": []
   },
   "source": [
    "# Preprocessing Data"
   ]
  },
  {
   "cell_type": "code",
   "execution_count": 10,
   "id": "4cdacd88",
   "metadata": {
    "execution": {
     "iopub.execute_input": "2022-06-26T16:19:18.877256Z",
     "iopub.status.busy": "2022-06-26T16:19:18.875873Z",
     "iopub.status.idle": "2022-06-26T16:19:19.035310Z",
     "shell.execute_reply": "2022-06-26T16:19:19.034117Z"
    },
    "papermill": {
     "duration": 0.174749,
     "end_time": "2022-06-26T16:19:19.038603",
     "exception": false,
     "start_time": "2022-06-26T16:19:18.863854",
     "status": "completed"
    },
    "tags": []
   },
   "outputs": [
    {
     "data": {
      "text/html": [
       "<div>\n",
       "<style scoped>\n",
       "    .dataframe tbody tr th:only-of-type {\n",
       "        vertical-align: middle;\n",
       "    }\n",
       "\n",
       "    .dataframe tbody tr th {\n",
       "        vertical-align: top;\n",
       "    }\n",
       "\n",
       "    .dataframe thead th {\n",
       "        text-align: right;\n",
       "    }\n",
       "</style>\n",
       "<table border=\"1\" class=\"dataframe\">\n",
       "  <thead>\n",
       "    <tr style=\"text-align: right;\">\n",
       "      <th></th>\n",
       "      <th>metropolitan_area_code</th>\n",
       "      <th>date</th>\n",
       "      <th>energy_consumption</th>\n",
       "    </tr>\n",
       "  </thead>\n",
       "  <tbody>\n",
       "    <tr>\n",
       "      <th>0</th>\n",
       "      <td>3</td>\n",
       "      <td>2017-09-11 02:15:00</td>\n",
       "      <td>477.0</td>\n",
       "    </tr>\n",
       "    <tr>\n",
       "      <th>1</th>\n",
       "      <td>3</td>\n",
       "      <td>2017-09-11 02:30:00</td>\n",
       "      <td>454.0</td>\n",
       "    </tr>\n",
       "    <tr>\n",
       "      <th>2</th>\n",
       "      <td>3</td>\n",
       "      <td>2017-09-11 03:45:00</td>\n",
       "      <td>398.0</td>\n",
       "    </tr>\n",
       "    <tr>\n",
       "      <th>3</th>\n",
       "      <td>3</td>\n",
       "      <td>2017-09-11 04:45:00</td>\n",
       "      <td>398.0</td>\n",
       "    </tr>\n",
       "    <tr>\n",
       "      <th>4</th>\n",
       "      <td>3</td>\n",
       "      <td>2017-09-11 05:15:00</td>\n",
       "      <td>409.0</td>\n",
       "    </tr>\n",
       "  </tbody>\n",
       "</table>\n",
       "</div>"
      ],
      "text/plain": [
       "   metropolitan_area_code                date  energy_consumption\n",
       "0                       3 2017-09-11 02:15:00               477.0\n",
       "1                       3 2017-09-11 02:30:00               454.0\n",
       "2                       3 2017-09-11 03:45:00               398.0\n",
       "3                       3 2017-09-11 04:45:00               398.0\n",
       "4                       3 2017-09-11 05:15:00               409.0"
      ]
     },
     "execution_count": 10,
     "metadata": {},
     "output_type": "execute_result"
    }
   ],
   "source": [
    "train[\"date\"] = pd.to_datetime(train[\"date\"])\n",
    "test[\"date\"] = pd.to_datetime(test[\"date\"])\n",
    "\n",
    "train.head()"
   ]
  },
  {
   "cell_type": "markdown",
   "id": "5fe7085c",
   "metadata": {
    "papermill": {
     "duration": 0.010034,
     "end_time": "2022-06-26T16:19:19.067039",
     "exception": false,
     "start_time": "2022-06-26T16:19:19.057005",
     "status": "completed"
    },
    "tags": []
   },
   "source": [
    "# Feature Engineering"
   ]
  },
  {
   "cell_type": "code",
   "execution_count": 11,
   "id": "8555738f",
   "metadata": {
    "_kg_hide-output": true,
    "execution": {
     "iopub.execute_input": "2022-06-26T16:19:19.090541Z",
     "iopub.status.busy": "2022-06-26T16:19:19.088467Z",
     "iopub.status.idle": "2022-06-26T16:19:30.410211Z",
     "shell.execute_reply": "2022-06-26T16:19:30.408944Z"
    },
    "papermill": {
     "duration": 11.335754,
     "end_time": "2022-06-26T16:19:30.412835",
     "exception": false,
     "start_time": "2022-06-26T16:19:19.077081",
     "status": "completed"
    },
    "tags": []
   },
   "outputs": [
    {
     "name": "stdout",
     "output_type": "stream",
     "text": [
      "Collecting fast_ml\r\n",
      "  Downloading fast_ml-3.68-py3-none-any.whl (42 kB)\r\n",
      "\u001b[2K     \u001b[90m━━━━━━━━━━━━━━━━━━━━━━━━━━━━━━━━━━━━━━━\u001b[0m \u001b[32m42.1/42.1 kB\u001b[0m \u001b[31m362.4 kB/s\u001b[0m eta \u001b[36m0:00:00\u001b[0m\r\n",
      "\u001b[?25hInstalling collected packages: fast_ml\r\n",
      "Successfully installed fast_ml-3.68\r\n",
      "\u001b[33mWARNING: Running pip as the 'root' user can result in broken permissions and conflicting behaviour with the system package manager. It is recommended to use a virtual environment instead: https://pip.pypa.io/warnings/venv\u001b[0m\u001b[33m\r\n",
      "\u001b[0m"
     ]
    }
   ],
   "source": [
    "!pip install fast_ml"
   ]
  },
  {
   "cell_type": "code",
   "execution_count": 12,
   "id": "9e36396d",
   "metadata": {
    "execution": {
     "iopub.execute_input": "2022-06-26T16:19:30.435709Z",
     "iopub.status.busy": "2022-06-26T16:19:30.435297Z",
     "iopub.status.idle": "2022-06-26T16:19:32.249899Z",
     "shell.execute_reply": "2022-06-26T16:19:32.248709Z"
    },
    "papermill": {
     "duration": 1.829794,
     "end_time": "2022-06-26T16:19:32.252781",
     "exception": false,
     "start_time": "2022-06-26T16:19:30.422987",
     "status": "completed"
    },
    "tags": []
   },
   "outputs": [
    {
     "name": "stderr",
     "output_type": "stream",
     "text": [
      "/opt/conda/lib/python3.7/site-packages/fast_ml/feature_engineering.py:382: FutureWarning: Series.dt.weekofyear and Series.dt.week have been deprecated.  Please use Series.dt.isocalendar().week instead.\n",
      "  df[pfx+f] = getattr(df[var].dt, f)\n"
     ]
    },
    {
     "data": {
      "text/html": [
       "<div>\n",
       "<style scoped>\n",
       "    .dataframe tbody tr th:only-of-type {\n",
       "        vertical-align: middle;\n",
       "    }\n",
       "\n",
       "    .dataframe tbody tr th {\n",
       "        vertical-align: top;\n",
       "    }\n",
       "\n",
       "    .dataframe thead th {\n",
       "        text-align: right;\n",
       "    }\n",
       "</style>\n",
       "<table border=\"1\" class=\"dataframe\">\n",
       "  <thead>\n",
       "    <tr style=\"text-align: right;\">\n",
       "      <th></th>\n",
       "      <th>metropolitan_area_code</th>\n",
       "      <th>date</th>\n",
       "      <th>energy_consumption</th>\n",
       "      <th>date:year</th>\n",
       "      <th>date:quarter</th>\n",
       "      <th>date:month</th>\n",
       "      <th>date:day</th>\n",
       "      <th>date:day_of_week</th>\n",
       "      <th>date:day_of_year</th>\n",
       "      <th>date:weekofyear</th>\n",
       "      <th>...</th>\n",
       "      <th>date:is_quarter_end</th>\n",
       "      <th>date:is_quarter_start</th>\n",
       "      <th>date:is_year_end</th>\n",
       "      <th>date:is_year_start</th>\n",
       "      <th>date:time</th>\n",
       "      <th>date:hour</th>\n",
       "      <th>date:minute</th>\n",
       "      <th>date:second</th>\n",
       "      <th>date:is_weekend</th>\n",
       "      <th>date:day_part</th>\n",
       "    </tr>\n",
       "  </thead>\n",
       "  <tbody>\n",
       "    <tr>\n",
       "      <th>0</th>\n",
       "      <td>3</td>\n",
       "      <td>2017-09-11 02:15:00</td>\n",
       "      <td>477.0</td>\n",
       "      <td>2017</td>\n",
       "      <td>3</td>\n",
       "      <td>9</td>\n",
       "      <td>11</td>\n",
       "      <td>0</td>\n",
       "      <td>254</td>\n",
       "      <td>37</td>\n",
       "      <td>...</td>\n",
       "      <td>False</td>\n",
       "      <td>False</td>\n",
       "      <td>False</td>\n",
       "      <td>False</td>\n",
       "      <td>02:15:00</td>\n",
       "      <td>2</td>\n",
       "      <td>15</td>\n",
       "      <td>0</td>\n",
       "      <td>0</td>\n",
       "      <td>midnight</td>\n",
       "    </tr>\n",
       "    <tr>\n",
       "      <th>1</th>\n",
       "      <td>3</td>\n",
       "      <td>2017-09-11 02:30:00</td>\n",
       "      <td>454.0</td>\n",
       "      <td>2017</td>\n",
       "      <td>3</td>\n",
       "      <td>9</td>\n",
       "      <td>11</td>\n",
       "      <td>0</td>\n",
       "      <td>254</td>\n",
       "      <td>37</td>\n",
       "      <td>...</td>\n",
       "      <td>False</td>\n",
       "      <td>False</td>\n",
       "      <td>False</td>\n",
       "      <td>False</td>\n",
       "      <td>02:30:00</td>\n",
       "      <td>2</td>\n",
       "      <td>30</td>\n",
       "      <td>0</td>\n",
       "      <td>0</td>\n",
       "      <td>midnight</td>\n",
       "    </tr>\n",
       "    <tr>\n",
       "      <th>2</th>\n",
       "      <td>3</td>\n",
       "      <td>2017-09-11 03:45:00</td>\n",
       "      <td>398.0</td>\n",
       "      <td>2017</td>\n",
       "      <td>3</td>\n",
       "      <td>9</td>\n",
       "      <td>11</td>\n",
       "      <td>0</td>\n",
       "      <td>254</td>\n",
       "      <td>37</td>\n",
       "      <td>...</td>\n",
       "      <td>False</td>\n",
       "      <td>False</td>\n",
       "      <td>False</td>\n",
       "      <td>False</td>\n",
       "      <td>03:45:00</td>\n",
       "      <td>3</td>\n",
       "      <td>45</td>\n",
       "      <td>0</td>\n",
       "      <td>0</td>\n",
       "      <td>midnight</td>\n",
       "    </tr>\n",
       "  </tbody>\n",
       "</table>\n",
       "<p>3 rows × 22 columns</p>\n",
       "</div>"
      ],
      "text/plain": [
       "   metropolitan_area_code                date  energy_consumption  date:year  \\\n",
       "0                       3 2017-09-11 02:15:00               477.0       2017   \n",
       "1                       3 2017-09-11 02:30:00               454.0       2017   \n",
       "2                       3 2017-09-11 03:45:00               398.0       2017   \n",
       "\n",
       "   date:quarter  date:month  date:day  date:day_of_week  date:day_of_year  \\\n",
       "0             3           9        11                 0               254   \n",
       "1             3           9        11                 0               254   \n",
       "2             3           9        11                 0               254   \n",
       "\n",
       "   date:weekofyear  ...  date:is_quarter_end  date:is_quarter_start  \\\n",
       "0               37  ...                False                  False   \n",
       "1               37  ...                False                  False   \n",
       "2               37  ...                False                  False   \n",
       "\n",
       "   date:is_year_end  date:is_year_start  date:time  date:hour date:minute  \\\n",
       "0             False               False   02:15:00          2          15   \n",
       "1             False               False   02:30:00          2          30   \n",
       "2             False               False   03:45:00          3          45   \n",
       "\n",
       "   date:second  date:is_weekend  date:day_part  \n",
       "0            0                0       midnight  \n",
       "1            0                0       midnight  \n",
       "2            0                0       midnight  \n",
       "\n",
       "[3 rows x 22 columns]"
      ]
     },
     "execution_count": 12,
     "metadata": {},
     "output_type": "execute_result"
    }
   ],
   "source": [
    "from fast_ml.feature_engineering import FeatureEngineering_DateTime\n",
    "dt_fe = FeatureEngineering_DateTime()\n",
    "\n",
    "dt_fe.fit(train, datetime_variables=['date'])\n",
    "train = dt_fe.transform(train)\n",
    "\n",
    "train.head(3)"
   ]
  },
  {
   "cell_type": "markdown",
   "id": "675fcf13",
   "metadata": {
    "papermill": {
     "duration": 0.01075,
     "end_time": "2022-06-26T16:19:32.274169",
     "exception": false,
     "start_time": "2022-06-26T16:19:32.263419",
     "status": "completed"
    },
    "tags": []
   },
   "source": [
    "#### FE : Test Data"
   ]
  },
  {
   "cell_type": "code",
   "execution_count": 13,
   "id": "6192d145",
   "metadata": {
    "execution": {
     "iopub.execute_input": "2022-06-26T16:19:32.297443Z",
     "iopub.status.busy": "2022-06-26T16:19:32.296788Z",
     "iopub.status.idle": "2022-06-26T16:19:32.479283Z",
     "shell.execute_reply": "2022-06-26T16:19:32.477973Z"
    },
    "papermill": {
     "duration": 0.197212,
     "end_time": "2022-06-26T16:19:32.481967",
     "exception": false,
     "start_time": "2022-06-26T16:19:32.284755",
     "status": "completed"
    },
    "tags": []
   },
   "outputs": [
    {
     "name": "stderr",
     "output_type": "stream",
     "text": [
      "/opt/conda/lib/python3.7/site-packages/fast_ml/feature_engineering.py:382: FutureWarning: Series.dt.weekofyear and Series.dt.week have been deprecated.  Please use Series.dt.isocalendar().week instead.\n",
      "  df[pfx+f] = getattr(df[var].dt, f)\n"
     ]
    },
    {
     "data": {
      "text/html": [
       "<div>\n",
       "<style scoped>\n",
       "    .dataframe tbody tr th:only-of-type {\n",
       "        vertical-align: middle;\n",
       "    }\n",
       "\n",
       "    .dataframe tbody tr th {\n",
       "        vertical-align: top;\n",
       "    }\n",
       "\n",
       "    .dataframe thead th {\n",
       "        text-align: right;\n",
       "    }\n",
       "</style>\n",
       "<table border=\"1\" class=\"dataframe\">\n",
       "  <thead>\n",
       "    <tr style=\"text-align: right;\">\n",
       "      <th></th>\n",
       "      <th>id</th>\n",
       "      <th>metropolitan_area_code</th>\n",
       "      <th>date</th>\n",
       "      <th>date:year</th>\n",
       "      <th>date:quarter</th>\n",
       "      <th>date:month</th>\n",
       "      <th>date:day</th>\n",
       "      <th>date:day_of_week</th>\n",
       "      <th>date:day_of_year</th>\n",
       "      <th>date:weekofyear</th>\n",
       "      <th>...</th>\n",
       "      <th>date:is_quarter_end</th>\n",
       "      <th>date:is_quarter_start</th>\n",
       "      <th>date:is_year_end</th>\n",
       "      <th>date:is_year_start</th>\n",
       "      <th>date:time</th>\n",
       "      <th>date:hour</th>\n",
       "      <th>date:minute</th>\n",
       "      <th>date:second</th>\n",
       "      <th>date:is_weekend</th>\n",
       "      <th>date:day_part</th>\n",
       "    </tr>\n",
       "  </thead>\n",
       "  <tbody>\n",
       "    <tr>\n",
       "      <th>0</th>\n",
       "      <td>0</td>\n",
       "      <td>3</td>\n",
       "      <td>2022-01-01 00:45:00</td>\n",
       "      <td>2022</td>\n",
       "      <td>1</td>\n",
       "      <td>1</td>\n",
       "      <td>1</td>\n",
       "      <td>5</td>\n",
       "      <td>1</td>\n",
       "      <td>52</td>\n",
       "      <td>...</td>\n",
       "      <td>False</td>\n",
       "      <td>True</td>\n",
       "      <td>False</td>\n",
       "      <td>True</td>\n",
       "      <td>00:45:00</td>\n",
       "      <td>0</td>\n",
       "      <td>45</td>\n",
       "      <td>0</td>\n",
       "      <td>1</td>\n",
       "      <td>None</td>\n",
       "    </tr>\n",
       "    <tr>\n",
       "      <th>1</th>\n",
       "      <td>1</td>\n",
       "      <td>3</td>\n",
       "      <td>2022-01-01 01:15:00</td>\n",
       "      <td>2022</td>\n",
       "      <td>1</td>\n",
       "      <td>1</td>\n",
       "      <td>1</td>\n",
       "      <td>5</td>\n",
       "      <td>1</td>\n",
       "      <td>52</td>\n",
       "      <td>...</td>\n",
       "      <td>False</td>\n",
       "      <td>True</td>\n",
       "      <td>False</td>\n",
       "      <td>True</td>\n",
       "      <td>01:15:00</td>\n",
       "      <td>1</td>\n",
       "      <td>15</td>\n",
       "      <td>0</td>\n",
       "      <td>1</td>\n",
       "      <td>midnight</td>\n",
       "    </tr>\n",
       "    <tr>\n",
       "      <th>2</th>\n",
       "      <td>2</td>\n",
       "      <td>3</td>\n",
       "      <td>2022-01-01 01:30:00</td>\n",
       "      <td>2022</td>\n",
       "      <td>1</td>\n",
       "      <td>1</td>\n",
       "      <td>1</td>\n",
       "      <td>5</td>\n",
       "      <td>1</td>\n",
       "      <td>52</td>\n",
       "      <td>...</td>\n",
       "      <td>False</td>\n",
       "      <td>True</td>\n",
       "      <td>False</td>\n",
       "      <td>True</td>\n",
       "      <td>01:30:00</td>\n",
       "      <td>1</td>\n",
       "      <td>30</td>\n",
       "      <td>0</td>\n",
       "      <td>1</td>\n",
       "      <td>midnight</td>\n",
       "    </tr>\n",
       "  </tbody>\n",
       "</table>\n",
       "<p>3 rows × 22 columns</p>\n",
       "</div>"
      ],
      "text/plain": [
       "   id  metropolitan_area_code                date  date:year  date:quarter  \\\n",
       "0   0                       3 2022-01-01 00:45:00       2022             1   \n",
       "1   1                       3 2022-01-01 01:15:00       2022             1   \n",
       "2   2                       3 2022-01-01 01:30:00       2022             1   \n",
       "\n",
       "   date:month  date:day  date:day_of_week  date:day_of_year  date:weekofyear  \\\n",
       "0           1         1                 5                 1               52   \n",
       "1           1         1                 5                 1               52   \n",
       "2           1         1                 5                 1               52   \n",
       "\n",
       "   ...  date:is_quarter_end  date:is_quarter_start  date:is_year_end  \\\n",
       "0  ...                False                   True             False   \n",
       "1  ...                False                   True             False   \n",
       "2  ...                False                   True             False   \n",
       "\n",
       "   date:is_year_start  date:time  date:hour date:minute  date:second  \\\n",
       "0                True   00:45:00          0          45            0   \n",
       "1                True   01:15:00          1          15            0   \n",
       "2                True   01:30:00          1          30            0   \n",
       "\n",
       "   date:is_weekend  date:day_part  \n",
       "0                1           None  \n",
       "1                1       midnight  \n",
       "2                1       midnight  \n",
       "\n",
       "[3 rows x 22 columns]"
      ]
     },
     "execution_count": 13,
     "metadata": {},
     "output_type": "execute_result"
    }
   ],
   "source": [
    "dt_fe.fit(test, datetime_variables=['date'])\n",
    "test = dt_fe.transform(test)\n",
    "\n",
    "test.head(3)"
   ]
  },
  {
   "cell_type": "markdown",
   "id": "e4bbb820",
   "metadata": {
    "papermill": {
     "duration": 0.010426,
     "end_time": "2022-06-26T16:19:32.503156",
     "exception": false,
     "start_time": "2022-06-26T16:19:32.492730",
     "status": "completed"
    },
    "tags": []
   },
   "source": [
    "### Drop unique columns"
   ]
  },
  {
   "cell_type": "code",
   "execution_count": 14,
   "id": "aacca342",
   "metadata": {
    "execution": {
     "iopub.execute_input": "2022-06-26T16:19:32.526490Z",
     "iopub.status.busy": "2022-06-26T16:19:32.526110Z",
     "iopub.status.idle": "2022-06-26T16:19:32.744652Z",
     "shell.execute_reply": "2022-06-26T16:19:32.743517Z"
    },
    "papermill": {
     "duration": 0.23329,
     "end_time": "2022-06-26T16:19:32.747155",
     "exception": false,
     "start_time": "2022-06-26T16:19:32.513865",
     "status": "completed"
    },
    "tags": []
   },
   "outputs": [
    {
     "data": {
      "text/plain": [
       "['date:second']"
      ]
     },
     "execution_count": 14,
     "metadata": {},
     "output_type": "execute_result"
    }
   ],
   "source": [
    "nunique_train=train.nunique().reset_index()\n",
    "remove_col=nunique_train[(nunique_train[0]==len(train)) | (nunique_train[0]==0) | (nunique_train[0]==1) ]['index'].tolist()\n",
    "remove_col"
   ]
  },
  {
   "cell_type": "code",
   "execution_count": 15,
   "id": "8d3c94e6",
   "metadata": {
    "execution": {
     "iopub.execute_input": "2022-06-26T16:19:32.771095Z",
     "iopub.status.busy": "2022-06-26T16:19:32.770711Z",
     "iopub.status.idle": "2022-06-26T16:19:32.945705Z",
     "shell.execute_reply": "2022-06-26T16:19:32.944504Z"
    },
    "papermill": {
     "duration": 0.189716,
     "end_time": "2022-06-26T16:19:32.948088",
     "exception": false,
     "start_time": "2022-06-26T16:19:32.758372",
     "status": "completed"
    },
    "tags": []
   },
   "outputs": [
    {
     "name": "stdout",
     "output_type": "stream",
     "text": [
      "Before : (717414, 22)\n",
      "After : (717414, 21)\n"
     ]
    },
    {
     "data": {
      "text/html": [
       "<div>\n",
       "<style scoped>\n",
       "    .dataframe tbody tr th:only-of-type {\n",
       "        vertical-align: middle;\n",
       "    }\n",
       "\n",
       "    .dataframe tbody tr th {\n",
       "        vertical-align: top;\n",
       "    }\n",
       "\n",
       "    .dataframe thead th {\n",
       "        text-align: right;\n",
       "    }\n",
       "</style>\n",
       "<table border=\"1\" class=\"dataframe\">\n",
       "  <thead>\n",
       "    <tr style=\"text-align: right;\">\n",
       "      <th></th>\n",
       "      <th>metropolitan_area_code</th>\n",
       "      <th>date</th>\n",
       "      <th>energy_consumption</th>\n",
       "      <th>date:year</th>\n",
       "      <th>date:quarter</th>\n",
       "      <th>date:month</th>\n",
       "      <th>date:day</th>\n",
       "      <th>date:day_of_week</th>\n",
       "      <th>date:day_of_year</th>\n",
       "      <th>date:weekofyear</th>\n",
       "      <th>...</th>\n",
       "      <th>date:is_month_start</th>\n",
       "      <th>date:is_quarter_end</th>\n",
       "      <th>date:is_quarter_start</th>\n",
       "      <th>date:is_year_end</th>\n",
       "      <th>date:is_year_start</th>\n",
       "      <th>date:time</th>\n",
       "      <th>date:hour</th>\n",
       "      <th>date:minute</th>\n",
       "      <th>date:is_weekend</th>\n",
       "      <th>date:day_part</th>\n",
       "    </tr>\n",
       "  </thead>\n",
       "  <tbody>\n",
       "    <tr>\n",
       "      <th>0</th>\n",
       "      <td>3</td>\n",
       "      <td>2017-09-11 02:15:00</td>\n",
       "      <td>477.0</td>\n",
       "      <td>2017</td>\n",
       "      <td>3</td>\n",
       "      <td>9</td>\n",
       "      <td>11</td>\n",
       "      <td>0</td>\n",
       "      <td>254</td>\n",
       "      <td>37</td>\n",
       "      <td>...</td>\n",
       "      <td>False</td>\n",
       "      <td>False</td>\n",
       "      <td>False</td>\n",
       "      <td>False</td>\n",
       "      <td>False</td>\n",
       "      <td>02:15:00</td>\n",
       "      <td>2</td>\n",
       "      <td>15</td>\n",
       "      <td>0</td>\n",
       "      <td>midnight</td>\n",
       "    </tr>\n",
       "    <tr>\n",
       "      <th>1</th>\n",
       "      <td>3</td>\n",
       "      <td>2017-09-11 02:30:00</td>\n",
       "      <td>454.0</td>\n",
       "      <td>2017</td>\n",
       "      <td>3</td>\n",
       "      <td>9</td>\n",
       "      <td>11</td>\n",
       "      <td>0</td>\n",
       "      <td>254</td>\n",
       "      <td>37</td>\n",
       "      <td>...</td>\n",
       "      <td>False</td>\n",
       "      <td>False</td>\n",
       "      <td>False</td>\n",
       "      <td>False</td>\n",
       "      <td>False</td>\n",
       "      <td>02:30:00</td>\n",
       "      <td>2</td>\n",
       "      <td>30</td>\n",
       "      <td>0</td>\n",
       "      <td>midnight</td>\n",
       "    </tr>\n",
       "    <tr>\n",
       "      <th>2</th>\n",
       "      <td>3</td>\n",
       "      <td>2017-09-11 03:45:00</td>\n",
       "      <td>398.0</td>\n",
       "      <td>2017</td>\n",
       "      <td>3</td>\n",
       "      <td>9</td>\n",
       "      <td>11</td>\n",
       "      <td>0</td>\n",
       "      <td>254</td>\n",
       "      <td>37</td>\n",
       "      <td>...</td>\n",
       "      <td>False</td>\n",
       "      <td>False</td>\n",
       "      <td>False</td>\n",
       "      <td>False</td>\n",
       "      <td>False</td>\n",
       "      <td>03:45:00</td>\n",
       "      <td>3</td>\n",
       "      <td>45</td>\n",
       "      <td>0</td>\n",
       "      <td>midnight</td>\n",
       "    </tr>\n",
       "  </tbody>\n",
       "</table>\n",
       "<p>3 rows × 21 columns</p>\n",
       "</div>"
      ],
      "text/plain": [
       "   metropolitan_area_code                date  energy_consumption  date:year  \\\n",
       "0                       3 2017-09-11 02:15:00               477.0       2017   \n",
       "1                       3 2017-09-11 02:30:00               454.0       2017   \n",
       "2                       3 2017-09-11 03:45:00               398.0       2017   \n",
       "\n",
       "   date:quarter  date:month  date:day  date:day_of_week  date:day_of_year  \\\n",
       "0             3           9        11                 0               254   \n",
       "1             3           9        11                 0               254   \n",
       "2             3           9        11                 0               254   \n",
       "\n",
       "   date:weekofyear  ...  date:is_month_start  date:is_quarter_end  \\\n",
       "0               37  ...                False                False   \n",
       "1               37  ...                False                False   \n",
       "2               37  ...                False                False   \n",
       "\n",
       "   date:is_quarter_start  date:is_year_end  date:is_year_start  date:time  \\\n",
       "0                  False             False               False   02:15:00   \n",
       "1                  False             False               False   02:30:00   \n",
       "2                  False             False               False   03:45:00   \n",
       "\n",
       "  date:hour  date:minute  date:is_weekend  date:day_part  \n",
       "0         2           15                0       midnight  \n",
       "1         2           30                0       midnight  \n",
       "2         3           45                0       midnight  \n",
       "\n",
       "[3 rows x 21 columns]"
      ]
     },
     "execution_count": 15,
     "metadata": {},
     "output_type": "execute_result"
    }
   ],
   "source": [
    "print(\"Before :\", train.shape)\n",
    "train = train.drop(remove_col,axis=1)\n",
    "print(\"After :\", train.shape)\n",
    "\n",
    "train.head(3)"
   ]
  },
  {
   "cell_type": "code",
   "execution_count": 16,
   "id": "f51a9297",
   "metadata": {
    "execution": {
     "iopub.execute_input": "2022-06-26T16:19:32.973121Z",
     "iopub.status.busy": "2022-06-26T16:19:32.972172Z",
     "iopub.status.idle": "2022-06-26T16:19:33.003679Z",
     "shell.execute_reply": "2022-06-26T16:19:33.002323Z"
    },
    "papermill": {
     "duration": 0.046588,
     "end_time": "2022-06-26T16:19:33.006107",
     "exception": false,
     "start_time": "2022-06-26T16:19:32.959519",
     "status": "completed"
    },
    "tags": []
   },
   "outputs": [
    {
     "name": "stdout",
     "output_type": "stream",
     "text": [
      "Before : (60870, 22)\n",
      "After : (60870, 21)\n"
     ]
    },
    {
     "data": {
      "text/html": [
       "<div>\n",
       "<style scoped>\n",
       "    .dataframe tbody tr th:only-of-type {\n",
       "        vertical-align: middle;\n",
       "    }\n",
       "\n",
       "    .dataframe tbody tr th {\n",
       "        vertical-align: top;\n",
       "    }\n",
       "\n",
       "    .dataframe thead th {\n",
       "        text-align: right;\n",
       "    }\n",
       "</style>\n",
       "<table border=\"1\" class=\"dataframe\">\n",
       "  <thead>\n",
       "    <tr style=\"text-align: right;\">\n",
       "      <th></th>\n",
       "      <th>id</th>\n",
       "      <th>metropolitan_area_code</th>\n",
       "      <th>date</th>\n",
       "      <th>date:year</th>\n",
       "      <th>date:quarter</th>\n",
       "      <th>date:month</th>\n",
       "      <th>date:day</th>\n",
       "      <th>date:day_of_week</th>\n",
       "      <th>date:day_of_year</th>\n",
       "      <th>date:weekofyear</th>\n",
       "      <th>...</th>\n",
       "      <th>date:is_month_start</th>\n",
       "      <th>date:is_quarter_end</th>\n",
       "      <th>date:is_quarter_start</th>\n",
       "      <th>date:is_year_end</th>\n",
       "      <th>date:is_year_start</th>\n",
       "      <th>date:time</th>\n",
       "      <th>date:hour</th>\n",
       "      <th>date:minute</th>\n",
       "      <th>date:is_weekend</th>\n",
       "      <th>date:day_part</th>\n",
       "    </tr>\n",
       "  </thead>\n",
       "  <tbody>\n",
       "    <tr>\n",
       "      <th>0</th>\n",
       "      <td>0</td>\n",
       "      <td>3</td>\n",
       "      <td>2022-01-01 00:45:00</td>\n",
       "      <td>2022</td>\n",
       "      <td>1</td>\n",
       "      <td>1</td>\n",
       "      <td>1</td>\n",
       "      <td>5</td>\n",
       "      <td>1</td>\n",
       "      <td>52</td>\n",
       "      <td>...</td>\n",
       "      <td>True</td>\n",
       "      <td>False</td>\n",
       "      <td>True</td>\n",
       "      <td>False</td>\n",
       "      <td>True</td>\n",
       "      <td>00:45:00</td>\n",
       "      <td>0</td>\n",
       "      <td>45</td>\n",
       "      <td>1</td>\n",
       "      <td>None</td>\n",
       "    </tr>\n",
       "    <tr>\n",
       "      <th>1</th>\n",
       "      <td>1</td>\n",
       "      <td>3</td>\n",
       "      <td>2022-01-01 01:15:00</td>\n",
       "      <td>2022</td>\n",
       "      <td>1</td>\n",
       "      <td>1</td>\n",
       "      <td>1</td>\n",
       "      <td>5</td>\n",
       "      <td>1</td>\n",
       "      <td>52</td>\n",
       "      <td>...</td>\n",
       "      <td>True</td>\n",
       "      <td>False</td>\n",
       "      <td>True</td>\n",
       "      <td>False</td>\n",
       "      <td>True</td>\n",
       "      <td>01:15:00</td>\n",
       "      <td>1</td>\n",
       "      <td>15</td>\n",
       "      <td>1</td>\n",
       "      <td>midnight</td>\n",
       "    </tr>\n",
       "    <tr>\n",
       "      <th>2</th>\n",
       "      <td>2</td>\n",
       "      <td>3</td>\n",
       "      <td>2022-01-01 01:30:00</td>\n",
       "      <td>2022</td>\n",
       "      <td>1</td>\n",
       "      <td>1</td>\n",
       "      <td>1</td>\n",
       "      <td>5</td>\n",
       "      <td>1</td>\n",
       "      <td>52</td>\n",
       "      <td>...</td>\n",
       "      <td>True</td>\n",
       "      <td>False</td>\n",
       "      <td>True</td>\n",
       "      <td>False</td>\n",
       "      <td>True</td>\n",
       "      <td>01:30:00</td>\n",
       "      <td>1</td>\n",
       "      <td>30</td>\n",
       "      <td>1</td>\n",
       "      <td>midnight</td>\n",
       "    </tr>\n",
       "  </tbody>\n",
       "</table>\n",
       "<p>3 rows × 21 columns</p>\n",
       "</div>"
      ],
      "text/plain": [
       "   id  metropolitan_area_code                date  date:year  date:quarter  \\\n",
       "0   0                       3 2022-01-01 00:45:00       2022             1   \n",
       "1   1                       3 2022-01-01 01:15:00       2022             1   \n",
       "2   2                       3 2022-01-01 01:30:00       2022             1   \n",
       "\n",
       "   date:month  date:day  date:day_of_week  date:day_of_year  date:weekofyear  \\\n",
       "0           1         1                 5                 1               52   \n",
       "1           1         1                 5                 1               52   \n",
       "2           1         1                 5                 1               52   \n",
       "\n",
       "   ...  date:is_month_start  date:is_quarter_end  date:is_quarter_start  \\\n",
       "0  ...                 True                False                   True   \n",
       "1  ...                 True                False                   True   \n",
       "2  ...                 True                False                   True   \n",
       "\n",
       "   date:is_year_end  date:is_year_start  date:time date:hour  date:minute  \\\n",
       "0             False                True   00:45:00         0           45   \n",
       "1             False                True   01:15:00         1           15   \n",
       "2             False                True   01:30:00         1           30   \n",
       "\n",
       "   date:is_weekend  date:day_part  \n",
       "0                1           None  \n",
       "1                1       midnight  \n",
       "2                1       midnight  \n",
       "\n",
       "[3 rows x 21 columns]"
      ]
     },
     "execution_count": 16,
     "metadata": {},
     "output_type": "execute_result"
    }
   ],
   "source": [
    "print(\"Before :\", test.shape)\n",
    "test = test.drop(remove_col,axis=1)\n",
    "print(\"After :\", test.shape)\n",
    "\n",
    "test.head(3)"
   ]
  },
  {
   "cell_type": "code",
   "execution_count": 17,
   "id": "6f0c293c",
   "metadata": {
    "execution": {
     "iopub.execute_input": "2022-06-26T16:19:33.031120Z",
     "iopub.status.busy": "2022-06-26T16:19:33.030533Z",
     "iopub.status.idle": "2022-06-26T16:19:33.129669Z",
     "shell.execute_reply": "2022-06-26T16:19:33.128530Z"
    },
    "papermill": {
     "duration": 0.114274,
     "end_time": "2022-06-26T16:19:33.131930",
     "exception": false,
     "start_time": "2022-06-26T16:19:33.017656",
     "status": "completed"
    },
    "tags": []
   },
   "outputs": [
    {
     "name": "stdout",
     "output_type": "stream",
     "text": [
      "<class 'pandas.core.frame.DataFrame'>\n",
      "RangeIndex: 717414 entries, 0 to 717413\n",
      "Data columns (total 21 columns):\n",
      " #   Column                  Non-Null Count   Dtype         \n",
      "---  ------                  --------------   -----         \n",
      " 0   metropolitan_area_code  717414 non-null  int64         \n",
      " 1   date                    717414 non-null  datetime64[ns]\n",
      " 2   energy_consumption      717414 non-null  float64       \n",
      " 3   date:year               717414 non-null  int64         \n",
      " 4   date:quarter            717414 non-null  int64         \n",
      " 5   date:month              717414 non-null  int64         \n",
      " 6   date:day                717414 non-null  int64         \n",
      " 7   date:day_of_week        717414 non-null  int64         \n",
      " 8   date:day_of_year        717414 non-null  int64         \n",
      " 9   date:weekofyear         717414 non-null  int64         \n",
      " 10  date:is_month_end       717414 non-null  bool          \n",
      " 11  date:is_month_start     717414 non-null  bool          \n",
      " 12  date:is_quarter_end     717414 non-null  bool          \n",
      " 13  date:is_quarter_start   717414 non-null  bool          \n",
      " 14  date:is_year_end        717414 non-null  bool          \n",
      " 15  date:is_year_start      717414 non-null  bool          \n",
      " 16  date:time               717414 non-null  object        \n",
      " 17  date:hour               717414 non-null  int64         \n",
      " 18  date:minute             717414 non-null  int64         \n",
      " 19  date:is_weekend         717414 non-null  int64         \n",
      " 20  date:day_part           687180 non-null  object        \n",
      "dtypes: bool(6), datetime64[ns](1), float64(1), int64(11), object(2)\n",
      "memory usage: 86.2+ MB\n"
     ]
    }
   ],
   "source": [
    "train.info()"
   ]
  },
  {
   "cell_type": "code",
   "execution_count": null,
   "id": "43177e74",
   "metadata": {
    "papermill": {
     "duration": 0.012219,
     "end_time": "2022-06-26T16:19:33.156258",
     "exception": false,
     "start_time": "2022-06-26T16:19:33.144039",
     "status": "completed"
    },
    "tags": []
   },
   "outputs": [],
   "source": []
  },
  {
   "cell_type": "code",
   "execution_count": 18,
   "id": "1ba4af76",
   "metadata": {
    "execution": {
     "iopub.execute_input": "2022-06-26T16:19:33.181359Z",
     "iopub.status.busy": "2022-06-26T16:19:33.180951Z",
     "iopub.status.idle": "2022-06-26T16:19:33.244886Z",
     "shell.execute_reply": "2022-06-26T16:19:33.243746Z"
    },
    "papermill": {
     "duration": 0.079214,
     "end_time": "2022-06-26T16:19:33.247021",
     "exception": false,
     "start_time": "2022-06-26T16:19:33.167807",
     "status": "completed"
    },
    "tags": []
   },
   "outputs": [
    {
     "data": {
      "text/html": [
       "<div>\n",
       "<style scoped>\n",
       "    .dataframe tbody tr th:only-of-type {\n",
       "        vertical-align: middle;\n",
       "    }\n",
       "\n",
       "    .dataframe tbody tr th {\n",
       "        vertical-align: top;\n",
       "    }\n",
       "\n",
       "    .dataframe thead th {\n",
       "        text-align: right;\n",
       "    }\n",
       "</style>\n",
       "<table border=\"1\" class=\"dataframe\">\n",
       "  <thead>\n",
       "    <tr style=\"text-align: right;\">\n",
       "      <th></th>\n",
       "      <th>metropolitan_area_code</th>\n",
       "      <th>date</th>\n",
       "      <th>energy_consumption</th>\n",
       "      <th>dateyear</th>\n",
       "      <th>datequarter</th>\n",
       "      <th>datemonth</th>\n",
       "      <th>dateday</th>\n",
       "      <th>dateday_of_week</th>\n",
       "      <th>dateday_of_year</th>\n",
       "      <th>dateweekofyear</th>\n",
       "      <th>...</th>\n",
       "      <th>dateis_month_start</th>\n",
       "      <th>dateis_quarter_end</th>\n",
       "      <th>dateis_quarter_start</th>\n",
       "      <th>dateis_year_end</th>\n",
       "      <th>dateis_year_start</th>\n",
       "      <th>datetime</th>\n",
       "      <th>datehour</th>\n",
       "      <th>dateminute</th>\n",
       "      <th>dateis_weekend</th>\n",
       "      <th>dateday_part</th>\n",
       "    </tr>\n",
       "  </thead>\n",
       "  <tbody>\n",
       "    <tr>\n",
       "      <th>0</th>\n",
       "      <td>3</td>\n",
       "      <td>2017-09-11 02:15:00</td>\n",
       "      <td>477.0</td>\n",
       "      <td>2017</td>\n",
       "      <td>3</td>\n",
       "      <td>9</td>\n",
       "      <td>11</td>\n",
       "      <td>0</td>\n",
       "      <td>254</td>\n",
       "      <td>37</td>\n",
       "      <td>...</td>\n",
       "      <td>False</td>\n",
       "      <td>False</td>\n",
       "      <td>False</td>\n",
       "      <td>False</td>\n",
       "      <td>False</td>\n",
       "      <td>02:15:00</td>\n",
       "      <td>2</td>\n",
       "      <td>15</td>\n",
       "      <td>0</td>\n",
       "      <td>midnight</td>\n",
       "    </tr>\n",
       "    <tr>\n",
       "      <th>1</th>\n",
       "      <td>3</td>\n",
       "      <td>2017-09-11 02:30:00</td>\n",
       "      <td>454.0</td>\n",
       "      <td>2017</td>\n",
       "      <td>3</td>\n",
       "      <td>9</td>\n",
       "      <td>11</td>\n",
       "      <td>0</td>\n",
       "      <td>254</td>\n",
       "      <td>37</td>\n",
       "      <td>...</td>\n",
       "      <td>False</td>\n",
       "      <td>False</td>\n",
       "      <td>False</td>\n",
       "      <td>False</td>\n",
       "      <td>False</td>\n",
       "      <td>02:30:00</td>\n",
       "      <td>2</td>\n",
       "      <td>30</td>\n",
       "      <td>0</td>\n",
       "      <td>midnight</td>\n",
       "    </tr>\n",
       "    <tr>\n",
       "      <th>2</th>\n",
       "      <td>3</td>\n",
       "      <td>2017-09-11 03:45:00</td>\n",
       "      <td>398.0</td>\n",
       "      <td>2017</td>\n",
       "      <td>3</td>\n",
       "      <td>9</td>\n",
       "      <td>11</td>\n",
       "      <td>0</td>\n",
       "      <td>254</td>\n",
       "      <td>37</td>\n",
       "      <td>...</td>\n",
       "      <td>False</td>\n",
       "      <td>False</td>\n",
       "      <td>False</td>\n",
       "      <td>False</td>\n",
       "      <td>False</td>\n",
       "      <td>03:45:00</td>\n",
       "      <td>3</td>\n",
       "      <td>45</td>\n",
       "      <td>0</td>\n",
       "      <td>midnight</td>\n",
       "    </tr>\n",
       "  </tbody>\n",
       "</table>\n",
       "<p>3 rows × 21 columns</p>\n",
       "</div>"
      ],
      "text/plain": [
       "   metropolitan_area_code                date  energy_consumption  dateyear  \\\n",
       "0                       3 2017-09-11 02:15:00               477.0      2017   \n",
       "1                       3 2017-09-11 02:30:00               454.0      2017   \n",
       "2                       3 2017-09-11 03:45:00               398.0      2017   \n",
       "\n",
       "   datequarter  datemonth  dateday  dateday_of_week  dateday_of_year  \\\n",
       "0            3          9       11                0              254   \n",
       "1            3          9       11                0              254   \n",
       "2            3          9       11                0              254   \n",
       "\n",
       "   dateweekofyear  ...  dateis_month_start  dateis_quarter_end  \\\n",
       "0              37  ...               False               False   \n",
       "1              37  ...               False               False   \n",
       "2              37  ...               False               False   \n",
       "\n",
       "   dateis_quarter_start  dateis_year_end  dateis_year_start  datetime  \\\n",
       "0                 False            False              False  02:15:00   \n",
       "1                 False            False              False  02:30:00   \n",
       "2                 False            False              False  03:45:00   \n",
       "\n",
       "  datehour  dateminute  dateis_weekend  dateday_part  \n",
       "0        2          15               0      midnight  \n",
       "1        2          30               0      midnight  \n",
       "2        3          45               0      midnight  \n",
       "\n",
       "[3 rows x 21 columns]"
      ]
     },
     "execution_count": 18,
     "metadata": {},
     "output_type": "execute_result"
    }
   ],
   "source": [
    "import re\n",
    "\n",
    "train = train.rename(columns = lambda x:re.sub('[^A-Za-z0-9_]+', '', x))\n",
    "test = test.rename(columns = lambda x:re.sub('[^A-Za-z0-9_]+', '', x))\n",
    "\n",
    "train.head(3)"
   ]
  },
  {
   "cell_type": "code",
   "execution_count": 19,
   "id": "f989372c",
   "metadata": {
    "execution": {
     "iopub.execute_input": "2022-06-26T16:19:33.272526Z",
     "iopub.status.busy": "2022-06-26T16:19:33.272117Z",
     "iopub.status.idle": "2022-06-26T16:19:33.709990Z",
     "shell.execute_reply": "2022-06-26T16:19:33.709017Z"
    },
    "papermill": {
     "duration": 0.453585,
     "end_time": "2022-06-26T16:19:33.712435",
     "exception": false,
     "start_time": "2022-06-26T16:19:33.258850",
     "status": "completed"
    },
    "tags": []
   },
   "outputs": [],
   "source": [
    "bool_cols = [col for col in train.columns if train[col].dtypes == 'bool']\n",
    "\n",
    "for col in bool_cols:\n",
    "    train[col] = train[col].map({1:True, 0:False})\n",
    "    test[col] = test[col].map({1:True, 0:False})"
   ]
  },
  {
   "cell_type": "code",
   "execution_count": 20,
   "id": "7e1ba2e1",
   "metadata": {
    "execution": {
     "iopub.execute_input": "2022-06-26T16:19:33.738270Z",
     "iopub.status.busy": "2022-06-26T16:19:33.737541Z",
     "iopub.status.idle": "2022-06-26T16:19:33.765296Z",
     "shell.execute_reply": "2022-06-26T16:19:33.764265Z"
    },
    "papermill": {
     "duration": 0.042754,
     "end_time": "2022-06-26T16:19:33.767491",
     "exception": false,
     "start_time": "2022-06-26T16:19:33.724737",
     "status": "completed"
    },
    "tags": []
   },
   "outputs": [
    {
     "data": {
      "text/plain": [
       "id                            0\n",
       "metropolitan_area_code        0\n",
       "date                          0\n",
       "dateyear                      0\n",
       "datequarter                   0\n",
       "datemonth                     0\n",
       "dateday                       0\n",
       "dateday_of_week               0\n",
       "dateday_of_year               0\n",
       "dateweekofyear                0\n",
       "dateis_month_end          60870\n",
       "dateis_month_start        60870\n",
       "dateis_quarter_end        60870\n",
       "dateis_quarter_start      60870\n",
       "dateis_year_end           60870\n",
       "dateis_year_start         60870\n",
       "datetime                      0\n",
       "datehour                      0\n",
       "dateminute                    0\n",
       "dateis_weekend                0\n",
       "dateday_part               2505\n",
       "dtype: int64"
      ]
     },
     "execution_count": 20,
     "metadata": {},
     "output_type": "execute_result"
    }
   ],
   "source": [
    "test.isna().sum()"
   ]
  },
  {
   "cell_type": "code",
   "execution_count": 21,
   "id": "d6b700ba",
   "metadata": {
    "execution": {
     "iopub.execute_input": "2022-06-26T16:19:33.793108Z",
     "iopub.status.busy": "2022-06-26T16:19:33.792545Z",
     "iopub.status.idle": "2022-06-26T16:19:34.000895Z",
     "shell.execute_reply": "2022-06-26T16:19:33.999800Z"
    },
    "papermill": {
     "duration": 0.223815,
     "end_time": "2022-06-26T16:19:34.003227",
     "exception": false,
     "start_time": "2022-06-26T16:19:33.779412",
     "status": "completed"
    },
    "tags": []
   },
   "outputs": [
    {
     "data": {
      "text/plain": [
       "metropolitan_area_code         0\n",
       "date                           0\n",
       "energy_consumption             0\n",
       "dateyear                       0\n",
       "datequarter                    0\n",
       "datemonth                      0\n",
       "dateday                        0\n",
       "dateday_of_week                0\n",
       "dateday_of_year                0\n",
       "dateweekofyear                 0\n",
       "dateis_month_end          717414\n",
       "dateis_month_start        717414\n",
       "dateis_quarter_end        717414\n",
       "dateis_quarter_start      717414\n",
       "dateis_year_end           717414\n",
       "dateis_year_start         717414\n",
       "datetime                       0\n",
       "datehour                       0\n",
       "dateminute                     0\n",
       "dateis_weekend                 0\n",
       "dateday_part               30234\n",
       "dtype: int64"
      ]
     },
     "execution_count": 21,
     "metadata": {},
     "output_type": "execute_result"
    }
   ],
   "source": [
    "train.isna().sum()"
   ]
  },
  {
   "cell_type": "code",
   "execution_count": 22,
   "id": "5f70a548",
   "metadata": {
    "execution": {
     "iopub.execute_input": "2022-06-26T16:19:34.028861Z",
     "iopub.status.busy": "2022-06-26T16:19:34.028480Z",
     "iopub.status.idle": "2022-06-26T16:19:34.266634Z",
     "shell.execute_reply": "2022-06-26T16:19:34.265512Z"
    },
    "papermill": {
     "duration": 0.253685,
     "end_time": "2022-06-26T16:19:34.269034",
     "exception": false,
     "start_time": "2022-06-26T16:19:34.015349",
     "status": "completed"
    },
    "tags": []
   },
   "outputs": [
    {
     "data": {
      "text/plain": [
       "((717414, 12), (60870, 12))"
      ]
     },
     "execution_count": 22,
     "metadata": {},
     "output_type": "execute_result"
    }
   ],
   "source": [
    "drop_cols = ['dateis_month_end','dateis_month_start','dateis_quarter_end','dateis_quarter_start',\n",
    "            'dateis_year_end','dateis_year_start','dateday_part','datetime','date']\n",
    "\n",
    "train = train.drop(drop_cols, axis=1)\n",
    "test = test.drop(drop_cols, axis=1)\n",
    "\n",
    "train.shape, test.shape"
   ]
  },
  {
   "cell_type": "code",
   "execution_count": 23,
   "id": "957e7de7",
   "metadata": {
    "execution": {
     "iopub.execute_input": "2022-06-26T16:19:34.295361Z",
     "iopub.status.busy": "2022-06-26T16:19:34.294508Z",
     "iopub.status.idle": "2022-06-26T16:19:34.300644Z",
     "shell.execute_reply": "2022-06-26T16:19:34.299656Z"
    },
    "papermill": {
     "duration": 0.021763,
     "end_time": "2022-06-26T16:19:34.302914",
     "exception": false,
     "start_time": "2022-06-26T16:19:34.281151",
     "status": "completed"
    },
    "tags": []
   },
   "outputs": [],
   "source": [
    "test = test.drop(['id'],axis=1)\n",
    "\n",
    "#train.shape, test.shape"
   ]
  },
  {
   "cell_type": "code",
   "execution_count": 24,
   "id": "10fc1408",
   "metadata": {
    "execution": {
     "iopub.execute_input": "2022-06-26T16:19:34.329163Z",
     "iopub.status.busy": "2022-06-26T16:19:34.328449Z",
     "iopub.status.idle": "2022-06-26T16:19:34.354591Z",
     "shell.execute_reply": "2022-06-26T16:19:34.353434Z"
    },
    "papermill": {
     "duration": 0.041901,
     "end_time": "2022-06-26T16:19:34.356947",
     "exception": false,
     "start_time": "2022-06-26T16:19:34.315046",
     "status": "completed"
    },
    "tags": []
   },
   "outputs": [
    {
     "name": "stdout",
     "output_type": "stream",
     "text": [
      "<class 'pandas.core.frame.DataFrame'>\n",
      "RangeIndex: 717414 entries, 0 to 717413\n",
      "Data columns (total 12 columns):\n",
      " #   Column                  Non-Null Count   Dtype  \n",
      "---  ------                  --------------   -----  \n",
      " 0   metropolitan_area_code  717414 non-null  int64  \n",
      " 1   energy_consumption      717414 non-null  float64\n",
      " 2   dateyear                717414 non-null  int64  \n",
      " 3   datequarter             717414 non-null  int64  \n",
      " 4   datemonth               717414 non-null  int64  \n",
      " 5   dateday                 717414 non-null  int64  \n",
      " 6   dateday_of_week         717414 non-null  int64  \n",
      " 7   dateday_of_year         717414 non-null  int64  \n",
      " 8   dateweekofyear          717414 non-null  int64  \n",
      " 9   datehour                717414 non-null  int64  \n",
      " 10  dateminute              717414 non-null  int64  \n",
      " 11  dateis_weekend          717414 non-null  int64  \n",
      "dtypes: float64(1), int64(11)\n",
      "memory usage: 65.7 MB\n"
     ]
    }
   ],
   "source": [
    "train.info()"
   ]
  },
  {
   "cell_type": "code",
   "execution_count": 25,
   "id": "2251566c",
   "metadata": {
    "execution": {
     "iopub.execute_input": "2022-06-26T16:19:34.383630Z",
     "iopub.status.busy": "2022-06-26T16:19:34.382946Z",
     "iopub.status.idle": "2022-06-26T16:19:34.394466Z",
     "shell.execute_reply": "2022-06-26T16:19:34.393586Z"
    },
    "papermill": {
     "duration": 0.026865,
     "end_time": "2022-06-26T16:19:34.396404",
     "exception": false,
     "start_time": "2022-06-26T16:19:34.369539",
     "status": "completed"
    },
    "tags": []
   },
   "outputs": [
    {
     "data": {
      "text/html": [
       "<div>\n",
       "<style scoped>\n",
       "    .dataframe tbody tr th:only-of-type {\n",
       "        vertical-align: middle;\n",
       "    }\n",
       "\n",
       "    .dataframe tbody tr th {\n",
       "        vertical-align: top;\n",
       "    }\n",
       "\n",
       "    .dataframe thead th {\n",
       "        text-align: right;\n",
       "    }\n",
       "</style>\n",
       "<table border=\"1\" class=\"dataframe\">\n",
       "  <thead>\n",
       "    <tr style=\"text-align: right;\">\n",
       "      <th></th>\n",
       "      <th>metropolitan_area_code</th>\n",
       "      <th>dateyear</th>\n",
       "      <th>datequarter</th>\n",
       "      <th>datemonth</th>\n",
       "      <th>dateday</th>\n",
       "      <th>dateday_of_week</th>\n",
       "      <th>dateday_of_year</th>\n",
       "      <th>dateweekofyear</th>\n",
       "      <th>datehour</th>\n",
       "      <th>dateminute</th>\n",
       "      <th>dateis_weekend</th>\n",
       "    </tr>\n",
       "  </thead>\n",
       "  <tbody>\n",
       "    <tr>\n",
       "      <th>0</th>\n",
       "      <td>3</td>\n",
       "      <td>2022</td>\n",
       "      <td>1</td>\n",
       "      <td>1</td>\n",
       "      <td>1</td>\n",
       "      <td>5</td>\n",
       "      <td>1</td>\n",
       "      <td>52</td>\n",
       "      <td>0</td>\n",
       "      <td>45</td>\n",
       "      <td>1</td>\n",
       "    </tr>\n",
       "    <tr>\n",
       "      <th>1</th>\n",
       "      <td>3</td>\n",
       "      <td>2022</td>\n",
       "      <td>1</td>\n",
       "      <td>1</td>\n",
       "      <td>1</td>\n",
       "      <td>5</td>\n",
       "      <td>1</td>\n",
       "      <td>52</td>\n",
       "      <td>1</td>\n",
       "      <td>15</td>\n",
       "      <td>1</td>\n",
       "    </tr>\n",
       "    <tr>\n",
       "      <th>2</th>\n",
       "      <td>3</td>\n",
       "      <td>2022</td>\n",
       "      <td>1</td>\n",
       "      <td>1</td>\n",
       "      <td>1</td>\n",
       "      <td>5</td>\n",
       "      <td>1</td>\n",
       "      <td>52</td>\n",
       "      <td>1</td>\n",
       "      <td>30</td>\n",
       "      <td>1</td>\n",
       "    </tr>\n",
       "    <tr>\n",
       "      <th>3</th>\n",
       "      <td>3</td>\n",
       "      <td>2022</td>\n",
       "      <td>1</td>\n",
       "      <td>1</td>\n",
       "      <td>1</td>\n",
       "      <td>5</td>\n",
       "      <td>1</td>\n",
       "      <td>52</td>\n",
       "      <td>2</td>\n",
       "      <td>0</td>\n",
       "      <td>1</td>\n",
       "    </tr>\n",
       "    <tr>\n",
       "      <th>4</th>\n",
       "      <td>3</td>\n",
       "      <td>2022</td>\n",
       "      <td>1</td>\n",
       "      <td>1</td>\n",
       "      <td>1</td>\n",
       "      <td>5</td>\n",
       "      <td>1</td>\n",
       "      <td>52</td>\n",
       "      <td>2</td>\n",
       "      <td>15</td>\n",
       "      <td>1</td>\n",
       "    </tr>\n",
       "  </tbody>\n",
       "</table>\n",
       "</div>"
      ],
      "text/plain": [
       "   metropolitan_area_code  dateyear  datequarter  datemonth  dateday  \\\n",
       "0                       3      2022            1          1        1   \n",
       "1                       3      2022            1          1        1   \n",
       "2                       3      2022            1          1        1   \n",
       "3                       3      2022            1          1        1   \n",
       "4                       3      2022            1          1        1   \n",
       "\n",
       "   dateday_of_week  dateday_of_year  dateweekofyear  datehour  dateminute  \\\n",
       "0                5                1              52         0          45   \n",
       "1                5                1              52         1          15   \n",
       "2                5                1              52         1          30   \n",
       "3                5                1              52         2           0   \n",
       "4                5                1              52         2          15   \n",
       "\n",
       "   dateis_weekend  \n",
       "0               1  \n",
       "1               1  \n",
       "2               1  \n",
       "3               1  \n",
       "4               1  "
      ]
     },
     "execution_count": 25,
     "metadata": {},
     "output_type": "execute_result"
    }
   ],
   "source": [
    "test.head(5)"
   ]
  },
  {
   "cell_type": "markdown",
   "id": "c85576ba",
   "metadata": {
    "papermill": {
     "duration": 0.012007,
     "end_time": "2022-06-26T16:19:34.420742",
     "exception": false,
     "start_time": "2022-06-26T16:19:34.408735",
     "status": "completed"
    },
    "tags": []
   },
   "source": [
    "# Splitting Data"
   ]
  },
  {
   "cell_type": "code",
   "execution_count": 26,
   "id": "a7b4e29e",
   "metadata": {
    "execution": {
     "iopub.execute_input": "2022-06-26T16:19:34.447125Z",
     "iopub.status.busy": "2022-06-26T16:19:34.446427Z",
     "iopub.status.idle": "2022-06-26T16:19:34.480461Z",
     "shell.execute_reply": "2022-06-26T16:19:34.479437Z"
    },
    "papermill": {
     "duration": 0.049862,
     "end_time": "2022-06-26T16:19:34.482707",
     "exception": false,
     "start_time": "2022-06-26T16:19:34.432845",
     "status": "completed"
    },
    "tags": []
   },
   "outputs": [],
   "source": [
    "X = train.copy()\n",
    "y = X.pop('energy_consumption')"
   ]
  },
  {
   "cell_type": "code",
   "execution_count": 27,
   "id": "3d648876",
   "metadata": {
    "execution": {
     "iopub.execute_input": "2022-06-26T16:19:34.510150Z",
     "iopub.status.busy": "2022-06-26T16:19:34.509522Z",
     "iopub.status.idle": "2022-06-26T16:19:36.540211Z",
     "shell.execute_reply": "2022-06-26T16:19:36.539245Z"
    },
    "papermill": {
     "duration": 2.047636,
     "end_time": "2022-06-26T16:19:36.542785",
     "exception": false,
     "start_time": "2022-06-26T16:19:34.495149",
     "status": "completed"
    },
    "tags": []
   },
   "outputs": [],
   "source": [
    "# Save data\n",
    "train.to_csv(\"rte_train_preprocessing.csv\", index=False)\n",
    "test.to_csv(\"rte_test_preprocessing.csv\", index=False)"
   ]
  },
  {
   "cell_type": "code",
   "execution_count": 28,
   "id": "3b955193",
   "metadata": {
    "execution": {
     "iopub.execute_input": "2022-06-26T16:19:36.569780Z",
     "iopub.status.busy": "2022-06-26T16:19:36.569037Z",
     "iopub.status.idle": "2022-06-26T16:19:37.853429Z",
     "shell.execute_reply": "2022-06-26T16:19:37.852274Z"
    },
    "papermill": {
     "duration": 1.30016,
     "end_time": "2022-06-26T16:19:37.855513",
     "exception": false,
     "start_time": "2022-06-26T16:19:36.555353",
     "status": "completed"
    },
    "tags": []
   },
   "outputs": [
    {
     "data": {
      "text/plain": [
       "((717055, 11), (359, 11), (359,), (717055,))"
      ]
     },
     "execution_count": 28,
     "metadata": {},
     "output_type": "execute_result"
    }
   ],
   "source": [
    "from sklearn.model_selection import train_test_split\n",
    "X_train, X_test, y_train, y_test = train_test_split( X, y, test_size=0.0005, random_state=42, shuffle=True)\n",
    "\n",
    "X_train.shape, X_test.shape, y_test.shape, y_train.shape"
   ]
  },
  {
   "cell_type": "markdown",
   "id": "7f258806",
   "metadata": {
    "papermill": {
     "duration": 0.012339,
     "end_time": "2022-06-26T16:19:37.880446",
     "exception": false,
     "start_time": "2022-06-26T16:19:37.868107",
     "status": "completed"
    },
    "tags": []
   },
   "source": [
    "# Modeling : EvalML"
   ]
  },
  {
   "cell_type": "code",
   "execution_count": 29,
   "id": "17bf3b73",
   "metadata": {
    "_kg_hide-output": true,
    "execution": {
     "iopub.execute_input": "2022-06-26T16:19:37.908682Z",
     "iopub.status.busy": "2022-06-26T16:19:37.907574Z",
     "iopub.status.idle": "2022-06-26T16:20:59.212920Z",
     "shell.execute_reply": "2022-06-26T16:20:59.210723Z"
    },
    "papermill": {
     "duration": 81.322993,
     "end_time": "2022-06-26T16:20:59.216613",
     "exception": false,
     "start_time": "2022-06-26T16:19:37.893620",
     "status": "completed"
    },
    "tags": []
   },
   "outputs": [
    {
     "name": "stdout",
     "output_type": "stream",
     "text": [
      "\u001b[31mERROR: pip's dependency resolver does not currently take into account all the packages that are installed. This behaviour is the source of the following dependency conflicts.\r\n",
      "beatrix-jupyterlab 3.1.7 requires google-cloud-bigquery-storage, which is not installed.\r\n",
      "tfx-bsl 1.8.0 requires google-api-python-client<2,>=1.7.11, but you have google-api-python-client 2.48.0 which is incompatible.\r\n",
      "tfx-bsl 1.8.0 requires pyarrow<6,>=1, but you have pyarrow 8.0.0 which is incompatible.\r\n",
      "tfx-bsl 1.8.0 requires tensorflow!=2.0.*,!=2.1.*,!=2.2.*,!=2.3.*,!=2.4.*,!=2.5.*,!=2.6.*,!=2.7.*,<3,>=1.15.5, but you have tensorflow 2.6.4 which is incompatible.\r\n",
      "tensorflow-transform 1.8.0 requires pyarrow<6,>=1, but you have pyarrow 8.0.0 which is incompatible.\r\n",
      "tensorflow-transform 1.8.0 requires tensorflow!=2.0.*,!=2.1.*,!=2.2.*,!=2.3.*,!=2.4.*,!=2.5.*,!=2.6.*,!=2.7.*,<2.9,>=1.15.5, but you have tensorflow 2.6.4 which is incompatible.\r\n",
      "preprocessing 0.1.13 requires nltk==3.2.4, but you have nltk 3.7 which is incompatible.\r\n",
      "pdpbox 0.2.1 requires matplotlib==3.1.1, but you have matplotlib 3.5.2 which is incompatible.\r\n",
      "mxnet 1.9.1 requires graphviz<0.9.0,>=0.8.1, but you have graphviz 0.20 which is incompatible.\r\n",
      "ibis-framework 2.1.1 requires pandas<2,>=1.2.5, but you have pandas 1.2.4 which is incompatible.\u001b[0m\u001b[31m\r\n",
      "\u001b[0m\u001b[33mWARNING: Running pip as the 'root' user can result in broken permissions and conflicting behaviour with the system package manager. It is recommended to use a virtual environment instead: https://pip.pypa.io/warnings/venv\u001b[0m\u001b[33m\r\n",
      "\u001b[0m"
     ]
    }
   ],
   "source": [
    "!python3 -m pip install -q evalml==0.28.0"
   ]
  },
  {
   "cell_type": "code",
   "execution_count": 30,
   "id": "d1057e18",
   "metadata": {
    "_kg_hide-output": true,
    "execution": {
     "iopub.execute_input": "2022-06-26T16:20:59.245564Z",
     "iopub.status.busy": "2022-06-26T16:20:59.245060Z",
     "iopub.status.idle": "2022-06-26T17:33:31.481680Z",
     "shell.execute_reply": "2022-06-26T17:33:31.480031Z"
    },
    "papermill": {
     "duration": 4352.270907,
     "end_time": "2022-06-26T17:33:31.500484",
     "exception": false,
     "start_time": "2022-06-26T16:20:59.229577",
     "status": "completed"
    },
    "tags": []
   },
   "outputs": [
    {
     "name": "stdout",
     "output_type": "stream",
     "text": [
      "Generating pipelines to search over...\n"
     ]
    },
    {
     "data": {
      "text/html": [
       "<style type='text/css'>\n",
       ".datatable table.frame { margin-bottom: 0; }\n",
       ".datatable table.frame thead { border-bottom: none; }\n",
       ".datatable table.frame tr.coltypes td {  color: #FFFFFF;  line-height: 6px;  padding: 0 0.5em;}\n",
       ".datatable .bool    { background: #DDDD99; }\n",
       ".datatable .object  { background: #565656; }\n",
       ".datatable .int     { background: #5D9E5D; }\n",
       ".datatable .float   { background: #4040CC; }\n",
       ".datatable .str     { background: #CC4040; }\n",
       ".datatable .time    { background: #40CC40; }\n",
       ".datatable .row_index {  background: var(--jp-border-color3);  border-right: 1px solid var(--jp-border-color0);  color: var(--jp-ui-font-color3);  font-size: 9px;}\n",
       ".datatable .frame tbody td { text-align: left; }\n",
       ".datatable .frame tr.coltypes .row_index {  background: var(--jp-border-color0);}\n",
       ".datatable th:nth-child(2) { padding-left: 12px; }\n",
       ".datatable .hellipsis {  color: var(--jp-cell-editor-border-color);}\n",
       ".datatable .vellipsis {  background: var(--jp-layout-color0);  color: var(--jp-cell-editor-border-color);}\n",
       ".datatable .na {  color: var(--jp-cell-editor-border-color);  font-size: 80%;}\n",
       ".datatable .sp {  opacity: 0.25;}\n",
       ".datatable .footer { font-size: 9px; }\n",
       ".datatable .frame_dimensions {  background: var(--jp-border-color3);  border-top: 1px solid var(--jp-border-color0);  color: var(--jp-ui-font-color3);  display: inline-block;  opacity: 0.6;  padding: 1px 10px 1px 5px;}\n",
       "</style>\n"
      ],
      "text/plain": [
       "<IPython.core.display.HTML object>"
      ]
     },
     "metadata": {},
     "output_type": "display_data"
    },
    {
     "name": "stdout",
     "output_type": "stream",
     "text": [
      "8 pipelines ready for search.\n",
      "\n",
      "*****************************\n",
      "* Beginning pipeline search *\n",
      "*****************************\n",
      "\n",
      "Optimizing for R2. \n",
      "Greater score is better.\n",
      "\n",
      "Using SequentialEngine to train and score pipelines.\n",
      "Will stop searching for new pipelines after 3200 seconds.\n",
      "\n",
      "Allowed model families: xgboost, random_forest, linear_model, extra_trees, lightgbm, catboost, decision_tree\n",
      "\n"
     ]
    },
    {
     "data": {
      "application/vnd.jupyter.widget-view+json": {
       "model_id": "a772a613a98c4d6a99105b31044e1469",
       "version_major": 2,
       "version_minor": 0
      },
      "text/plain": [
       "FigureWidget({\n",
       "    'data': [{'mode': 'lines+markers',\n",
       "              'name': 'Best Score',\n",
       "              'type'…"
      ]
     },
     "metadata": {},
     "output_type": "display_data"
    },
    {
     "name": "stdout",
     "output_type": "stream",
     "text": [
      "Evaluating Baseline Pipeline: Mean Baseline Regression Pipeline\n",
      "Mean Baseline Regression Pipeline:\n",
      "\tStarting cross validation\n",
      "\tFinished cross validation - mean R2: -0.000\n",
      "\n",
      "*****************************\n",
      "* Evaluating Batch Number 1 *\n",
      "*****************************\n",
      "\n",
      "Linear Regressor w/ Imputer + Standard Scaler:\n",
      "\tStarting cross validation\n",
      "\tFinished cross validation - mean R2: 0.433\n",
      "Decision Tree Regressor w/ Imputer:\n",
      "\tStarting cross validation\n",
      "\tFinished cross validation - mean R2: 0.976\n",
      "Random Forest Regressor w/ Imputer:\n",
      "\tStarting cross validation\n",
      "\tFinished cross validation - mean R2: 0.978\n",
      "LightGBM Regressor w/ Imputer:\n",
      "\tStarting cross validation\n",
      "\tFinished cross validation - mean R2: 0.967\n"
     ]
    },
    {
     "name": "stderr",
     "output_type": "stream",
     "text": [
      "/opt/conda/lib/python3.7/site-packages/sklearn/linear_model/_coordinate_descent.py:648: ConvergenceWarning:\n",
      "\n",
      "Objective did not converge. You might want to increase the number of iterations, check the scale of the features or consider increasing regularisation. Duality gap: 6.625e+10, tolerance: 2.319e+07\n",
      "\n"
     ]
    },
    {
     "name": "stdout",
     "output_type": "stream",
     "text": [
      "Elastic Net Regressor w/ Imputer + Standard Scaler:\n",
      "\tStarting cross validation\n",
      "\tFinished cross validation - mean R2: 0.431\n",
      "XGBoost Regressor w/ Imputer:\n",
      "\tStarting cross validation\n",
      "\tFinished cross validation - mean R2: 0.994\n",
      "Extra Trees Regressor w/ Imputer:\n",
      "\tStarting cross validation\n",
      "\tFinished cross validation - mean R2: 0.960\n",
      "CatBoost Regressor w/ Imputer:\n",
      "\tStarting cross validation\n",
      "\tFinished cross validation - mean R2: 0.430\n",
      "\n",
      "*****************************\n",
      "* Evaluating Batch Number 2 *\n",
      "*****************************\n",
      "\n",
      "XGBoost Regressor w/ Imputer:\n",
      "\tStarting cross validation\n",
      "\tFinished cross validation - mean R2: 0.998\n",
      "XGBoost Regressor w/ Imputer:\n",
      "\tStarting cross validation\n",
      "\tFinished cross validation - mean R2: 0.998\n",
      "XGBoost Regressor w/ Imputer:\n",
      "\tStarting cross validation\n",
      "\tFinished cross validation - mean R2: 0.997\n",
      "XGBoost Regressor w/ Imputer:\n",
      "\tStarting cross validation\n",
      "\tFinished cross validation - mean R2: 0.997\n",
      "XGBoost Regressor w/ Imputer:\n",
      "\tStarting cross validation\n",
      "\tFinished cross validation - mean R2: 0.999\n",
      "\n",
      "*****************************\n",
      "* Evaluating Batch Number 3 *\n",
      "*****************************\n",
      "\n",
      "Random Forest Regressor w/ Imputer:\n",
      "\tStarting cross validation\n",
      "\tFinished cross validation - mean R2: 0.964\n",
      "Random Forest Regressor w/ Imputer:\n",
      "\tStarting cross validation\n",
      "\tFinished cross validation - mean R2: 0.997\n",
      "Random Forest Regressor w/ Imputer:\n",
      "\tStarting cross validation\n",
      "\tFinished cross validation - mean R2: 0.990\n",
      "Random Forest Regressor w/ Imputer:\n",
      "\tStarting cross validation\n",
      "\tFinished cross validation - mean R2: 0.997\n",
      "Random Forest Regressor w/ Imputer:\n",
      "\tStarting cross validation\n",
      "\tFinished cross validation - mean R2: 0.972\n",
      "\n",
      "*****************************\n",
      "* Evaluating Batch Number 4 *\n",
      "*****************************\n",
      "\n",
      "Decision Tree Regressor w/ Imputer:\n",
      "\tStarting cross validation\n",
      "\tFinished cross validation - mean R2: 0.950\n",
      "Decision Tree Regressor w/ Imputer:\n",
      "\tStarting cross validation\n",
      "\tFinished cross validation - mean R2: 0.937\n",
      "Decision Tree Regressor w/ Imputer:\n",
      "\tStarting cross validation\n",
      "\tFinished cross validation - mean R2: 0.967\n",
      "Decision Tree Regressor w/ Imputer:\n",
      "\tStarting cross validation\n",
      "\tFinished cross validation - mean R2: 0.962\n",
      "Decision Tree Regressor w/ Imputer:\n",
      "\tStarting cross validation\n",
      "\tFinished cross validation - mean R2: 0.957\n",
      "\n",
      "Search finished after 57:20            \n",
      "Best pipeline: XGBoost Regressor w/ Imputer\n",
      "Best pipeline R2: 0.998621\n"
     ]
    }
   ],
   "source": [
    "from evalml.automl import AutoMLSearch\n",
    "\n",
    "# run model\n",
    "model_evalml = AutoMLSearch(X_train=X_train, y_train=y_train, problem_type='regression', max_time=3200) # 60 minutes\n",
    "model_evalml.search()"
   ]
  },
  {
   "cell_type": "code",
   "execution_count": 31,
   "id": "bdb3f464",
   "metadata": {
    "execution": {
     "iopub.execute_input": "2022-06-26T17:33:31.538628Z",
     "iopub.status.busy": "2022-06-26T17:33:31.538173Z",
     "iopub.status.idle": "2022-06-26T17:33:31.569267Z",
     "shell.execute_reply": "2022-06-26T17:33:31.567975Z"
    },
    "papermill": {
     "duration": 0.053404,
     "end_time": "2022-06-26T17:33:31.571724",
     "exception": false,
     "start_time": "2022-06-26T17:33:31.518320",
     "status": "completed"
    },
    "tags": []
   },
   "outputs": [
    {
     "data": {
      "text/html": [
       "<div>\n",
       "<style scoped>\n",
       "    .dataframe tbody tr th:only-of-type {\n",
       "        vertical-align: middle;\n",
       "    }\n",
       "\n",
       "    .dataframe tbody tr th {\n",
       "        vertical-align: top;\n",
       "    }\n",
       "\n",
       "    .dataframe thead th {\n",
       "        text-align: right;\n",
       "    }\n",
       "</style>\n",
       "<table border=\"1\" class=\"dataframe\">\n",
       "  <thead>\n",
       "    <tr style=\"text-align: right;\">\n",
       "      <th></th>\n",
       "      <th>id</th>\n",
       "      <th>pipeline_name</th>\n",
       "      <th>search_order</th>\n",
       "      <th>mean_cv_score</th>\n",
       "      <th>standard_deviation_cv_score</th>\n",
       "      <th>validation_score</th>\n",
       "      <th>percent_better_than_baseline</th>\n",
       "      <th>high_variance_cv</th>\n",
       "      <th>parameters</th>\n",
       "    </tr>\n",
       "  </thead>\n",
       "  <tbody>\n",
       "    <tr>\n",
       "      <th>0</th>\n",
       "      <td>13</td>\n",
       "      <td>XGBoost Regressor w/ Imputer</td>\n",
       "      <td>13</td>\n",
       "      <td>0.998621</td>\n",
       "      <td>NaN</td>\n",
       "      <td>0.998621</td>\n",
       "      <td>7.204062e+06</td>\n",
       "      <td>False</td>\n",
       "      <td>{'Imputer': {'categorical_impute_strategy': 'm...</td>\n",
       "    </tr>\n",
       "    <tr>\n",
       "      <th>5</th>\n",
       "      <td>15</td>\n",
       "      <td>Random Forest Regressor w/ Imputer</td>\n",
       "      <td>15</td>\n",
       "      <td>0.996947</td>\n",
       "      <td>NaN</td>\n",
       "      <td>0.996947</td>\n",
       "      <td>7.191985e+06</td>\n",
       "      <td>False</td>\n",
       "      <td>{'Imputer': {'categorical_impute_strategy': 'm...</td>\n",
       "    </tr>\n",
       "    <tr>\n",
       "      <th>10</th>\n",
       "      <td>2</td>\n",
       "      <td>Decision Tree Regressor w/ Imputer</td>\n",
       "      <td>2</td>\n",
       "      <td>0.976055</td>\n",
       "      <td>NaN</td>\n",
       "      <td>0.976055</td>\n",
       "      <td>7.041270e+06</td>\n",
       "      <td>False</td>\n",
       "      <td>{'Imputer': {'categorical_impute_strategy': 'm...</td>\n",
       "    </tr>\n",
       "    <tr>\n",
       "      <th>13</th>\n",
       "      <td>4</td>\n",
       "      <td>LightGBM Regressor w/ Imputer</td>\n",
       "      <td>4</td>\n",
       "      <td>0.967309</td>\n",
       "      <td>NaN</td>\n",
       "      <td>0.967309</td>\n",
       "      <td>6.978179e+06</td>\n",
       "      <td>False</td>\n",
       "      <td>{'Imputer': {'categorical_impute_strategy': 'm...</td>\n",
       "    </tr>\n",
       "    <tr>\n",
       "      <th>16</th>\n",
       "      <td>7</td>\n",
       "      <td>Extra Trees Regressor w/ Imputer</td>\n",
       "      <td>7</td>\n",
       "      <td>0.960471</td>\n",
       "      <td>NaN</td>\n",
       "      <td>0.960471</td>\n",
       "      <td>6.928854e+06</td>\n",
       "      <td>False</td>\n",
       "      <td>{'Imputer': {'categorical_impute_strategy': 'm...</td>\n",
       "    </tr>\n",
       "    <tr>\n",
       "      <th>20</th>\n",
       "      <td>1</td>\n",
       "      <td>Linear Regressor w/ Imputer + Standard Scaler</td>\n",
       "      <td>1</td>\n",
       "      <td>0.433413</td>\n",
       "      <td>NaN</td>\n",
       "      <td>0.433413</td>\n",
       "      <td>3.126703e+06</td>\n",
       "      <td>False</td>\n",
       "      <td>{'Imputer': {'categorical_impute_strategy': 'm...</td>\n",
       "    </tr>\n",
       "    <tr>\n",
       "      <th>21</th>\n",
       "      <td>5</td>\n",
       "      <td>Elastic Net Regressor w/ Imputer + Standard Sc...</td>\n",
       "      <td>5</td>\n",
       "      <td>0.431225</td>\n",
       "      <td>NaN</td>\n",
       "      <td>0.431225</td>\n",
       "      <td>3.110916e+06</td>\n",
       "      <td>False</td>\n",
       "      <td>{'Imputer': {'categorical_impute_strategy': 'm...</td>\n",
       "    </tr>\n",
       "    <tr>\n",
       "      <th>22</th>\n",
       "      <td>8</td>\n",
       "      <td>CatBoost Regressor w/ Imputer</td>\n",
       "      <td>8</td>\n",
       "      <td>0.429633</td>\n",
       "      <td>NaN</td>\n",
       "      <td>0.429633</td>\n",
       "      <td>3.099435e+06</td>\n",
       "      <td>False</td>\n",
       "      <td>{'Imputer': {'categorical_impute_strategy': 'm...</td>\n",
       "    </tr>\n",
       "    <tr>\n",
       "      <th>23</th>\n",
       "      <td>0</td>\n",
       "      <td>Mean Baseline Regression Pipeline</td>\n",
       "      <td>0</td>\n",
       "      <td>-0.000014</td>\n",
       "      <td>NaN</td>\n",
       "      <td>-0.000014</td>\n",
       "      <td>0.000000e+00</td>\n",
       "      <td>False</td>\n",
       "      <td>{'Baseline Regressor': {'strategy': 'mean'}}</td>\n",
       "    </tr>\n",
       "  </tbody>\n",
       "</table>\n",
       "</div>"
      ],
      "text/plain": [
       "    id                                      pipeline_name  search_order  \\\n",
       "0   13                       XGBoost Regressor w/ Imputer            13   \n",
       "5   15                 Random Forest Regressor w/ Imputer            15   \n",
       "10   2                 Decision Tree Regressor w/ Imputer             2   \n",
       "13   4                      LightGBM Regressor w/ Imputer             4   \n",
       "16   7                   Extra Trees Regressor w/ Imputer             7   \n",
       "20   1      Linear Regressor w/ Imputer + Standard Scaler             1   \n",
       "21   5  Elastic Net Regressor w/ Imputer + Standard Sc...             5   \n",
       "22   8                      CatBoost Regressor w/ Imputer             8   \n",
       "23   0                  Mean Baseline Regression Pipeline             0   \n",
       "\n",
       "    mean_cv_score  standard_deviation_cv_score  validation_score  \\\n",
       "0        0.998621                          NaN          0.998621   \n",
       "5        0.996947                          NaN          0.996947   \n",
       "10       0.976055                          NaN          0.976055   \n",
       "13       0.967309                          NaN          0.967309   \n",
       "16       0.960471                          NaN          0.960471   \n",
       "20       0.433413                          NaN          0.433413   \n",
       "21       0.431225                          NaN          0.431225   \n",
       "22       0.429633                          NaN          0.429633   \n",
       "23      -0.000014                          NaN         -0.000014   \n",
       "\n",
       "    percent_better_than_baseline  high_variance_cv  \\\n",
       "0                   7.204062e+06             False   \n",
       "5                   7.191985e+06             False   \n",
       "10                  7.041270e+06             False   \n",
       "13                  6.978179e+06             False   \n",
       "16                  6.928854e+06             False   \n",
       "20                  3.126703e+06             False   \n",
       "21                  3.110916e+06             False   \n",
       "22                  3.099435e+06             False   \n",
       "23                  0.000000e+00             False   \n",
       "\n",
       "                                           parameters  \n",
       "0   {'Imputer': {'categorical_impute_strategy': 'm...  \n",
       "5   {'Imputer': {'categorical_impute_strategy': 'm...  \n",
       "10  {'Imputer': {'categorical_impute_strategy': 'm...  \n",
       "13  {'Imputer': {'categorical_impute_strategy': 'm...  \n",
       "16  {'Imputer': {'categorical_impute_strategy': 'm...  \n",
       "20  {'Imputer': {'categorical_impute_strategy': 'm...  \n",
       "21  {'Imputer': {'categorical_impute_strategy': 'm...  \n",
       "22  {'Imputer': {'categorical_impute_strategy': 'm...  \n",
       "23       {'Baseline Regressor': {'strategy': 'mean'}}  "
      ]
     },
     "execution_count": 31,
     "metadata": {},
     "output_type": "execute_result"
    }
   ],
   "source": [
    "# check leaderboard\n",
    "model_evalml.rankings"
   ]
  },
  {
   "cell_type": "code",
   "execution_count": 32,
   "id": "55676b2c",
   "metadata": {
    "execution": {
     "iopub.execute_input": "2022-06-26T17:33:31.609854Z",
     "iopub.status.busy": "2022-06-26T17:33:31.609457Z",
     "iopub.status.idle": "2022-06-26T17:33:31.616786Z",
     "shell.execute_reply": "2022-06-26T17:33:31.615567Z"
    },
    "papermill": {
     "duration": 0.029169,
     "end_time": "2022-06-26T17:33:31.619057",
     "exception": false,
     "start_time": "2022-06-26T17:33:31.589888",
     "status": "completed"
    },
    "tags": []
   },
   "outputs": [],
   "source": [
    "import math\n",
    "from sklearn.metrics import r2_score, mean_squared_error, mean_absolute_error\n",
    "\n",
    "def evaluates_model(y_test, y_pred):\n",
    "    print(\"*\"*12, \"Evaluations\", \"*\"*12, '\\n')\n",
    "    \n",
    "    print(\"MAE model :\", mean_absolute_error(y_test, y_pred))\n",
    "    \n",
    "    print(\"MSE model :\", mean_squared_error(y_test, y_pred))\n",
    "    \n",
    "    print(\"R2_Score model :\", r2_score(y_test, y_pred))\n",
    "    \n",
    "    mse_1 = np.square(np.subtract(y_test,y_pred)).mean() \n",
    "    \n",
    "    print(\"RMSE model :\", math.sqrt(mse_1))"
   ]
  },
  {
   "cell_type": "code",
   "execution_count": 33,
   "id": "a7374940",
   "metadata": {
    "execution": {
     "iopub.execute_input": "2022-06-26T17:33:31.657307Z",
     "iopub.status.busy": "2022-06-26T17:33:31.656884Z",
     "iopub.status.idle": "2022-06-26T17:33:31.670048Z",
     "shell.execute_reply": "2022-06-26T17:33:31.668895Z"
    },
    "papermill": {
     "duration": 0.034935,
     "end_time": "2022-06-26T17:33:31.672387",
     "exception": false,
     "start_time": "2022-06-26T17:33:31.637452",
     "status": "completed"
    },
    "tags": []
   },
   "outputs": [
    {
     "data": {
      "text/plain": [
       "pipeline = RegressionPipeline(component_graph={'Imputer': ['Imputer'], 'XGBoost Regressor': ['XGBoost Regressor', 'Imputer.x']}, parameters={'Imputer':{'categorical_impute_strategy': 'most_frequent', 'numeric_impute_strategy': 'mean', 'categorical_fill_value': None, 'numeric_fill_value': None}, 'XGBoost Regressor':{'eta': 0.05671392060446587, 'max_depth': 13, 'min_child_weight': 4.450973669432, 'n_estimators': 487, 'n_jobs': -1}}, random_seed=0)"
      ]
     },
     "execution_count": 33,
     "metadata": {},
     "output_type": "execute_result"
    }
   ],
   "source": [
    "model_evalml.best_pipeline"
   ]
  },
  {
   "cell_type": "code",
   "execution_count": 34,
   "id": "67d7e8bf",
   "metadata": {
    "execution": {
     "iopub.execute_input": "2022-06-26T17:33:31.711848Z",
     "iopub.status.busy": "2022-06-26T17:33:31.711440Z",
     "iopub.status.idle": "2022-06-26T17:33:31.854885Z",
     "shell.execute_reply": "2022-06-26T17:33:31.853658Z"
    },
    "papermill": {
     "duration": 0.165863,
     "end_time": "2022-06-26T17:33:31.857422",
     "exception": false,
     "start_time": "2022-06-26T17:33:31.691559",
     "status": "completed"
    },
    "tags": []
   },
   "outputs": [
    {
     "name": "stdout",
     "output_type": "stream",
     "text": [
      "************ Evaluations ************ \n",
      "\n",
      "MAE model : 13.526964086676042\n",
      "MSE model : 588.5816316468857\n",
      "R2_Score model : 0.9994887181714366\n",
      "RMSE model : 291.5135192871094\n"
     ]
    }
   ],
   "source": [
    "pred = model_evalml.best_pipeline.predict(X_test)\n",
    "evaluates_model(y_test, pred)"
   ]
  },
  {
   "cell_type": "code",
   "execution_count": null,
   "id": "bbc04075",
   "metadata": {
    "papermill": {
     "duration": 0.01898,
     "end_time": "2022-06-26T17:33:31.894723",
     "exception": false,
     "start_time": "2022-06-26T17:33:31.875743",
     "status": "completed"
    },
    "tags": []
   },
   "outputs": [],
   "source": []
  },
  {
   "cell_type": "markdown",
   "id": "d8b245f3",
   "metadata": {
    "papermill": {
     "duration": 0.018208,
     "end_time": "2022-06-26T17:33:31.931985",
     "exception": false,
     "start_time": "2022-06-26T17:33:31.913777",
     "status": "completed"
    },
    "tags": []
   },
   "source": [
    "# Test Prediction"
   ]
  },
  {
   "cell_type": "code",
   "execution_count": 35,
   "id": "af8712fa",
   "metadata": {
    "execution": {
     "iopub.execute_input": "2022-06-26T17:33:31.970391Z",
     "iopub.status.busy": "2022-06-26T17:33:31.969992Z",
     "iopub.status.idle": "2022-06-26T17:33:40.305337Z",
     "shell.execute_reply": "2022-06-26T17:33:40.304132Z"
    },
    "papermill": {
     "duration": 8.357504,
     "end_time": "2022-06-26T17:33:40.307838",
     "exception": false,
     "start_time": "2022-06-26T17:33:31.950334",
     "status": "completed"
    },
    "tags": []
   },
   "outputs": [
    {
     "data": {
      "text/plain": [
       "(60870, (60870, 11))"
      ]
     },
     "execution_count": 35,
     "metadata": {},
     "output_type": "execute_result"
    }
   ],
   "source": [
    "pred = model_evalml.best_pipeline.predict(test)\n",
    "len(pred), test.shape"
   ]
  },
  {
   "cell_type": "markdown",
   "id": "522a45d7",
   "metadata": {
    "papermill": {
     "duration": 0.019189,
     "end_time": "2022-06-26T17:33:40.345624",
     "exception": false,
     "start_time": "2022-06-26T17:33:40.326435",
     "status": "completed"
    },
    "tags": []
   },
   "source": [
    "# Submission"
   ]
  },
  {
   "cell_type": "code",
   "execution_count": 36,
   "id": "9483e3d6",
   "metadata": {
    "execution": {
     "iopub.execute_input": "2022-06-26T17:33:40.385264Z",
     "iopub.status.busy": "2022-06-26T17:33:40.384486Z",
     "iopub.status.idle": "2022-06-26T17:33:40.427649Z",
     "shell.execute_reply": "2022-06-26T17:33:40.426367Z"
    },
    "papermill": {
     "duration": 0.065548,
     "end_time": "2022-06-26T17:33:40.430164",
     "exception": false,
     "start_time": "2022-06-26T17:33:40.364616",
     "status": "completed"
    },
    "tags": []
   },
   "outputs": [
    {
     "data": {
      "text/plain": [
       "(60870, 2)"
      ]
     },
     "execution_count": 36,
     "metadata": {},
     "output_type": "execute_result"
    }
   ],
   "source": [
    "sub = pd.read_csv(\"../input/rte-forecast-energy-consumption-in-french-areas/sample_submission.csv\")\n",
    "sub.shape"
   ]
  },
  {
   "cell_type": "code",
   "execution_count": 37,
   "id": "522c5106",
   "metadata": {
    "execution": {
     "iopub.execute_input": "2022-06-26T17:33:40.470045Z",
     "iopub.status.busy": "2022-06-26T17:33:40.468889Z",
     "iopub.status.idle": "2022-06-26T17:33:56.613913Z",
     "shell.execute_reply": "2022-06-26T17:33:56.612653Z"
    },
    "papermill": {
     "duration": 16.16748,
     "end_time": "2022-06-26T17:33:56.616484",
     "exception": false,
     "start_time": "2022-06-26T17:33:40.449004",
     "status": "completed"
    },
    "tags": []
   },
   "outputs": [
    {
     "name": "stdout",
     "output_type": "stream",
     "text": [
      "Requirement already satisfied: pandas in /opt/conda/lib/python3.7/site-packages (1.2.4)\r\n",
      "Collecting pandas\r\n",
      "  Downloading pandas-1.3.5-cp37-cp37m-manylinux_2_17_x86_64.manylinux2014_x86_64.whl (11.3 MB)\r\n",
      "\u001b[2K     \u001b[90m━━━━━━━━━━━━━━━━━━━━━━━━━━━━━━━━━━━━━━━━\u001b[0m \u001b[32m11.3/11.3 MB\u001b[0m \u001b[31m21.3 MB/s\u001b[0m eta \u001b[36m0:00:00\u001b[0m\r\n",
      "\u001b[?25hRequirement already satisfied: pytz>=2017.3 in /opt/conda/lib/python3.7/site-packages (from pandas) (2022.1)\r\n",
      "Requirement already satisfied: numpy>=1.17.3 in /opt/conda/lib/python3.7/site-packages (from pandas) (1.21.6)\r\n",
      "Requirement already satisfied: python-dateutil>=2.7.3 in /opt/conda/lib/python3.7/site-packages (from pandas) (2.8.2)\r\n",
      "Requirement already satisfied: six>=1.5 in /opt/conda/lib/python3.7/site-packages (from python-dateutil>=2.7.3->pandas) (1.16.0)\r\n",
      "Installing collected packages: pandas\r\n",
      "  Attempting uninstall: pandas\r\n",
      "    Found existing installation: pandas 1.2.4\r\n",
      "    Uninstalling pandas-1.2.4:\r\n",
      "      Successfully uninstalled pandas-1.2.4\r\n",
      "\u001b[31mERROR: pip's dependency resolver does not currently take into account all the packages that are installed. This behaviour is the source of the following dependency conflicts.\r\n",
      "beatrix-jupyterlab 3.1.7 requires google-cloud-bigquery-storage, which is not installed.\r\n",
      "woodwork 0.4.2 requires pandas<1.2.5,>=1.2.0, but you have pandas 1.3.5 which is incompatible.\r\n",
      "tfx-bsl 1.8.0 requires google-api-python-client<2,>=1.7.11, but you have google-api-python-client 2.48.0 which is incompatible.\r\n",
      "tfx-bsl 1.8.0 requires pyarrow<6,>=1, but you have pyarrow 8.0.0 which is incompatible.\r\n",
      "tfx-bsl 1.8.0 requires tensorflow!=2.0.*,!=2.1.*,!=2.2.*,!=2.3.*,!=2.4.*,!=2.5.*,!=2.6.*,!=2.7.*,<3,>=1.15.5, but you have tensorflow 2.6.4 which is incompatible.\r\n",
      "tensorflow-transform 1.8.0 requires pyarrow<6,>=1, but you have pyarrow 8.0.0 which is incompatible.\r\n",
      "tensorflow-transform 1.8.0 requires tensorflow!=2.0.*,!=2.1.*,!=2.2.*,!=2.3.*,!=2.4.*,!=2.5.*,!=2.6.*,!=2.7.*,<2.9,>=1.15.5, but you have tensorflow 2.6.4 which is incompatible.\r\n",
      "pdpbox 0.2.1 requires matplotlib==3.1.1, but you have matplotlib 3.5.2 which is incompatible.\u001b[0m\u001b[31m\r\n",
      "\u001b[0mSuccessfully installed pandas-1.3.5\r\n",
      "\u001b[33mWARNING: Running pip as the 'root' user can result in broken permissions and conflicting behaviour with the system package manager. It is recommended to use a virtual environment instead: https://pip.pypa.io/warnings/venv\u001b[0m\u001b[33m\r\n",
      "\u001b[0m"
     ]
    }
   ],
   "source": [
    "!pip install pandas -U\n",
    "import pandas as pd"
   ]
  },
  {
   "cell_type": "code",
   "execution_count": 38,
   "id": "fff49f60",
   "metadata": {
    "execution": {
     "iopub.execute_input": "2022-06-26T17:33:56.659085Z",
     "iopub.status.busy": "2022-06-26T17:33:56.658025Z",
     "iopub.status.idle": "2022-06-26T17:33:56.806519Z",
     "shell.execute_reply": "2022-06-26T17:33:56.805228Z"
    },
    "papermill": {
     "duration": 0.172637,
     "end_time": "2022-06-26T17:33:56.809079",
     "exception": false,
     "start_time": "2022-06-26T17:33:56.636442",
     "status": "completed"
    },
    "tags": []
   },
   "outputs": [],
   "source": [
    "sub['energy_consumption'] = pred\n",
    "sub.to_csv('submission.csv', index=False)"
   ]
  },
  {
   "cell_type": "code",
   "execution_count": 39,
   "id": "1d449259",
   "metadata": {
    "execution": {
     "iopub.execute_input": "2022-06-26T17:33:56.852115Z",
     "iopub.status.busy": "2022-06-26T17:33:56.851748Z",
     "iopub.status.idle": "2022-06-26T17:33:56.867195Z",
     "shell.execute_reply": "2022-06-26T17:33:56.866004Z"
    },
    "papermill": {
     "duration": 0.039952,
     "end_time": "2022-06-26T17:33:56.869432",
     "exception": false,
     "start_time": "2022-06-26T17:33:56.829480",
     "status": "completed"
    },
    "tags": []
   },
   "outputs": [
    {
     "data": {
      "text/html": [
       "<div>\n",
       "<style scoped>\n",
       "    .dataframe tbody tr th:only-of-type {\n",
       "        vertical-align: middle;\n",
       "    }\n",
       "\n",
       "    .dataframe tbody tr th {\n",
       "        vertical-align: top;\n",
       "    }\n",
       "\n",
       "    .dataframe thead th {\n",
       "        text-align: right;\n",
       "    }\n",
       "</style>\n",
       "<table border=\"1\" class=\"dataframe\">\n",
       "  <thead>\n",
       "    <tr style=\"text-align: right;\">\n",
       "      <th></th>\n",
       "      <th>id</th>\n",
       "      <th>energy_consumption</th>\n",
       "    </tr>\n",
       "  </thead>\n",
       "  <tbody>\n",
       "    <tr>\n",
       "      <th>0</th>\n",
       "      <td>0</td>\n",
       "      <td>777.613831</td>\n",
       "    </tr>\n",
       "    <tr>\n",
       "      <th>1</th>\n",
       "      <td>1</td>\n",
       "      <td>797.869446</td>\n",
       "    </tr>\n",
       "    <tr>\n",
       "      <th>2</th>\n",
       "      <td>2</td>\n",
       "      <td>790.243530</td>\n",
       "    </tr>\n",
       "    <tr>\n",
       "      <th>3</th>\n",
       "      <td>3</td>\n",
       "      <td>780.007751</td>\n",
       "    </tr>\n",
       "    <tr>\n",
       "      <th>4</th>\n",
       "      <td>4</td>\n",
       "      <td>793.317627</td>\n",
       "    </tr>\n",
       "    <tr>\n",
       "      <th>...</th>\n",
       "      <td>...</td>\n",
       "      <td>...</td>\n",
       "    </tr>\n",
       "    <tr>\n",
       "      <th>60865</th>\n",
       "      <td>60865</td>\n",
       "      <td>357.377563</td>\n",
       "    </tr>\n",
       "    <tr>\n",
       "      <th>60866</th>\n",
       "      <td>60866</td>\n",
       "      <td>347.469269</td>\n",
       "    </tr>\n",
       "    <tr>\n",
       "      <th>60867</th>\n",
       "      <td>60867</td>\n",
       "      <td>395.113251</td>\n",
       "    </tr>\n",
       "    <tr>\n",
       "      <th>60868</th>\n",
       "      <td>60868</td>\n",
       "      <td>390.989990</td>\n",
       "    </tr>\n",
       "    <tr>\n",
       "      <th>60869</th>\n",
       "      <td>60869</td>\n",
       "      <td>387.413849</td>\n",
       "    </tr>\n",
       "  </tbody>\n",
       "</table>\n",
       "<p>60870 rows × 2 columns</p>\n",
       "</div>"
      ],
      "text/plain": [
       "          id  energy_consumption\n",
       "0          0          777.613831\n",
       "1          1          797.869446\n",
       "2          2          790.243530\n",
       "3          3          780.007751\n",
       "4          4          793.317627\n",
       "...      ...                 ...\n",
       "60865  60865          357.377563\n",
       "60866  60866          347.469269\n",
       "60867  60867          395.113251\n",
       "60868  60868          390.989990\n",
       "60869  60869          387.413849\n",
       "\n",
       "[60870 rows x 2 columns]"
      ]
     },
     "execution_count": 39,
     "metadata": {},
     "output_type": "execute_result"
    }
   ],
   "source": [
    "sub"
   ]
  },
  {
   "cell_type": "code",
   "execution_count": null,
   "id": "d4833a45",
   "metadata": {
    "papermill": {
     "duration": 0.019789,
     "end_time": "2022-06-26T17:33:56.910072",
     "exception": false,
     "start_time": "2022-06-26T17:33:56.890283",
     "status": "completed"
    },
    "tags": []
   },
   "outputs": [],
   "source": []
  }
 ],
 "metadata": {
  "kernelspec": {
   "display_name": "Python 3",
   "language": "python",
   "name": "python3"
  },
  "language_info": {
   "codemirror_mode": {
    "name": "ipython",
    "version": 3
   },
   "file_extension": ".py",
   "mimetype": "text/x-python",
   "name": "python",
   "nbconvert_exporter": "python",
   "pygments_lexer": "ipython3",
   "version": "3.7.12"
  },
  "papermill": {
   "default_parameters": {},
   "duration": 4490.789433,
   "end_time": "2022-06-26T17:33:59.366687",
   "environment_variables": {},
   "exception": null,
   "input_path": "__notebook__.ipynb",
   "output_path": "__notebook__.ipynb",
   "parameters": {},
   "start_time": "2022-06-26T16:19:08.577254",
   "version": "2.3.4"
  },
  "widgets": {
   "application/vnd.jupyter.widget-state+json": {
    "state": {
     "a772a613a98c4d6a99105b31044e1469": {
      "model_module": "jupyterlab-plotly",
      "model_module_version": "^5.8.2",
      "model_name": "FigureModel",
      "state": {
       "_config": {
        "plotlyServerURL": "https://plot.ly"
       },
       "_data": [
        {
         "mode": "lines+markers",
         "name": "Best Score",
         "type": "scatter",
         "uid": "28880ca4-ff83-4fc2-9d3c-494718cd7a29",
         "x": [],
         "y": []
        },
        {
         "marker": {
          "color": "gray"
         },
         "mode": "markers",
         "name": "Iter score",
         "type": "scatter",
         "uid": "ef1f9823-e0d8-4a43-b00b-d05158e9795f",
         "x": [],
         "y": []
        }
       ],
       "_dom_classes": [],
       "_js2py_layoutDelta": {},
       "_js2py_pointsCallback": {},
       "_js2py_relayout": {},
       "_js2py_restyle": {},
       "_js2py_traceDeltas": {},
       "_js2py_update": {},
       "_last_layout_edit_id": 97,
       "_last_trace_edit_id": 97,
       "_layout": {
        "title": {
         "text": "Pipeline Search: Iteration vs. R2<br><sub>Gray marker indicates the score at current iteration</sub>"
        },
        "xaxis": {
         "rangemode": "tozero",
         "title": {
          "text": "Iteration"
         }
        },
        "yaxis": {
         "title": {
          "text": "Score"
         }
        }
       },
       "_model_module": "jupyterlab-plotly",
       "_model_module_version": "^5.8.2",
       "_model_name": "FigureModel",
       "_py2js_addTraces": {},
       "_py2js_animate": {},
       "_py2js_deleteTraces": {},
       "_py2js_moveTraces": {},
       "_py2js_relayout": null,
       "_py2js_removeLayoutProps": {},
       "_py2js_removeTraceProps": {},
       "_py2js_restyle": null,
       "_py2js_update": null,
       "_view_count": 0,
       "_view_module": "jupyterlab-plotly",
       "_view_module_version": "^5.8.2",
       "_view_name": "FigureView"
      }
     }
    },
    "version_major": 2,
    "version_minor": 0
   }
  }
 },
 "nbformat": 4,
 "nbformat_minor": 5
}
